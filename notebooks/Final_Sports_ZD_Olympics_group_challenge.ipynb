{
 "cells": [
  {
   "cell_type": "code",
   "execution_count": 1,
   "metadata": {
    "id": "T7vg4xnxBSCH"
   },
   "outputs": [],
   "source": [
    "import pandas as pd\n",
    "import numpy as np"
   ]
  },
  {
   "cell_type": "code",
   "execution_count": 6,
   "metadata": {
    "id": "3x5a_6BcAyNG"
   },
   "outputs": [],
   "source": [
    "df = pd.read_csv(\"../data/raw/athlete_events.csv\")"
   ]
  },
  {
   "cell_type": "code",
   "execution_count": 7,
   "metadata": {
    "colab": {
     "base_uri": "https://localhost:8080/",
     "height": 965
    },
    "id": "Qc-z4tvHBWKm",
    "outputId": "0f89763d-d51e-4ab2-e04f-d0d7a6ee4629"
   },
   "outputs": [
    {
     "data": {
      "text/html": [
       "<div>\n",
       "<style scoped>\n",
       "    .dataframe tbody tr th:only-of-type {\n",
       "        vertical-align: middle;\n",
       "    }\n",
       "\n",
       "    .dataframe tbody tr th {\n",
       "        vertical-align: top;\n",
       "    }\n",
       "\n",
       "    .dataframe thead th {\n",
       "        text-align: right;\n",
       "    }\n",
       "</style>\n",
       "<table border=\"1\" class=\"dataframe\">\n",
       "  <thead>\n",
       "    <tr style=\"text-align: right;\">\n",
       "      <th></th>\n",
       "      <th>ID</th>\n",
       "      <th>Name</th>\n",
       "      <th>Sex</th>\n",
       "      <th>Age</th>\n",
       "      <th>Height</th>\n",
       "      <th>Weight</th>\n",
       "      <th>Team</th>\n",
       "      <th>NOC</th>\n",
       "      <th>Games</th>\n",
       "      <th>Year</th>\n",
       "      <th>Season</th>\n",
       "      <th>City</th>\n",
       "      <th>Sport</th>\n",
       "      <th>Event</th>\n",
       "      <th>Medal</th>\n",
       "    </tr>\n",
       "  </thead>\n",
       "  <tbody>\n",
       "    <tr>\n",
       "      <th>0</th>\n",
       "      <td>1</td>\n",
       "      <td>A Dijiang</td>\n",
       "      <td>M</td>\n",
       "      <td>24.0</td>\n",
       "      <td>180.0</td>\n",
       "      <td>80.0</td>\n",
       "      <td>China</td>\n",
       "      <td>CHN</td>\n",
       "      <td>1992 Summer</td>\n",
       "      <td>1992</td>\n",
       "      <td>Summer</td>\n",
       "      <td>Barcelona</td>\n",
       "      <td>Basketball</td>\n",
       "      <td>Basketball Men's Basketball</td>\n",
       "      <td>NaN</td>\n",
       "    </tr>\n",
       "    <tr>\n",
       "      <th>1</th>\n",
       "      <td>2</td>\n",
       "      <td>A Lamusi</td>\n",
       "      <td>M</td>\n",
       "      <td>23.0</td>\n",
       "      <td>170.0</td>\n",
       "      <td>60.0</td>\n",
       "      <td>China</td>\n",
       "      <td>CHN</td>\n",
       "      <td>2012 Summer</td>\n",
       "      <td>2012</td>\n",
       "      <td>Summer</td>\n",
       "      <td>London</td>\n",
       "      <td>Judo</td>\n",
       "      <td>Judo Men's Extra-Lightweight</td>\n",
       "      <td>NaN</td>\n",
       "    </tr>\n",
       "    <tr>\n",
       "      <th>2</th>\n",
       "      <td>3</td>\n",
       "      <td>Gunnar Nielsen Aaby</td>\n",
       "      <td>M</td>\n",
       "      <td>24.0</td>\n",
       "      <td>NaN</td>\n",
       "      <td>NaN</td>\n",
       "      <td>Denmark</td>\n",
       "      <td>DEN</td>\n",
       "      <td>1920 Summer</td>\n",
       "      <td>1920</td>\n",
       "      <td>Summer</td>\n",
       "      <td>Antwerpen</td>\n",
       "      <td>Football</td>\n",
       "      <td>Football Men's Football</td>\n",
       "      <td>NaN</td>\n",
       "    </tr>\n",
       "    <tr>\n",
       "      <th>3</th>\n",
       "      <td>4</td>\n",
       "      <td>Edgar Lindenau Aabye</td>\n",
       "      <td>M</td>\n",
       "      <td>34.0</td>\n",
       "      <td>NaN</td>\n",
       "      <td>NaN</td>\n",
       "      <td>Denmark/Sweden</td>\n",
       "      <td>DEN</td>\n",
       "      <td>1900 Summer</td>\n",
       "      <td>1900</td>\n",
       "      <td>Summer</td>\n",
       "      <td>Paris</td>\n",
       "      <td>Tug-Of-War</td>\n",
       "      <td>Tug-Of-War Men's Tug-Of-War</td>\n",
       "      <td>Gold</td>\n",
       "    </tr>\n",
       "    <tr>\n",
       "      <th>4</th>\n",
       "      <td>5</td>\n",
       "      <td>Christine Jacoba Aaftink</td>\n",
       "      <td>F</td>\n",
       "      <td>21.0</td>\n",
       "      <td>185.0</td>\n",
       "      <td>82.0</td>\n",
       "      <td>Netherlands</td>\n",
       "      <td>NED</td>\n",
       "      <td>1988 Winter</td>\n",
       "      <td>1988</td>\n",
       "      <td>Winter</td>\n",
       "      <td>Calgary</td>\n",
       "      <td>Speed Skating</td>\n",
       "      <td>Speed Skating Women's 500 metres</td>\n",
       "      <td>NaN</td>\n",
       "    </tr>\n",
       "    <tr>\n",
       "      <th>5</th>\n",
       "      <td>5</td>\n",
       "      <td>Christine Jacoba Aaftink</td>\n",
       "      <td>F</td>\n",
       "      <td>21.0</td>\n",
       "      <td>185.0</td>\n",
       "      <td>82.0</td>\n",
       "      <td>Netherlands</td>\n",
       "      <td>NED</td>\n",
       "      <td>1988 Winter</td>\n",
       "      <td>1988</td>\n",
       "      <td>Winter</td>\n",
       "      <td>Calgary</td>\n",
       "      <td>Speed Skating</td>\n",
       "      <td>Speed Skating Women's 1,000 metres</td>\n",
       "      <td>NaN</td>\n",
       "    </tr>\n",
       "    <tr>\n",
       "      <th>6</th>\n",
       "      <td>5</td>\n",
       "      <td>Christine Jacoba Aaftink</td>\n",
       "      <td>F</td>\n",
       "      <td>25.0</td>\n",
       "      <td>185.0</td>\n",
       "      <td>82.0</td>\n",
       "      <td>Netherlands</td>\n",
       "      <td>NED</td>\n",
       "      <td>1992 Winter</td>\n",
       "      <td>1992</td>\n",
       "      <td>Winter</td>\n",
       "      <td>Albertville</td>\n",
       "      <td>Speed Skating</td>\n",
       "      <td>Speed Skating Women's 500 metres</td>\n",
       "      <td>NaN</td>\n",
       "    </tr>\n",
       "    <tr>\n",
       "      <th>7</th>\n",
       "      <td>5</td>\n",
       "      <td>Christine Jacoba Aaftink</td>\n",
       "      <td>F</td>\n",
       "      <td>25.0</td>\n",
       "      <td>185.0</td>\n",
       "      <td>82.0</td>\n",
       "      <td>Netherlands</td>\n",
       "      <td>NED</td>\n",
       "      <td>1992 Winter</td>\n",
       "      <td>1992</td>\n",
       "      <td>Winter</td>\n",
       "      <td>Albertville</td>\n",
       "      <td>Speed Skating</td>\n",
       "      <td>Speed Skating Women's 1,000 metres</td>\n",
       "      <td>NaN</td>\n",
       "    </tr>\n",
       "    <tr>\n",
       "      <th>8</th>\n",
       "      <td>5</td>\n",
       "      <td>Christine Jacoba Aaftink</td>\n",
       "      <td>F</td>\n",
       "      <td>27.0</td>\n",
       "      <td>185.0</td>\n",
       "      <td>82.0</td>\n",
       "      <td>Netherlands</td>\n",
       "      <td>NED</td>\n",
       "      <td>1994 Winter</td>\n",
       "      <td>1994</td>\n",
       "      <td>Winter</td>\n",
       "      <td>Lillehammer</td>\n",
       "      <td>Speed Skating</td>\n",
       "      <td>Speed Skating Women's 500 metres</td>\n",
       "      <td>NaN</td>\n",
       "    </tr>\n",
       "    <tr>\n",
       "      <th>9</th>\n",
       "      <td>5</td>\n",
       "      <td>Christine Jacoba Aaftink</td>\n",
       "      <td>F</td>\n",
       "      <td>27.0</td>\n",
       "      <td>185.0</td>\n",
       "      <td>82.0</td>\n",
       "      <td>Netherlands</td>\n",
       "      <td>NED</td>\n",
       "      <td>1994 Winter</td>\n",
       "      <td>1994</td>\n",
       "      <td>Winter</td>\n",
       "      <td>Lillehammer</td>\n",
       "      <td>Speed Skating</td>\n",
       "      <td>Speed Skating Women's 1,000 metres</td>\n",
       "      <td>NaN</td>\n",
       "    </tr>\n",
       "  </tbody>\n",
       "</table>\n",
       "</div>"
      ],
      "text/plain": [
       "   ID                      Name Sex   Age  Height  Weight            Team  \\\n",
       "0   1                 A Dijiang   M  24.0   180.0    80.0           China   \n",
       "1   2                  A Lamusi   M  23.0   170.0    60.0           China   \n",
       "2   3       Gunnar Nielsen Aaby   M  24.0     NaN     NaN         Denmark   \n",
       "3   4      Edgar Lindenau Aabye   M  34.0     NaN     NaN  Denmark/Sweden   \n",
       "4   5  Christine Jacoba Aaftink   F  21.0   185.0    82.0     Netherlands   \n",
       "5   5  Christine Jacoba Aaftink   F  21.0   185.0    82.0     Netherlands   \n",
       "6   5  Christine Jacoba Aaftink   F  25.0   185.0    82.0     Netherlands   \n",
       "7   5  Christine Jacoba Aaftink   F  25.0   185.0    82.0     Netherlands   \n",
       "8   5  Christine Jacoba Aaftink   F  27.0   185.0    82.0     Netherlands   \n",
       "9   5  Christine Jacoba Aaftink   F  27.0   185.0    82.0     Netherlands   \n",
       "\n",
       "   NOC        Games  Year  Season         City          Sport  \\\n",
       "0  CHN  1992 Summer  1992  Summer    Barcelona     Basketball   \n",
       "1  CHN  2012 Summer  2012  Summer       London           Judo   \n",
       "2  DEN  1920 Summer  1920  Summer    Antwerpen       Football   \n",
       "3  DEN  1900 Summer  1900  Summer        Paris     Tug-Of-War   \n",
       "4  NED  1988 Winter  1988  Winter      Calgary  Speed Skating   \n",
       "5  NED  1988 Winter  1988  Winter      Calgary  Speed Skating   \n",
       "6  NED  1992 Winter  1992  Winter  Albertville  Speed Skating   \n",
       "7  NED  1992 Winter  1992  Winter  Albertville  Speed Skating   \n",
       "8  NED  1994 Winter  1994  Winter  Lillehammer  Speed Skating   \n",
       "9  NED  1994 Winter  1994  Winter  Lillehammer  Speed Skating   \n",
       "\n",
       "                                Event Medal  \n",
       "0         Basketball Men's Basketball   NaN  \n",
       "1        Judo Men's Extra-Lightweight   NaN  \n",
       "2             Football Men's Football   NaN  \n",
       "3         Tug-Of-War Men's Tug-Of-War  Gold  \n",
       "4    Speed Skating Women's 500 metres   NaN  \n",
       "5  Speed Skating Women's 1,000 metres   NaN  \n",
       "6    Speed Skating Women's 500 metres   NaN  \n",
       "7  Speed Skating Women's 1,000 metres   NaN  \n",
       "8    Speed Skating Women's 500 metres   NaN  \n",
       "9  Speed Skating Women's 1,000 metres   NaN  "
      ]
     },
     "execution_count": 7,
     "metadata": {},
     "output_type": "execute_result"
    }
   ],
   "source": [
    "df.head(10)"
   ]
  },
  {
   "cell_type": "code",
   "execution_count": 8,
   "metadata": {
    "id": "ridkkE_WNpWL"
   },
   "outputs": [],
   "source": [
    "df = df.drop([\"ID\", \"Name\", \"Team\", \"Games\", \"City\", \"Event\"], axis=1)"
   ]
  },
  {
   "cell_type": "code",
   "execution_count": 9,
   "metadata": {
    "id": "hvpE4buVBd0-"
   },
   "outputs": [],
   "source": [
    "df = df[df[\"Year\"] > 1959]"
   ]
  },
  {
   "cell_type": "code",
   "execution_count": 10,
   "metadata": {
    "colab": {
     "base_uri": "https://localhost:8080/"
    },
    "id": "neVIWQlDHeMP",
    "outputId": "855b1ad1-11bb-4be0-d037-e1ca9dcfc28e"
   },
   "outputs": [
    {
     "name": "stdout",
     "output_type": "stream",
     "text": [
      "shape is (209072, 9)\n"
     ]
    }
   ],
   "source": [
    "df['Medal'] = df['Medal'].replace(np.nan, 0)\n",
    "df['Medal'].unique()\n",
    "print(f'shape is {df.shape}')"
   ]
  },
  {
   "cell_type": "code",
   "execution_count": 11,
   "metadata": {
    "colab": {
     "base_uri": "https://localhost:8080/"
    },
    "id": "sayRU7FdCreK",
    "outputId": "4bde7fe2-7113-431d-8189-0d2c50e3a79e"
   },
   "outputs": [
    {
     "name": "stdout",
     "output_type": "stream",
     "text": [
      "shape is (196084, 9)\n"
     ]
    }
   ],
   "source": [
    "df = df.dropna()\n",
    "print(f'shape is {df.shape}')"
   ]
  },
  {
   "cell_type": "markdown",
   "metadata": {
    "id": "PlfZlMIk4k6B"
   },
   "source": [
    "### Selecting sport categories"
   ]
  },
  {
   "cell_type": "markdown",
   "metadata": {
    "id": "H8Ix2Xdd4omZ"
   },
   "source": [
    "### Converting medal names into medal (1) or no medal (0)"
   ]
  },
  {
   "cell_type": "code",
   "execution_count": 12,
   "metadata": {
    "colab": {
     "base_uri": "https://localhost:8080/"
    },
    "id": "JJw16Ejxc3RN",
    "outputId": "87ff018a-d827-4f61-e07f-a9441ac48f3d"
   },
   "outputs": [
    {
     "data": {
      "text/plain": [
       "0    168346\n",
       "1     27738\n",
       "Name: Medal, dtype: int64"
      ]
     },
     "execution_count": 12,
     "metadata": {},
     "output_type": "execute_result"
    }
   ],
   "source": [
    "df = df.replace([\"Gold\", \"Silver\", \"Bronze\"], 1)\n",
    "\n",
    "df.Medal.value_counts()"
   ]
  },
  {
   "cell_type": "code",
   "execution_count": 13,
   "metadata": {
    "colab": {
     "base_uri": "https://localhost:8080/"
    },
    "id": "VgkXPcupXqIS",
    "outputId": "0edeff4b-8715-4155-ab7e-c7524037e951"
   },
   "outputs": [
    {
     "data": {
      "text/plain": [
       "Sport\n",
       "Athletics                    27351\n",
       "Swimming                     18494\n",
       "Gymnastics                   17196\n",
       "Cycling                       7591\n",
       "Rowing                        7516\n",
       "Cross Country Skiing          7332\n",
       "Shooting                      7030\n",
       "Alpine Skiing                 6159\n",
       "Fencing                       6087\n",
       "Canoeing                      5432\n",
       "Wrestling                     4962\n",
       "Sailing                       4704\n",
       "Biathlon                      4615\n",
       "Ice Hockey                    4389\n",
       "Equestrianism                 4339\n",
       "Speed Skating                 4306\n",
       "Boxing                        4241\n",
       "Football                      4205\n",
       "Hockey                        4160\n",
       "Basketball                    3494\n",
       "Judo                          3366\n",
       "Handball                      3317\n",
       "Volleyball                    3277\n",
       "Weightlifting                 2852\n",
       "Water Polo                    2638\n",
       "Bobsleigh                     2158\n",
       "Tennis                        1991\n",
       "Diving                        1951\n",
       "Ski Jumping                   1925\n",
       "Archery                       1883\n",
       "Table Tennis                  1789\n",
       "Short Track Speed Skating     1488\n",
       "Figure Skating                1480\n",
       "Luge                          1377\n",
       "Badminton                     1362\n",
       "Modern Pentathlon             1207\n",
       "Nordic Combined               1035\n",
       "Snowboarding                   924\n",
       "Freestyle Skiing               913\n",
       "Synchronized Swimming          849\n",
       "Baseball                       846\n",
       "Rhythmic Gymnastics            615\n",
       "Taekwondo                      596\n",
       "Beach Volleyball               538\n",
       "Triathlon                      526\n",
       "Softball                       441\n",
       "Curling                        410\n",
       "Rugby Sevens                   297\n",
       "Skeleton                       173\n",
       "Trampolining                   149\n",
       "Golf                           108\n",
       "dtype: int64"
      ]
     },
     "execution_count": 13,
     "metadata": {},
     "output_type": "execute_result"
    }
   ],
   "source": [
    "# check most represented sports\n",
    "df.value_counts('Sport')"
   ]
  },
  {
   "cell_type": "markdown",
   "metadata": {
    "id": "bjUgoil3Yfie"
   },
   "source": [
    "## Winter Olympics datasets:"
   ]
  },
  {
   "cell_type": "code",
   "execution_count": 14,
   "metadata": {
    "id": "K-534yBaBJUn"
   },
   "outputs": [],
   "source": [
    "# set Event of interst\n",
    "\n",
    "sport_list = [\"Athletics\", \"Swimming\", \"Gymnastics\"]\n",
    "# rename_mapper = {\n",
    "#     \"Figure Skating Men's Singles\" : \"figure_men\", \n",
    "#     \"Figure Skating Women's Singles\"  : \"figure_wom\", \n",
    "#     \"Speed Skating Men's 1,500 metres\" : \"speed_man\", \n",
    "#     \"Speed Skating Women's 1,500 metres\" : \"speed_wom\"\n",
    "# }"
   ]
  },
  {
   "cell_type": "code",
   "execution_count": 15,
   "metadata": {
    "colab": {
     "base_uri": "https://localhost:8080/",
     "height": 456
    },
    "id": "F2TaOSYU7pk6",
    "outputId": "51109e47-0d0f-4e12-97ba-44a2e310052a"
   },
   "outputs": [
    {
     "data": {
      "text/html": [
       "<div>\n",
       "<style scoped>\n",
       "    .dataframe tbody tr th:only-of-type {\n",
       "        vertical-align: middle;\n",
       "    }\n",
       "\n",
       "    .dataframe tbody tr th {\n",
       "        vertical-align: top;\n",
       "    }\n",
       "\n",
       "    .dataframe thead th {\n",
       "        text-align: right;\n",
       "    }\n",
       "</style>\n",
       "<table border=\"1\" class=\"dataframe\">\n",
       "  <thead>\n",
       "    <tr style=\"text-align: right;\">\n",
       "      <th></th>\n",
       "      <th>index</th>\n",
       "      <th>Sex</th>\n",
       "      <th>Age</th>\n",
       "      <th>Height</th>\n",
       "      <th>Weight</th>\n",
       "      <th>NOC</th>\n",
       "      <th>Year</th>\n",
       "      <th>Season</th>\n",
       "      <th>Sport</th>\n",
       "      <th>Medal</th>\n",
       "      <th>...</th>\n",
       "      <th>NOC_YUG</th>\n",
       "      <th>NOC_ZAM</th>\n",
       "      <th>NOC_ZIM</th>\n",
       "      <th>Sport_Athletics</th>\n",
       "      <th>Sport_Gymnastics</th>\n",
       "      <th>Sport_Swimming</th>\n",
       "      <th>Sex_F</th>\n",
       "      <th>Sex_M</th>\n",
       "      <th>Season_Summer</th>\n",
       "      <th>BMI</th>\n",
       "    </tr>\n",
       "  </thead>\n",
       "  <tbody>\n",
       "    <tr>\n",
       "      <th>27702</th>\n",
       "      <td>118674</td>\n",
       "      <td>M</td>\n",
       "      <td>23.0</td>\n",
       "      <td>173.0</td>\n",
       "      <td>65.0</td>\n",
       "      <td>KOR</td>\n",
       "      <td>2008</td>\n",
       "      <td>Summer</td>\n",
       "      <td>Gymnastics</td>\n",
       "      <td>0</td>\n",
       "      <td>...</td>\n",
       "      <td>0</td>\n",
       "      <td>0</td>\n",
       "      <td>0</td>\n",
       "      <td>0</td>\n",
       "      <td>1</td>\n",
       "      <td>0</td>\n",
       "      <td>0</td>\n",
       "      <td>1</td>\n",
       "      <td>1</td>\n",
       "      <td>21.718066</td>\n",
       "    </tr>\n",
       "    <tr>\n",
       "      <th>25884</th>\n",
       "      <td>111145</td>\n",
       "      <td>F</td>\n",
       "      <td>22.0</td>\n",
       "      <td>178.0</td>\n",
       "      <td>68.0</td>\n",
       "      <td>AUT</td>\n",
       "      <td>2008</td>\n",
       "      <td>Summer</td>\n",
       "      <td>Swimming</td>\n",
       "      <td>1</td>\n",
       "      <td>...</td>\n",
       "      <td>0</td>\n",
       "      <td>0</td>\n",
       "      <td>0</td>\n",
       "      <td>0</td>\n",
       "      <td>0</td>\n",
       "      <td>1</td>\n",
       "      <td>1</td>\n",
       "      <td>0</td>\n",
       "      <td>1</td>\n",
       "      <td>21.461937</td>\n",
       "    </tr>\n",
       "    <tr>\n",
       "      <th>23645</th>\n",
       "      <td>101604</td>\n",
       "      <td>M</td>\n",
       "      <td>24.0</td>\n",
       "      <td>165.0</td>\n",
       "      <td>61.0</td>\n",
       "      <td>KOR</td>\n",
       "      <td>1964</td>\n",
       "      <td>Summer</td>\n",
       "      <td>Athletics</td>\n",
       "      <td>0</td>\n",
       "      <td>...</td>\n",
       "      <td>0</td>\n",
       "      <td>0</td>\n",
       "      <td>0</td>\n",
       "      <td>1</td>\n",
       "      <td>0</td>\n",
       "      <td>0</td>\n",
       "      <td>0</td>\n",
       "      <td>1</td>\n",
       "      <td>1</td>\n",
       "      <td>22.405877</td>\n",
       "    </tr>\n",
       "    <tr>\n",
       "      <th>1761</th>\n",
       "      <td>7067</td>\n",
       "      <td>F</td>\n",
       "      <td>18.0</td>\n",
       "      <td>167.0</td>\n",
       "      <td>53.0</td>\n",
       "      <td>SWE</td>\n",
       "      <td>1968</td>\n",
       "      <td>Summer</td>\n",
       "      <td>Swimming</td>\n",
       "      <td>0</td>\n",
       "      <td>...</td>\n",
       "      <td>0</td>\n",
       "      <td>0</td>\n",
       "      <td>0</td>\n",
       "      <td>0</td>\n",
       "      <td>0</td>\n",
       "      <td>1</td>\n",
       "      <td>1</td>\n",
       "      <td>0</td>\n",
       "      <td>1</td>\n",
       "      <td>19.003908</td>\n",
       "    </tr>\n",
       "    <tr>\n",
       "      <th>52127</th>\n",
       "      <td>223673</td>\n",
       "      <td>M</td>\n",
       "      <td>23.0</td>\n",
       "      <td>184.0</td>\n",
       "      <td>76.0</td>\n",
       "      <td>GBR</td>\n",
       "      <td>2012</td>\n",
       "      <td>Summer</td>\n",
       "      <td>Gymnastics</td>\n",
       "      <td>0</td>\n",
       "      <td>...</td>\n",
       "      <td>0</td>\n",
       "      <td>0</td>\n",
       "      <td>0</td>\n",
       "      <td>0</td>\n",
       "      <td>1</td>\n",
       "      <td>0</td>\n",
       "      <td>0</td>\n",
       "      <td>1</td>\n",
       "      <td>1</td>\n",
       "      <td>22.448015</td>\n",
       "    </tr>\n",
       "    <tr>\n",
       "      <th>35118</th>\n",
       "      <td>150904</td>\n",
       "      <td>F</td>\n",
       "      <td>21.0</td>\n",
       "      <td>165.0</td>\n",
       "      <td>56.0</td>\n",
       "      <td>MEX</td>\n",
       "      <td>1960</td>\n",
       "      <td>Summer</td>\n",
       "      <td>Swimming</td>\n",
       "      <td>0</td>\n",
       "      <td>...</td>\n",
       "      <td>0</td>\n",
       "      <td>0</td>\n",
       "      <td>0</td>\n",
       "      <td>0</td>\n",
       "      <td>0</td>\n",
       "      <td>1</td>\n",
       "      <td>1</td>\n",
       "      <td>0</td>\n",
       "      <td>1</td>\n",
       "      <td>20.569330</td>\n",
       "    </tr>\n",
       "    <tr>\n",
       "      <th>52411</th>\n",
       "      <td>224885</td>\n",
       "      <td>M</td>\n",
       "      <td>25.0</td>\n",
       "      <td>171.0</td>\n",
       "      <td>60.0</td>\n",
       "      <td>TTO</td>\n",
       "      <td>1980</td>\n",
       "      <td>Summer</td>\n",
       "      <td>Athletics</td>\n",
       "      <td>0</td>\n",
       "      <td>...</td>\n",
       "      <td>0</td>\n",
       "      <td>0</td>\n",
       "      <td>0</td>\n",
       "      <td>1</td>\n",
       "      <td>0</td>\n",
       "      <td>0</td>\n",
       "      <td>0</td>\n",
       "      <td>1</td>\n",
       "      <td>1</td>\n",
       "      <td>20.519134</td>\n",
       "    </tr>\n",
       "    <tr>\n",
       "      <th>8491</th>\n",
       "      <td>35025</td>\n",
       "      <td>F</td>\n",
       "      <td>15.0</td>\n",
       "      <td>143.0</td>\n",
       "      <td>35.0</td>\n",
       "      <td>ITA</td>\n",
       "      <td>2000</td>\n",
       "      <td>Summer</td>\n",
       "      <td>Gymnastics</td>\n",
       "      <td>0</td>\n",
       "      <td>...</td>\n",
       "      <td>0</td>\n",
       "      <td>0</td>\n",
       "      <td>0</td>\n",
       "      <td>0</td>\n",
       "      <td>1</td>\n",
       "      <td>0</td>\n",
       "      <td>1</td>\n",
       "      <td>0</td>\n",
       "      <td>1</td>\n",
       "      <td>17.115751</td>\n",
       "    </tr>\n",
       "    <tr>\n",
       "      <th>44517</th>\n",
       "      <td>190159</td>\n",
       "      <td>F</td>\n",
       "      <td>22.0</td>\n",
       "      <td>180.0</td>\n",
       "      <td>61.0</td>\n",
       "      <td>NED</td>\n",
       "      <td>2016</td>\n",
       "      <td>Summer</td>\n",
       "      <td>Athletics</td>\n",
       "      <td>0</td>\n",
       "      <td>...</td>\n",
       "      <td>0</td>\n",
       "      <td>0</td>\n",
       "      <td>0</td>\n",
       "      <td>1</td>\n",
       "      <td>0</td>\n",
       "      <td>0</td>\n",
       "      <td>1</td>\n",
       "      <td>0</td>\n",
       "      <td>1</td>\n",
       "      <td>18.827160</td>\n",
       "    </tr>\n",
       "    <tr>\n",
       "      <th>32595</th>\n",
       "      <td>139984</td>\n",
       "      <td>F</td>\n",
       "      <td>17.0</td>\n",
       "      <td>158.0</td>\n",
       "      <td>53.0</td>\n",
       "      <td>SWE</td>\n",
       "      <td>1960</td>\n",
       "      <td>Summer</td>\n",
       "      <td>Gymnastics</td>\n",
       "      <td>0</td>\n",
       "      <td>...</td>\n",
       "      <td>0</td>\n",
       "      <td>0</td>\n",
       "      <td>0</td>\n",
       "      <td>0</td>\n",
       "      <td>1</td>\n",
       "      <td>0</td>\n",
       "      <td>1</td>\n",
       "      <td>0</td>\n",
       "      <td>1</td>\n",
       "      <td>21.230572</td>\n",
       "    </tr>\n",
       "  </tbody>\n",
       "</table>\n",
       "<p>10 rows × 237 columns</p>\n",
       "</div>"
      ],
      "text/plain": [
       "        index Sex   Age  Height  Weight  NOC  Year  Season       Sport  Medal  \\\n",
       "27702  118674   M  23.0   173.0    65.0  KOR  2008  Summer  Gymnastics      0   \n",
       "25884  111145   F  22.0   178.0    68.0  AUT  2008  Summer    Swimming      1   \n",
       "23645  101604   M  24.0   165.0    61.0  KOR  1964  Summer   Athletics      0   \n",
       "1761     7067   F  18.0   167.0    53.0  SWE  1968  Summer    Swimming      0   \n",
       "52127  223673   M  23.0   184.0    76.0  GBR  2012  Summer  Gymnastics      0   \n",
       "35118  150904   F  21.0   165.0    56.0  MEX  1960  Summer    Swimming      0   \n",
       "52411  224885   M  25.0   171.0    60.0  TTO  1980  Summer   Athletics      0   \n",
       "8491    35025   F  15.0   143.0    35.0  ITA  2000  Summer  Gymnastics      0   \n",
       "44517  190159   F  22.0   180.0    61.0  NED  2016  Summer   Athletics      0   \n",
       "32595  139984   F  17.0   158.0    53.0  SWE  1960  Summer  Gymnastics      0   \n",
       "\n",
       "       ...  NOC_YUG  NOC_ZAM  NOC_ZIM  Sport_Athletics  Sport_Gymnastics  \\\n",
       "27702  ...        0        0        0                0                 1   \n",
       "25884  ...        0        0        0                0                 0   \n",
       "23645  ...        0        0        0                1                 0   \n",
       "1761   ...        0        0        0                0                 0   \n",
       "52127  ...        0        0        0                0                 1   \n",
       "35118  ...        0        0        0                0                 0   \n",
       "52411  ...        0        0        0                1                 0   \n",
       "8491   ...        0        0        0                0                 1   \n",
       "44517  ...        0        0        0                1                 0   \n",
       "32595  ...        0        0        0                0                 1   \n",
       "\n",
       "       Sport_Swimming  Sex_F  Sex_M  Season_Summer        BMI  \n",
       "27702               0      0      1              1  21.718066  \n",
       "25884               1      1      0              1  21.461937  \n",
       "23645               0      0      1              1  22.405877  \n",
       "1761                1      1      0              1  19.003908  \n",
       "52127               0      0      1              1  22.448015  \n",
       "35118               1      1      0              1  20.569330  \n",
       "52411               0      0      1              1  20.519134  \n",
       "8491                0      1      0              1  17.115751  \n",
       "44517               0      1      0              1  18.827160  \n",
       "32595               0      1      0              1  21.230572  \n",
       "\n",
       "[10 rows x 237 columns]"
      ]
     },
     "execution_count": 15,
     "metadata": {},
     "output_type": "execute_result"
    }
   ],
   "source": [
    "setattr# filter main dataset and retrieve only categories of interest\n",
    "wd_ag = df[df.Sport.isin(sport_list)].copy().reset_index()\n",
    "# # rename wd_ag events\n",
    "# wd_ag.replace(rename_mapper, inplace=True)\n",
    "# create one hot encoding for NOC adn Event cols\n",
    "noc_one = pd.get_dummies(wd_ag[[\"NOC\", \"Sport\", \"Sex\", \"Season\"]])\n",
    "#noc_one = pd.get_dummies(wd_ag[[\"Event\"]])\n",
    "# concat wd_ag and tmp \n",
    "tmp = pd.concat([wd_ag, noc_one], axis=1)\n",
    "# calc BMI\n",
    "tmp[\"BMI\"] = tmp[\"Weight\"] / ((tmp[\"Height\"] / 100)** 2)\n",
    "# print examples\n",
    "tmp.sample(n=10)"
   ]
  },
  {
   "cell_type": "code",
   "execution_count": 16,
   "metadata": {
    "id": "MhqWu4fQXWxd"
   },
   "outputs": [],
   "source": [
    "# men_skating = tmp[tmp.Event ==\"Figure Skating Men's Singles\"]\n",
    "# print(f'men_skating shape is\\t{men_skating.shape}')\n",
    "# women_skating = tmp[tmp.Event ==\"Figure Skating Women's Singles\"]\n",
    "# print(f'women_skating shape is\\t{women_skating.shape}')\n",
    "# men_speed_skating = tmp[tmp.Event ==\"Speed Skating Men's 1,500 metres\"]\n",
    "# print(f'men_speed_skating shape is\\t{men_speed_skating.shape}')\n",
    "# women_speed_skating = tmp[tmp.Event ==\"Speed Skating Women's 1,500 metres\"]\n",
    "# print(f'women_speed_skating shape is\\t{women_speed_skating.shape}')"
   ]
  },
  {
   "cell_type": "markdown",
   "metadata": {
    "id": "nJvc1IyeLhVe"
   },
   "source": [
    "### AutoML"
   ]
  },
  {
   "cell_type": "code",
   "execution_count": 17,
   "metadata": {
    "colab": {
     "base_uri": "https://localhost:8080/"
    },
    "id": "Ryz4KHjTMYQb",
    "outputId": "bc1c6c1c-d031-4892-c334-63eb79d09efd"
   },
   "outputs": [
    {
     "name": "stdout",
     "output_type": "stream",
     "text": [
      "^C\n"
     ]
    }
   ],
   "source": [
    "!pip install auto-sklearn"
   ]
  },
  {
   "cell_type": "code",
   "execution_count": 18,
   "metadata": {
    "id": "qZhY5m0aLg5w"
   },
   "outputs": [
    {
     "ename": "ModuleNotFoundError",
     "evalue": "No module named 'autosklearn'",
     "output_type": "error",
     "traceback": [
      "\u001b[1;31m---------------------------------------------------------------------------\u001b[0m",
      "\u001b[1;31mModuleNotFoundError\u001b[0m                       Traceback (most recent call last)",
      "\u001b[1;32m<ipython-input-18-64817eabc6ee>\u001b[0m in \u001b[0;36m<module>\u001b[1;34m\u001b[0m\n\u001b[1;32m----> 1\u001b[1;33m \u001b[1;32mimport\u001b[0m \u001b[0mautosklearn\u001b[0m\u001b[1;33m.\u001b[0m\u001b[0mclassification\u001b[0m\u001b[1;33m\u001b[0m\u001b[1;33m\u001b[0m\u001b[0m\n\u001b[0m\u001b[0;32m      2\u001b[0m \u001b[1;32mimport\u001b[0m \u001b[0mautosklearn\u001b[0m\u001b[1;33m.\u001b[0m\u001b[0mmetrics\u001b[0m\u001b[1;33m\u001b[0m\u001b[1;33m\u001b[0m\u001b[0m\n\u001b[0;32m      3\u001b[0m \u001b[1;32mfrom\u001b[0m \u001b[0msklearn\u001b[0m\u001b[1;33m.\u001b[0m\u001b[0mmodel_selection\u001b[0m \u001b[1;32mimport\u001b[0m \u001b[0mtrain_test_split\u001b[0m\u001b[1;33m\u001b[0m\u001b[1;33m\u001b[0m\u001b[0m\n\u001b[0;32m      4\u001b[0m \u001b[1;32mfrom\u001b[0m \u001b[0msklearn\u001b[0m\u001b[1;33m.\u001b[0m\u001b[0mpreprocessing\u001b[0m \u001b[1;32mimport\u001b[0m \u001b[0mStandardScaler\u001b[0m\u001b[1;33m,\u001b[0m \u001b[0mOneHotEncoder\u001b[0m\u001b[1;33m\u001b[0m\u001b[1;33m\u001b[0m\u001b[0m\n\u001b[0;32m      5\u001b[0m \u001b[1;32mfrom\u001b[0m \u001b[0msklearn\u001b[0m\u001b[1;33m.\u001b[0m\u001b[0mpipeline\u001b[0m \u001b[1;32mimport\u001b[0m \u001b[0mPipeline\u001b[0m\u001b[1;33m\u001b[0m\u001b[1;33m\u001b[0m\u001b[0m\n",
      "\u001b[1;31mModuleNotFoundError\u001b[0m: No module named 'autosklearn'"
     ]
    },
    {
     "name": "stderr",
     "output_type": "stream",
     "text": [
      "    ERROR: Command errored out with exit status 1:\n",
      "     command: 'C:\\Users\\jchop\\anaconda3\\envs\\MLOps-dev\\python.exe' -c 'import io, os, sys, setuptools, tokenize; sys.argv[0] = '\"'\"'C:\\\\Users\\\\jchop\\\\AppData\\\\Local\\\\Temp\\\\pip-install-w935z1sw\\\\auto-sklearn_1ab20fcc30e044149b61ba7451a93239\\\\setup.py'\"'\"'; __file__='\"'\"'C:\\\\Users\\\\jchop\\\\AppData\\\\Local\\\\Temp\\\\pip-install-w935z1sw\\\\auto-sklearn_1ab20fcc30e044149b61ba7451a93239\\\\setup.py'\"'\"';f = getattr(tokenize, '\"'\"'open'\"'\"', open)(__file__) if os.path.exists(__file__) else io.StringIO('\"'\"'from setuptools import setup; setup()'\"'\"');code = f.read().replace('\"'\"'\\r\\n'\"'\"', '\"'\"'\\n'\"'\"');f.close();exec(compile(code, __file__, '\"'\"'exec'\"'\"'))' egg_info --egg-base 'C:\\Users\\jchop\\AppData\\Local\\Temp\\pip-pip-egg-info-cz554uk4'\n",
      "         cwd: C:\\Users\\jchop\\AppData\\Local\\Temp\\pip-install-w935z1sw\\auto-sklearn_1ab20fcc30e044149b61ba7451a93239\\\n",
      "    Complete output (5 lines):\n",
      "    Traceback (most recent call last):\n",
      "      File \"<string>\", line 1, in <module>\n",
      "      File \"C:\\Users\\jchop\\AppData\\Local\\Temp\\pip-install-w935z1sw\\auto-sklearn_1ab20fcc30e044149b61ba7451a93239\\setup.py\", line 9, in <module>\n",
      "        raise ValueError(\n",
      "    ValueError: Detected unsupported operating system: win32. Please check the compability information of auto-sklearn: https://automl.github.io/auto-sklearn/master/installation.html#windows-osx-compatibility\n",
      "    ----------------------------------------\n",
      "WARNING: Discarding https://files.pythonhosted.org/packages/2b/04/a3e58aeba5320fc9d8859cde68390636f24189499b88daa797821a1320e2/auto-sklearn-0.14.6.tar.gz#sha256=8e26b2059bb3234ea6ef9c08a8d9b6174373450097e6f3f4961e23c660d33df4 (from https://pypi.org/simple/auto-sklearn/) (requires-python:>=3.7). Command errored out with exit status 1: python setup.py egg_info Check the logs for full command output.\n",
      "    ERROR: Command errored out with exit status 1:\n",
      "     command: 'C:\\Users\\jchop\\anaconda3\\envs\\MLOps-dev\\python.exe' -c 'import io, os, sys, setuptools, tokenize; sys.argv[0] = '\"'\"'C:\\\\Users\\\\jchop\\\\AppData\\\\Local\\\\Temp\\\\pip-install-w935z1sw\\\\auto-sklearn_d5be8e39a6ad44d28dee735641059be9\\\\setup.py'\"'\"'; __file__='\"'\"'C:\\\\Users\\\\jchop\\\\AppData\\\\Local\\\\Temp\\\\pip-install-w935z1sw\\\\auto-sklearn_d5be8e39a6ad44d28dee735641059be9\\\\setup.py'\"'\"';f = getattr(tokenize, '\"'\"'open'\"'\"', open)(__file__) if os.path.exists(__file__) else io.StringIO('\"'\"'from setuptools import setup; setup()'\"'\"');code = f.read().replace('\"'\"'\\r\\n'\"'\"', '\"'\"'\\n'\"'\"');f.close();exec(compile(code, __file__, '\"'\"'exec'\"'\"'))' egg_info --egg-base 'C:\\Users\\jchop\\AppData\\Local\\Temp\\pip-pip-egg-info-7r9w6yrl'\n",
      "         cwd: C:\\Users\\jchop\\AppData\\Local\\Temp\\pip-install-w935z1sw\\auto-sklearn_d5be8e39a6ad44d28dee735641059be9\\\n",
      "    Complete output (5 lines):\n",
      "    Traceback (most recent call last):\n",
      "      File \"<string>\", line 1, in <module>\n",
      "      File \"C:\\Users\\jchop\\AppData\\Local\\Temp\\pip-install-w935z1sw\\auto-sklearn_d5be8e39a6ad44d28dee735641059be9\\setup.py\", line 9, in <module>\n",
      "        raise ValueError(\n",
      "    ValueError: Detected unsupported operating system: win32. Please check the compability information of auto-sklearn: https://automl.github.io/auto-sklearn/master/installation.html#windows-osx-compatibility\n",
      "    ----------------------------------------\n",
      "WARNING: Discarding https://files.pythonhosted.org/packages/be/51/8c79ff405a702aa8400f31ade976fbfc9af7cc44bbf3bb8dd04517e187a2/auto-sklearn-0.14.5.tar.gz#sha256=5fa46a26b7f39822607f2366df05653b2af2d8c609c7e6136cc307b2a3ed3248 (from https://pypi.org/simple/auto-sklearn/) (requires-python:>=3.7). Command errored out with exit status 1: python setup.py egg_info Check the logs for full command output.\n",
      "    ERROR: Command errored out with exit status 1:\n",
      "     command: 'C:\\Users\\jchop\\anaconda3\\envs\\MLOps-dev\\python.exe' -c 'import io, os, sys, setuptools, tokenize; sys.argv[0] = '\"'\"'C:\\\\Users\\\\jchop\\\\AppData\\\\Local\\\\Temp\\\\pip-install-w935z1sw\\\\auto-sklearn_58ea0a17009a4e289e8f6841a6f7c519\\\\setup.py'\"'\"'; __file__='\"'\"'C:\\\\Users\\\\jchop\\\\AppData\\\\Local\\\\Temp\\\\pip-install-w935z1sw\\\\auto-sklearn_58ea0a17009a4e289e8f6841a6f7c519\\\\setup.py'\"'\"';f = getattr(tokenize, '\"'\"'open'\"'\"', open)(__file__) if os.path.exists(__file__) else io.StringIO('\"'\"'from setuptools import setup; setup()'\"'\"');code = f.read().replace('\"'\"'\\r\\n'\"'\"', '\"'\"'\\n'\"'\"');f.close();exec(compile(code, __file__, '\"'\"'exec'\"'\"'))' egg_info --egg-base 'C:\\Users\\jchop\\AppData\\Local\\Temp\\pip-pip-egg-info-rz_dk0uq'\n",
      "         cwd: C:\\Users\\jchop\\AppData\\Local\\Temp\\pip-install-w935z1sw\\auto-sklearn_58ea0a17009a4e289e8f6841a6f7c519\\\n",
      "    Complete output (5 lines):\n",
      "    Traceback (most recent call last):\n",
      "      File \"<string>\", line 1, in <module>\n",
      "      File \"C:\\Users\\jchop\\AppData\\Local\\Temp\\pip-install-w935z1sw\\auto-sklearn_58ea0a17009a4e289e8f6841a6f7c519\\setup.py\", line 9, in <module>\n",
      "        raise ValueError(\n",
      "    ValueError: Detected unsupported operating system: win32. Please check the compability information of auto-sklearn: https://automl.github.io/auto-sklearn/master/installation.html#windows-osx-compatibility\n",
      "    ----------------------------------------\n",
      "WARNING: Discarding https://files.pythonhosted.org/packages/d0/29/36e2cb5a7640f1fcc15c4da02b518f66523ce6e399a71187063c6a3f6143/auto-sklearn-0.14.4.tar.gz#sha256=121d71ef88ddbad70b56c6e84f19bcb56b0d3bffb51a420795e459d29d605ff0 (from https://pypi.org/simple/auto-sklearn/) (requires-python:>=3.7). Command errored out with exit status 1: python setup.py egg_info Check the logs for full command output.\n",
      "    ERROR: Command errored out with exit status 1:\n",
      "     command: 'C:\\Users\\jchop\\anaconda3\\envs\\MLOps-dev\\python.exe' -c 'import io, os, sys, setuptools, tokenize; sys.argv[0] = '\"'\"'C:\\\\Users\\\\jchop\\\\AppData\\\\Local\\\\Temp\\\\pip-install-w935z1sw\\\\auto-sklearn_80f760edeaad41db820491aaeeeebf5c\\\\setup.py'\"'\"'; __file__='\"'\"'C:\\\\Users\\\\jchop\\\\AppData\\\\Local\\\\Temp\\\\pip-install-w935z1sw\\\\auto-sklearn_80f760edeaad41db820491aaeeeebf5c\\\\setup.py'\"'\"';f = getattr(tokenize, '\"'\"'open'\"'\"', open)(__file__) if os.path.exists(__file__) else io.StringIO('\"'\"'from setuptools import setup; setup()'\"'\"');code = f.read().replace('\"'\"'\\r\\n'\"'\"', '\"'\"'\\n'\"'\"');f.close();exec(compile(code, __file__, '\"'\"'exec'\"'\"'))' egg_info --egg-base 'C:\\Users\\jchop\\AppData\\Local\\Temp\\pip-pip-egg-info-0h46mutg'\n",
      "         cwd: C:\\Users\\jchop\\AppData\\Local\\Temp\\pip-install-w935z1sw\\auto-sklearn_80f760edeaad41db820491aaeeeebf5c\\\n",
      "    Complete output (5 lines):\n",
      "    Traceback (most recent call last):\n",
      "      File \"<string>\", line 1, in <module>\n",
      "      File \"C:\\Users\\jchop\\AppData\\Local\\Temp\\pip-install-w935z1sw\\auto-sklearn_80f760edeaad41db820491aaeeeebf5c\\setup.py\", line 9, in <module>\n",
      "        raise ValueError(\n",
      "    ValueError: Detected unsupported operating system: win32. Please check the compability information of auto-sklearn: https://automl.github.io/auto-sklearn/master/installation.html#windows-osx-compatibility\n",
      "    ----------------------------------------\n",
      "WARNING: Discarding https://files.pythonhosted.org/packages/8c/3b/b7196e98cc751d952cf099af01a5f6f90905e1a8729e168a50fe506507aa/auto-sklearn-0.14.3.tar.gz#sha256=b918d961c0f012184baf89ef8486d8530a9eb4754c6a2eacead808f9917d439b (from https://pypi.org/simple/auto-sklearn/) (requires-python:>=3.7). Command errored out with exit status 1: python setup.py egg_info Check the logs for full command output.\n",
      "    ERROR: Command errored out with exit status 1:\n",
      "     command: 'C:\\Users\\jchop\\anaconda3\\envs\\MLOps-dev\\python.exe' -c 'import io, os, sys, setuptools, tokenize; sys.argv[0] = '\"'\"'C:\\\\Users\\\\jchop\\\\AppData\\\\Local\\\\Temp\\\\pip-install-w935z1sw\\\\auto-sklearn_2d9e15d9e1e840dbae13241894f0272f\\\\setup.py'\"'\"'; __file__='\"'\"'C:\\\\Users\\\\jchop\\\\AppData\\\\Local\\\\Temp\\\\pip-install-w935z1sw\\\\auto-sklearn_2d9e15d9e1e840dbae13241894f0272f\\\\setup.py'\"'\"';f = getattr(tokenize, '\"'\"'open'\"'\"', open)(__file__) if os.path.exists(__file__) else io.StringIO('\"'\"'from setuptools import setup; setup()'\"'\"');code = f.read().replace('\"'\"'\\r\\n'\"'\"', '\"'\"'\\n'\"'\"');f.close();exec(compile(code, __file__, '\"'\"'exec'\"'\"'))' egg_info --egg-base 'C:\\Users\\jchop\\AppData\\Local\\Temp\\pip-pip-egg-info-lvg5b1lj'\n",
      "         cwd: C:\\Users\\jchop\\AppData\\Local\\Temp\\pip-install-w935z1sw\\auto-sklearn_2d9e15d9e1e840dbae13241894f0272f\\\n",
      "    Complete output (5 lines):\n",
      "    Traceback (most recent call last):\n",
      "      File \"<string>\", line 1, in <module>\n",
      "      File \"C:\\Users\\jchop\\AppData\\Local\\Temp\\pip-install-w935z1sw\\auto-sklearn_2d9e15d9e1e840dbae13241894f0272f\\setup.py\", line 9, in <module>\n",
      "        raise ValueError(\n",
      "    ValueError: Detected unsupported operating system: win32. Please check the compability information of auto-sklearn: https://automl.github.io/auto-sklearn/master/installation.html#windows-osx-compatibility\n",
      "    ----------------------------------------\n",
      "WARNING: Discarding https://files.pythonhosted.org/packages/08/a4/a34327516da9319c926706bdf5e421b3207c6228ba6a847847709233cb4f/auto-sklearn-0.14.2.tar.gz#sha256=cd26d0c7be4f7392d49ec343683111a4d0572c860cb48d98a8e17797bb714081 (from https://pypi.org/simple/auto-sklearn/) (requires-python:>=3.7). Command errored out with exit status 1: python setup.py egg_info Check the logs for full command output.\n",
      "    ERROR: Command errored out with exit status 1:\n",
      "     command: 'C:\\Users\\jchop\\anaconda3\\envs\\MLOps-dev\\python.exe' -c 'import io, os, sys, setuptools, tokenize; sys.argv[0] = '\"'\"'C:\\\\Users\\\\jchop\\\\AppData\\\\Local\\\\Temp\\\\pip-install-w935z1sw\\\\auto-sklearn_6f50494486c740cda46ae812ef6e91fe\\\\setup.py'\"'\"'; __file__='\"'\"'C:\\\\Users\\\\jchop\\\\AppData\\\\Local\\\\Temp\\\\pip-install-w935z1sw\\\\auto-sklearn_6f50494486c740cda46ae812ef6e91fe\\\\setup.py'\"'\"';f = getattr(tokenize, '\"'\"'open'\"'\"', open)(__file__) if os.path.exists(__file__) else io.StringIO('\"'\"'from setuptools import setup; setup()'\"'\"');code = f.read().replace('\"'\"'\\r\\n'\"'\"', '\"'\"'\\n'\"'\"');f.close();exec(compile(code, __file__, '\"'\"'exec'\"'\"'))' egg_info --egg-base 'C:\\Users\\jchop\\AppData\\Local\\Temp\\pip-pip-egg-info-ps0sjzjd'\n",
      "         cwd: C:\\Users\\jchop\\AppData\\Local\\Temp\\pip-install-w935z1sw\\auto-sklearn_6f50494486c740cda46ae812ef6e91fe\\\n",
      "    Complete output (5 lines):\n",
      "    Traceback (most recent call last):\n",
      "      File \"<string>\", line 1, in <module>\n",
      "      File \"C:\\Users\\jchop\\AppData\\Local\\Temp\\pip-install-w935z1sw\\auto-sklearn_6f50494486c740cda46ae812ef6e91fe\\setup.py\", line 9, in <module>\n",
      "        raise ValueError(\n",
      "    ValueError: Detected unsupported operating system: win32. Please check the compability information of auto-sklearn: https://automl.github.io/auto-sklearn/master/installation.html#windows-osx-compatibility\n",
      "    ----------------------------------------\n",
      "WARNING: Discarding https://files.pythonhosted.org/packages/03/3d/756ccd5548d54e4bbb7d89cfdb695d172ee7adcda1e9ca5aa4e1d4efff5e/auto-sklearn-0.14.1.tar.gz#sha256=04db7e67b61994bd276d461a9cf6476528dad447f0da287738d9405b2e6cb4ac (from https://pypi.org/simple/auto-sklearn/) (requires-python:>=3.7). Command errored out with exit status 1: python setup.py egg_info Check the logs for full command output.\n",
      "    ERROR: Command errored out with exit status 1:\n",
      "     command: 'C:\\Users\\jchop\\anaconda3\\envs\\MLOps-dev\\python.exe' -c 'import io, os, sys, setuptools, tokenize; sys.argv[0] = '\"'\"'C:\\\\Users\\\\jchop\\\\AppData\\\\Local\\\\Temp\\\\pip-install-w935z1sw\\\\auto-sklearn_2848a34ec902466fa2bbcf2e7ac59164\\\\setup.py'\"'\"'; __file__='\"'\"'C:\\\\Users\\\\jchop\\\\AppData\\\\Local\\\\Temp\\\\pip-install-w935z1sw\\\\auto-sklearn_2848a34ec902466fa2bbcf2e7ac59164\\\\setup.py'\"'\"';f = getattr(tokenize, '\"'\"'open'\"'\"', open)(__file__) if os.path.exists(__file__) else io.StringIO('\"'\"'from setuptools import setup; setup()'\"'\"');code = f.read().replace('\"'\"'\\r\\n'\"'\"', '\"'\"'\\n'\"'\"');f.close();exec(compile(code, __file__, '\"'\"'exec'\"'\"'))' egg_info --egg-base 'C:\\Users\\jchop\\AppData\\Local\\Temp\\pip-pip-egg-info-7bigla51'\n",
      "         cwd: C:\\Users\\jchop\\AppData\\Local\\Temp\\pip-install-w935z1sw\\auto-sklearn_2848a34ec902466fa2bbcf2e7ac59164\\\n",
      "    Complete output (5 lines):\n",
      "    Traceback (most recent call last):\n",
      "      File \"<string>\", line 1, in <module>\n",
      "      File \"C:\\Users\\jchop\\AppData\\Local\\Temp\\pip-install-w935z1sw\\auto-sklearn_2848a34ec902466fa2bbcf2e7ac59164\\setup.py\", line 9, in <module>\n",
      "        raise ValueError(\n",
      "    ValueError: Detected unsupported operating system: win32. Please check the compability information of auto-sklearn: https://automl.github.io/auto-sklearn/master/installation.html#windows-osx-compatibility\n",
      "    ----------------------------------------\n",
      "WARNING: Discarding https://files.pythonhosted.org/packages/66/f6/3c2218b5a3302a2db56178ef6363c27e7a2bf74f85593421fe6a3c8fcc95/auto-sklearn-0.14.0.tar.gz#sha256=c574720c787efba36c6a734f10af747c73aa369a0a0046e37d5bcdd8c7ef94d6 (from https://pypi.org/simple/auto-sklearn/) (requires-python:>=3.7). Command errored out with exit status 1: python setup.py egg_info Check the logs for full command output.\n",
      "    ERROR: Command errored out with exit status 1:\n",
      "     command: 'C:\\Users\\jchop\\anaconda3\\envs\\MLOps-dev\\python.exe' -c 'import io, os, sys, setuptools, tokenize; sys.argv[0] = '\"'\"'C:\\\\Users\\\\jchop\\\\AppData\\\\Local\\\\Temp\\\\pip-install-w935z1sw\\\\auto-sklearn_b97180f9b5af4d3d8330f3ee19c8dbfc\\\\setup.py'\"'\"'; __file__='\"'\"'C:\\\\Users\\\\jchop\\\\AppData\\\\Local\\\\Temp\\\\pip-install-w935z1sw\\\\auto-sklearn_b97180f9b5af4d3d8330f3ee19c8dbfc\\\\setup.py'\"'\"';f = getattr(tokenize, '\"'\"'open'\"'\"', open)(__file__) if os.path.exists(__file__) else io.StringIO('\"'\"'from setuptools import setup; setup()'\"'\"');code = f.read().replace('\"'\"'\\r\\n'\"'\"', '\"'\"'\\n'\"'\"');f.close();exec(compile(code, __file__, '\"'\"'exec'\"'\"'))' egg_info --egg-base 'C:\\Users\\jchop\\AppData\\Local\\Temp\\pip-pip-egg-info-a6mv3ehj'\n",
      "         cwd: C:\\Users\\jchop\\AppData\\Local\\Temp\\pip-install-w935z1sw\\auto-sklearn_b97180f9b5af4d3d8330f3ee19c8dbfc\\\n",
      "    Complete output (5 lines):\n",
      "    Traceback (most recent call last):\n",
      "      File \"<string>\", line 1, in <module>\n",
      "      File \"C:\\Users\\jchop\\AppData\\Local\\Temp\\pip-install-w935z1sw\\auto-sklearn_b97180f9b5af4d3d8330f3ee19c8dbfc\\setup.py\", line 9, in <module>\n",
      "        raise ValueError(\n",
      "    ValueError: Detected unsupported operating system: win32. Please check the compability information of auto-sklearn: https://automl.github.io/auto-sklearn/master/installation.html#windows-osx-compatibility\n",
      "    ----------------------------------------\n",
      "WARNING: Discarding https://files.pythonhosted.org/packages/09/ce/91da344d8c52012299c0ab0458a8789d3fa886450bec7ac41c15ca61b451/auto-sklearn-0.13.0.tar.gz#sha256=0939a55f60ec36a31ab80f58f2d0c30d4129c6ae524ebf9a5789a46dfb5c8d22 (from https://pypi.org/simple/auto-sklearn/) (requires-python:>=3.7). Command errored out with exit status 1: python setup.py egg_info Check the logs for full command output.\n",
      "    ERROR: Command errored out with exit status 1:\n",
      "     command: 'C:\\Users\\jchop\\anaconda3\\envs\\MLOps-dev\\python.exe' -c 'import io, os, sys, setuptools, tokenize; sys.argv[0] = '\"'\"'C:\\\\Users\\\\jchop\\\\AppData\\\\Local\\\\Temp\\\\pip-install-w935z1sw\\\\auto-sklearn_ae5b0e9c437346948ac8d78b7610d463\\\\setup.py'\"'\"'; __file__='\"'\"'C:\\\\Users\\\\jchop\\\\AppData\\\\Local\\\\Temp\\\\pip-install-w935z1sw\\\\auto-sklearn_ae5b0e9c437346948ac8d78b7610d463\\\\setup.py'\"'\"';f = getattr(tokenize, '\"'\"'open'\"'\"', open)(__file__) if os.path.exists(__file__) else io.StringIO('\"'\"'from setuptools import setup; setup()'\"'\"');code = f.read().replace('\"'\"'\\r\\n'\"'\"', '\"'\"'\\n'\"'\"');f.close();exec(compile(code, __file__, '\"'\"'exec'\"'\"'))' egg_info --egg-base 'C:\\Users\\jchop\\AppData\\Local\\Temp\\pip-pip-egg-info-6346ge8w'\n",
      "         cwd: C:\\Users\\jchop\\AppData\\Local\\Temp\\pip-install-w935z1sw\\auto-sklearn_ae5b0e9c437346948ac8d78b7610d463\\\n",
      "    Complete output (5 lines):\n",
      "    Traceback (most recent call last):\n",
      "      File \"<string>\", line 1, in <module>\n",
      "      File \"C:\\Users\\jchop\\AppData\\Local\\Temp\\pip-install-w935z1sw\\auto-sklearn_ae5b0e9c437346948ac8d78b7610d463\\setup.py\", line 9, in <module>\n",
      "        raise ValueError(\n",
      "    ValueError: Detected unsupported operating system: win32. Please check the compability information of auto-sklearn: https://automl.github.io/auto-sklearn/master/installation.html#windows-osx-compatibility\n",
      "    ----------------------------------------\n",
      "WARNING: Discarding https://files.pythonhosted.org/packages/21/1d/ef6578e45970bbc56ed81fa5e64e8542b4c32da0a50136306b21a4ccf0fe/auto-sklearn-0.12.7.tar.gz#sha256=60d7ff9d31d5eca8a87981b76d24df2ff93d65b326489bbb653f146a8b371626 (from https://pypi.org/simple/auto-sklearn/) (requires-python:>=3.6). Command errored out with exit status 1: python setup.py egg_info Check the logs for full command output.\n",
      "    ERROR: Command errored out with exit status 1:\n",
      "     command: 'C:\\Users\\jchop\\anaconda3\\envs\\MLOps-dev\\python.exe' -c 'import io, os, sys, setuptools, tokenize; sys.argv[0] = '\"'\"'C:\\\\Users\\\\jchop\\\\AppData\\\\Local\\\\Temp\\\\pip-install-w935z1sw\\\\auto-sklearn_6f99514c7f344fc2ac72e3165b8e547c\\\\setup.py'\"'\"'; __file__='\"'\"'C:\\\\Users\\\\jchop\\\\AppData\\\\Local\\\\Temp\\\\pip-install-w935z1sw\\\\auto-sklearn_6f99514c7f344fc2ac72e3165b8e547c\\\\setup.py'\"'\"';f = getattr(tokenize, '\"'\"'open'\"'\"', open)(__file__) if os.path.exists(__file__) else io.StringIO('\"'\"'from setuptools import setup; setup()'\"'\"');code = f.read().replace('\"'\"'\\r\\n'\"'\"', '\"'\"'\\n'\"'\"');f.close();exec(compile(code, __file__, '\"'\"'exec'\"'\"'))' egg_info --egg-base 'C:\\Users\\jchop\\AppData\\Local\\Temp\\pip-pip-egg-info-g0h54abh'\n",
      "         cwd: C:\\Users\\jchop\\AppData\\Local\\Temp\\pip-install-w935z1sw\\auto-sklearn_6f99514c7f344fc2ac72e3165b8e547c\\\n",
      "    Complete output (5 lines):\n",
      "    Traceback (most recent call last):\n",
      "      File \"<string>\", line 1, in <module>\n",
      "      File \"C:\\Users\\jchop\\AppData\\Local\\Temp\\pip-install-w935z1sw\\auto-sklearn_6f99514c7f344fc2ac72e3165b8e547c\\setup.py\", line 9, in <module>\n",
      "        raise ValueError(\n",
      "    ValueError: Detected unsupported operating system: win32. Please check the compability information of auto-sklearn: https://automl.github.io/auto-sklearn/master/installation.html#windows-osx-compatibility\n",
      "    ----------------------------------------\n",
      "WARNING: Discarding https://files.pythonhosted.org/packages/a5/1b/9249f7d4498cbdb0130352a838e02ca7d7bebbcacde74d1f4f26a5d9202b/auto-sklearn-0.12.6.tar.gz#sha256=bdd0c6885f7d575169a2dad01efe6fef8d73f627b9b288c86c8134a2c48ee71d (from https://pypi.org/simple/auto-sklearn/) (requires-python:>=3.6). Command errored out with exit status 1: python setup.py egg_info Check the logs for full command output.\n",
      "    ERROR: Command errored out with exit status 1:\n",
      "     command: 'C:\\Users\\jchop\\anaconda3\\envs\\MLOps-dev\\python.exe' -c 'import io, os, sys, setuptools, tokenize; sys.argv[0] = '\"'\"'C:\\\\Users\\\\jchop\\\\AppData\\\\Local\\\\Temp\\\\pip-install-w935z1sw\\\\auto-sklearn_3322969072a24b8b9f9d1fdfebbe8d28\\\\setup.py'\"'\"'; __file__='\"'\"'C:\\\\Users\\\\jchop\\\\AppData\\\\Local\\\\Temp\\\\pip-install-w935z1sw\\\\auto-sklearn_3322969072a24b8b9f9d1fdfebbe8d28\\\\setup.py'\"'\"';f = getattr(tokenize, '\"'\"'open'\"'\"', open)(__file__) if os.path.exists(__file__) else io.StringIO('\"'\"'from setuptools import setup; setup()'\"'\"');code = f.read().replace('\"'\"'\\r\\n'\"'\"', '\"'\"'\\n'\"'\"');f.close();exec(compile(code, __file__, '\"'\"'exec'\"'\"'))' egg_info --egg-base 'C:\\Users\\jchop\\AppData\\Local\\Temp\\pip-pip-egg-info-jwfge8xg'\n",
      "         cwd: C:\\Users\\jchop\\AppData\\Local\\Temp\\pip-install-w935z1sw\\auto-sklearn_3322969072a24b8b9f9d1fdfebbe8d28\\\n",
      "    Complete output (5 lines):\n",
      "    Traceback (most recent call last):\n",
      "      File \"<string>\", line 1, in <module>\n",
      "      File \"C:\\Users\\jchop\\AppData\\Local\\Temp\\pip-install-w935z1sw\\auto-sklearn_3322969072a24b8b9f9d1fdfebbe8d28\\setup.py\", line 9, in <module>\n",
      "        raise ValueError(\n",
      "    ValueError: Detected unsupported operating system: win32. Please check the compability information of auto-sklearn: https://automl.github.io/auto-sklearn/master/installation.html#windows-osx-compatibility\n",
      "    ----------------------------------------\n",
      "WARNING: Discarding https://files.pythonhosted.org/packages/1d/5c/31808f406cd52ccec551ff22f43647866db64bb57897f4fc6deac25e09ce/auto-sklearn-0.12.5.tar.gz#sha256=f7468c07a3d75018bbee16e2aeed33d63bd395935cda30d831b014a8bbe1a086 (from https://pypi.org/simple/auto-sklearn/) (requires-python:>=3.6). Command errored out with exit status 1: python setup.py egg_info Check the logs for full command output.\n",
      "    ERROR: Command errored out with exit status 1:\n",
      "     command: 'C:\\Users\\jchop\\anaconda3\\envs\\MLOps-dev\\python.exe' -c 'import io, os, sys, setuptools, tokenize; sys.argv[0] = '\"'\"'C:\\\\Users\\\\jchop\\\\AppData\\\\Local\\\\Temp\\\\pip-install-w935z1sw\\\\auto-sklearn_572f0a8b66fd4917ae10cc4989139d9d\\\\setup.py'\"'\"'; __file__='\"'\"'C:\\\\Users\\\\jchop\\\\AppData\\\\Local\\\\Temp\\\\pip-install-w935z1sw\\\\auto-sklearn_572f0a8b66fd4917ae10cc4989139d9d\\\\setup.py'\"'\"';f = getattr(tokenize, '\"'\"'open'\"'\"', open)(__file__) if os.path.exists(__file__) else io.StringIO('\"'\"'from setuptools import setup; setup()'\"'\"');code = f.read().replace('\"'\"'\\r\\n'\"'\"', '\"'\"'\\n'\"'\"');f.close();exec(compile(code, __file__, '\"'\"'exec'\"'\"'))' egg_info --egg-base 'C:\\Users\\jchop\\AppData\\Local\\Temp\\pip-pip-egg-info-s0wryy6r'\n",
      "         cwd: C:\\Users\\jchop\\AppData\\Local\\Temp\\pip-install-w935z1sw\\auto-sklearn_572f0a8b66fd4917ae10cc4989139d9d\\\n",
      "    Complete output (5 lines):\n",
      "    Traceback (most recent call last):\n",
      "      File \"<string>\", line 1, in <module>\n",
      "      File \"C:\\Users\\jchop\\AppData\\Local\\Temp\\pip-install-w935z1sw\\auto-sklearn_572f0a8b66fd4917ae10cc4989139d9d\\setup.py\", line 9, in <module>\n",
      "        raise ValueError(\n",
      "    ValueError: Detected unsupported operating system: win32. Please check the compability information of auto-sklearn: https://automl.github.io/auto-sklearn/master/installation.html#windows-osx-compatibility\n",
      "    ----------------------------------------\n",
      "WARNING: Discarding https://files.pythonhosted.org/packages/bf/be/51cfbd3d0224228e940716a4577839f129e61f3786326c1079774712e150/auto-sklearn-0.12.4.tar.gz#sha256=7741feee59a5dff12ae52cbc6df6c500bd094a76480a0a8f99ccd1c9d807aefd (from https://pypi.org/simple/auto-sklearn/) (requires-python:>=3.6). Command errored out with exit status 1: python setup.py egg_info Check the logs for full command output.\n",
      "    ERROR: Command errored out with exit status 1:\n",
      "     command: 'C:\\Users\\jchop\\anaconda3\\envs\\MLOps-dev\\python.exe' -c 'import io, os, sys, setuptools, tokenize; sys.argv[0] = '\"'\"'C:\\\\Users\\\\jchop\\\\AppData\\\\Local\\\\Temp\\\\pip-install-w935z1sw\\\\auto-sklearn_1c33f4d26246479ea07267d82f2e3bb1\\\\setup.py'\"'\"'; __file__='\"'\"'C:\\\\Users\\\\jchop\\\\AppData\\\\Local\\\\Temp\\\\pip-install-w935z1sw\\\\auto-sklearn_1c33f4d26246479ea07267d82f2e3bb1\\\\setup.py'\"'\"';f = getattr(tokenize, '\"'\"'open'\"'\"', open)(__file__) if os.path.exists(__file__) else io.StringIO('\"'\"'from setuptools import setup; setup()'\"'\"');code = f.read().replace('\"'\"'\\r\\n'\"'\"', '\"'\"'\\n'\"'\"');f.close();exec(compile(code, __file__, '\"'\"'exec'\"'\"'))' egg_info --egg-base 'C:\\Users\\jchop\\AppData\\Local\\Temp\\pip-pip-egg-info-flyzk45x'\n",
      "         cwd: C:\\Users\\jchop\\AppData\\Local\\Temp\\pip-install-w935z1sw\\auto-sklearn_1c33f4d26246479ea07267d82f2e3bb1\\\n",
      "    Complete output (5 lines):\n",
      "    Traceback (most recent call last):\n",
      "      File \"<string>\", line 1, in <module>\n",
      "      File \"C:\\Users\\jchop\\AppData\\Local\\Temp\\pip-install-w935z1sw\\auto-sklearn_1c33f4d26246479ea07267d82f2e3bb1\\setup.py\", line 9, in <module>\n",
      "        raise ValueError(\n",
      "    ValueError: Detected unsupported operating system: win32. Please check the compability information of auto-sklearn: https://automl.github.io/auto-sklearn/master/installation.html#windows-osx-compatibility\n",
      "    ----------------------------------------\n",
      "WARNING: Discarding https://files.pythonhosted.org/packages/83/38/4bffa24065793f5b4101db83b9b1d89199df9ba5c4651104e292702f2bef/auto-sklearn-0.12.3.tar.gz#sha256=1222e39596b2d9cc129cfcaa2106467b5f11479f49e8b09fbf78750dd3dfcfab (from https://pypi.org/simple/auto-sklearn/) (requires-python:>=3.6). Command errored out with exit status 1: python setup.py egg_info Check the logs for full command output.\n",
      "    ERROR: Command errored out with exit status 1:\n",
      "     command: 'C:\\Users\\jchop\\anaconda3\\envs\\MLOps-dev\\python.exe' -c 'import io, os, sys, setuptools, tokenize; sys.argv[0] = '\"'\"'C:\\\\Users\\\\jchop\\\\AppData\\\\Local\\\\Temp\\\\pip-install-w935z1sw\\\\auto-sklearn_2f3d39d43e5a4546ae8060bf644f8e6e\\\\setup.py'\"'\"'; __file__='\"'\"'C:\\\\Users\\\\jchop\\\\AppData\\\\Local\\\\Temp\\\\pip-install-w935z1sw\\\\auto-sklearn_2f3d39d43e5a4546ae8060bf644f8e6e\\\\setup.py'\"'\"';f = getattr(tokenize, '\"'\"'open'\"'\"', open)(__file__) if os.path.exists(__file__) else io.StringIO('\"'\"'from setuptools import setup; setup()'\"'\"');code = f.read().replace('\"'\"'\\r\\n'\"'\"', '\"'\"'\\n'\"'\"');f.close();exec(compile(code, __file__, '\"'\"'exec'\"'\"'))' egg_info --egg-base 'C:\\Users\\jchop\\AppData\\Local\\Temp\\pip-pip-egg-info-5q63vp53'\n",
      "         cwd: C:\\Users\\jchop\\AppData\\Local\\Temp\\pip-install-w935z1sw\\auto-sklearn_2f3d39d43e5a4546ae8060bf644f8e6e\\\n",
      "    Complete output (5 lines):\n",
      "    Traceback (most recent call last):\n",
      "      File \"<string>\", line 1, in <module>\n",
      "      File \"C:\\Users\\jchop\\AppData\\Local\\Temp\\pip-install-w935z1sw\\auto-sklearn_2f3d39d43e5a4546ae8060bf644f8e6e\\setup.py\", line 9, in <module>\n",
      "        raise ValueError(\n",
      "    ValueError: Detected unsupported operating system: win32. Please check the compability information of auto-sklearn: https://automl.github.io/auto-sklearn/master/installation.html#windows-osx-compatibility\n",
      "    ----------------------------------------\n",
      "WARNING: Discarding https://files.pythonhosted.org/packages/ab/08/bfdde4c6ca104c1d694bd28898bb0231bcd04d593c620f67ae7046e12678/auto-sklearn-0.12.2.tar.gz#sha256=e44289fe7456391252b96924def512be5b52cbd311e1c3192319eb2af594d678 (from https://pypi.org/simple/auto-sklearn/) (requires-python:>=3.6). Command errored out with exit status 1: python setup.py egg_info Check the logs for full command output.\n",
      "    ERROR: Command errored out with exit status 1:\n",
      "     command: 'C:\\Users\\jchop\\anaconda3\\envs\\MLOps-dev\\python.exe' -c 'import io, os, sys, setuptools, tokenize; sys.argv[0] = '\"'\"'C:\\\\Users\\\\jchop\\\\AppData\\\\Local\\\\Temp\\\\pip-install-w935z1sw\\\\auto-sklearn_b41c25f19d7e4bf18e963089d4d5ff34\\\\setup.py'\"'\"'; __file__='\"'\"'C:\\\\Users\\\\jchop\\\\AppData\\\\Local\\\\Temp\\\\pip-install-w935z1sw\\\\auto-sklearn_b41c25f19d7e4bf18e963089d4d5ff34\\\\setup.py'\"'\"';f = getattr(tokenize, '\"'\"'open'\"'\"', open)(__file__) if os.path.exists(__file__) else io.StringIO('\"'\"'from setuptools import setup; setup()'\"'\"');code = f.read().replace('\"'\"'\\r\\n'\"'\"', '\"'\"'\\n'\"'\"');f.close();exec(compile(code, __file__, '\"'\"'exec'\"'\"'))' egg_info --egg-base 'C:\\Users\\jchop\\AppData\\Local\\Temp\\pip-pip-egg-info-rqk1s04u'\n",
      "         cwd: C:\\Users\\jchop\\AppData\\Local\\Temp\\pip-install-w935z1sw\\auto-sklearn_b41c25f19d7e4bf18e963089d4d5ff34\\\n",
      "    Complete output (5 lines):\n",
      "    Traceback (most recent call last):\n",
      "      File \"<string>\", line 1, in <module>\n",
      "      File \"C:\\Users\\jchop\\AppData\\Local\\Temp\\pip-install-w935z1sw\\auto-sklearn_b41c25f19d7e4bf18e963089d4d5ff34\\setup.py\", line 9, in <module>\n",
      "        raise ValueError(\n",
      "    ValueError: Detected unsupported operating system: win32. Please check the compability information of auto-sklearn: https://automl.github.io/auto-sklearn/master/installation.html#windows-osx-compatibility\n",
      "    ----------------------------------------\n",
      "WARNING: Discarding https://files.pythonhosted.org/packages/18/2b/791ba4aac1ea4209c40266e1e6cd1218144d7d7195f7bfd30724789ea2a6/auto-sklearn-0.12.1.tar.gz#sha256=2a7e5ec240058b72cf5618d37df58a08faefab29544558223e10764a431a648d (from https://pypi.org/simple/auto-sklearn/) (requires-python:>=3.6). Command errored out with exit status 1: python setup.py egg_info Check the logs for full command output.\n",
      "    ERROR: Command errored out with exit status 1:\n",
      "     command: 'C:\\Users\\jchop\\anaconda3\\envs\\MLOps-dev\\python.exe' -c 'import io, os, sys, setuptools, tokenize; sys.argv[0] = '\"'\"'C:\\\\Users\\\\jchop\\\\AppData\\\\Local\\\\Temp\\\\pip-install-w935z1sw\\\\auto-sklearn_a51c7f800fd34a8ea340b1f46bad6096\\\\setup.py'\"'\"'; __file__='\"'\"'C:\\\\Users\\\\jchop\\\\AppData\\\\Local\\\\Temp\\\\pip-install-w935z1sw\\\\auto-sklearn_a51c7f800fd34a8ea340b1f46bad6096\\\\setup.py'\"'\"';f = getattr(tokenize, '\"'\"'open'\"'\"', open)(__file__) if os.path.exists(__file__) else io.StringIO('\"'\"'from setuptools import setup; setup()'\"'\"');code = f.read().replace('\"'\"'\\r\\n'\"'\"', '\"'\"'\\n'\"'\"');f.close();exec(compile(code, __file__, '\"'\"'exec'\"'\"'))' egg_info --egg-base 'C:\\Users\\jchop\\AppData\\Local\\Temp\\pip-pip-egg-info-mz8a2zuv'\n",
      "         cwd: C:\\Users\\jchop\\AppData\\Local\\Temp\\pip-install-w935z1sw\\auto-sklearn_a51c7f800fd34a8ea340b1f46bad6096\\\n",
      "    Complete output (5 lines):\n",
      "    Traceback (most recent call last):\n",
      "      File \"<string>\", line 1, in <module>\n",
      "      File \"C:\\Users\\jchop\\AppData\\Local\\Temp\\pip-install-w935z1sw\\auto-sklearn_a51c7f800fd34a8ea340b1f46bad6096\\setup.py\", line 9, in <module>\n",
      "        raise ValueError(\n",
      "    ValueError: Detected unsupported operating system: win32. Please check the compability information of auto-sklearn: https://automl.github.io/auto-sklearn/master/installation.html#windows-osx-compatibility\n",
      "    ----------------------------------------\n",
      "WARNING: Discarding https://files.pythonhosted.org/packages/55/b7/f20bb1484dcc08ffaf22f294c9f69a4a7a7aa87007787ab0f88fc9992d8e/auto-sklearn-0.12.0.tar.gz#sha256=db332781610eada06c675ad35a52e2dc8641145711dd0fd64152208f803e9905 (from https://pypi.org/simple/auto-sklearn/) (requires-python:>=3.6). Command errored out with exit status 1: python setup.py egg_info Check the logs for full command output.\n",
      "    ERROR: Command errored out with exit status 1:\n",
      "     command: 'C:\\Users\\jchop\\anaconda3\\envs\\MLOps-dev\\python.exe' -c 'import io, os, sys, setuptools, tokenize; sys.argv[0] = '\"'\"'C:\\\\Users\\\\jchop\\\\AppData\\\\Local\\\\Temp\\\\pip-install-w935z1sw\\\\auto-sklearn_15de736b21254fc5aab16f38973c3d9c\\\\setup.py'\"'\"'; __file__='\"'\"'C:\\\\Users\\\\jchop\\\\AppData\\\\Local\\\\Temp\\\\pip-install-w935z1sw\\\\auto-sklearn_15de736b21254fc5aab16f38973c3d9c\\\\setup.py'\"'\"';f = getattr(tokenize, '\"'\"'open'\"'\"', open)(__file__) if os.path.exists(__file__) else io.StringIO('\"'\"'from setuptools import setup; setup()'\"'\"');code = f.read().replace('\"'\"'\\r\\n'\"'\"', '\"'\"'\\n'\"'\"');f.close();exec(compile(code, __file__, '\"'\"'exec'\"'\"'))' egg_info --egg-base 'C:\\Users\\jchop\\AppData\\Local\\Temp\\pip-pip-egg-info-8662f7dl'\n",
      "         cwd: C:\\Users\\jchop\\AppData\\Local\\Temp\\pip-install-w935z1sw\\auto-sklearn_15de736b21254fc5aab16f38973c3d9c\\\n",
      "    Complete output (5 lines):\n",
      "    Traceback (most recent call last):\n",
      "      File \"<string>\", line 1, in <module>\n",
      "      File \"C:\\Users\\jchop\\AppData\\Local\\Temp\\pip-install-w935z1sw\\auto-sklearn_15de736b21254fc5aab16f38973c3d9c\\setup.py\", line 9, in <module>\n",
      "        raise ValueError(\n",
      "    ValueError: Detected unsupported operating system: win32. Please check the compability information of auto-sklearn: https://automl.github.io/auto-sklearn/master/installation.html#windows-osx-compatibility\n",
      "    ----------------------------------------\n",
      "WARNING: Discarding https://files.pythonhosted.org/packages/63/09/e2311163385861101eb95e765adb74b266a4c1b309b84e3346f043e5f438/auto-sklearn-0.11.1.tar.gz#sha256=d6712aa22f65644d80da2709bbe700735f3b8a264d428fbc3970bf5921317141 (from https://pypi.org/simple/auto-sklearn/) (requires-python:>=3.6). Command errored out with exit status 1: python setup.py egg_info Check the logs for full command output.\n",
      "    ERROR: Command errored out with exit status 1:\n",
      "     command: 'C:\\Users\\jchop\\anaconda3\\envs\\MLOps-dev\\python.exe' -c 'import io, os, sys, setuptools, tokenize; sys.argv[0] = '\"'\"'C:\\\\Users\\\\jchop\\\\AppData\\\\Local\\\\Temp\\\\pip-install-w935z1sw\\\\auto-sklearn_b38ae140f2cf44f6922da9c1f3caa1ee\\\\setup.py'\"'\"'; __file__='\"'\"'C:\\\\Users\\\\jchop\\\\AppData\\\\Local\\\\Temp\\\\pip-install-w935z1sw\\\\auto-sklearn_b38ae140f2cf44f6922da9c1f3caa1ee\\\\setup.py'\"'\"';f = getattr(tokenize, '\"'\"'open'\"'\"', open)(__file__) if os.path.exists(__file__) else io.StringIO('\"'\"'from setuptools import setup; setup()'\"'\"');code = f.read().replace('\"'\"'\\r\\n'\"'\"', '\"'\"'\\n'\"'\"');f.close();exec(compile(code, __file__, '\"'\"'exec'\"'\"'))' egg_info --egg-base 'C:\\Users\\jchop\\AppData\\Local\\Temp\\pip-pip-egg-info-z4h9rg2d'\n",
      "         cwd: C:\\Users\\jchop\\AppData\\Local\\Temp\\pip-install-w935z1sw\\auto-sklearn_b38ae140f2cf44f6922da9c1f3caa1ee\\\n",
      "    Complete output (5 lines):\n",
      "    Traceback (most recent call last):\n",
      "      File \"<string>\", line 1, in <module>\n",
      "      File \"C:\\Users\\jchop\\AppData\\Local\\Temp\\pip-install-w935z1sw\\auto-sklearn_b38ae140f2cf44f6922da9c1f3caa1ee\\setup.py\", line 9, in <module>\n",
      "        raise ValueError(\n",
      "    ValueError: Detected unsupported operating system: win32. Please check the compability information of auto-sklearn: https://automl.github.io/auto-sklearn/master/installation.html#windows-osx-compatibility\n",
      "    ----------------------------------------\n",
      "WARNING: Discarding https://files.pythonhosted.org/packages/40/5b/545dfb133bbced94e3133c60a5dbd93756a7c8edd942b0acb76c1e9f474d/auto-sklearn-0.11.0.tar.gz#sha256=3779fce3e954f1830a7d3a18df45d72e1ae0788be3ac9b10d69560aa699f41f5 (from https://pypi.org/simple/auto-sklearn/) (requires-python:>=3.6). Command errored out with exit status 1: python setup.py egg_info Check the logs for full command output.\n",
      "    ERROR: Command errored out with exit status 1:\n",
      "     command: 'C:\\Users\\jchop\\anaconda3\\envs\\MLOps-dev\\python.exe' -c 'import io, os, sys, setuptools, tokenize; sys.argv[0] = '\"'\"'C:\\\\Users\\\\jchop\\\\AppData\\\\Local\\\\Temp\\\\pip-install-w935z1sw\\\\auto-sklearn_72abba6b171a435289d7d8639417d604\\\\setup.py'\"'\"'; __file__='\"'\"'C:\\\\Users\\\\jchop\\\\AppData\\\\Local\\\\Temp\\\\pip-install-w935z1sw\\\\auto-sklearn_72abba6b171a435289d7d8639417d604\\\\setup.py'\"'\"';f = getattr(tokenize, '\"'\"'open'\"'\"', open)(__file__) if os.path.exists(__file__) else io.StringIO('\"'\"'from setuptools import setup; setup()'\"'\"');code = f.read().replace('\"'\"'\\r\\n'\"'\"', '\"'\"'\\n'\"'\"');f.close();exec(compile(code, __file__, '\"'\"'exec'\"'\"'))' egg_info --egg-base 'C:\\Users\\jchop\\AppData\\Local\\Temp\\pip-pip-egg-info-h1b7hljh'\n",
      "         cwd: C:\\Users\\jchop\\AppData\\Local\\Temp\\pip-install-w935z1sw\\auto-sklearn_72abba6b171a435289d7d8639417d604\\\n",
      "    Complete output (5 lines):\n",
      "    Traceback (most recent call last):\n",
      "      File \"<string>\", line 1, in <module>\n",
      "      File \"C:\\Users\\jchop\\AppData\\Local\\Temp\\pip-install-w935z1sw\\auto-sklearn_72abba6b171a435289d7d8639417d604\\setup.py\", line 9, in <module>\n",
      "        raise ValueError(\n",
      "    ValueError: Detected unsupported operating system: win32. Please check the compability information of auto-sklearn: https://automl.github.io/auto-sklearn/master/installation.html#windows-osx-compatibility\n",
      "    ----------------------------------------\n",
      "WARNING: Discarding https://files.pythonhosted.org/packages/21/06/7b01155e9d507b173a4ee64a357957e04965c651cc1c3ff9ff3715930713/auto-sklearn-0.10.0.tar.gz#sha256=1f76dcd7da019bd92ea1234bcdbc947c8af7ac7cdf0245e4687f802eaaffd696 (from https://pypi.org/simple/auto-sklearn/) (requires-python:>=3.6). Command errored out with exit status 1: python setup.py egg_info Check the logs for full command output.\n",
      "    ERROR: Command errored out with exit status 1:\n",
      "     command: 'C:\\Users\\jchop\\anaconda3\\envs\\MLOps-dev\\python.exe' -c 'import io, os, sys, setuptools, tokenize; sys.argv[0] = '\"'\"'C:\\\\Users\\\\jchop\\\\AppData\\\\Local\\\\Temp\\\\pip-install-w935z1sw\\\\auto-sklearn_bdfb85409fa34ee1be22070f72dcecef\\\\setup.py'\"'\"'; __file__='\"'\"'C:\\\\Users\\\\jchop\\\\AppData\\\\Local\\\\Temp\\\\pip-install-w935z1sw\\\\auto-sklearn_bdfb85409fa34ee1be22070f72dcecef\\\\setup.py'\"'\"';f = getattr(tokenize, '\"'\"'open'\"'\"', open)(__file__) if os.path.exists(__file__) else io.StringIO('\"'\"'from setuptools import setup; setup()'\"'\"');code = f.read().replace('\"'\"'\\r\\n'\"'\"', '\"'\"'\\n'\"'\"');f.close();exec(compile(code, __file__, '\"'\"'exec'\"'\"'))' egg_info --egg-base 'C:\\Users\\jchop\\AppData\\Local\\Temp\\pip-pip-egg-info-0zf4ox4_'\n",
      "         cwd: C:\\Users\\jchop\\AppData\\Local\\Temp\\pip-install-w935z1sw\\auto-sklearn_bdfb85409fa34ee1be22070f72dcecef\\\n",
      "    Complete output (5 lines):\n",
      "    Traceback (most recent call last):\n",
      "      File \"<string>\", line 1, in <module>\n",
      "      File \"C:\\Users\\jchop\\AppData\\Local\\Temp\\pip-install-w935z1sw\\auto-sklearn_bdfb85409fa34ee1be22070f72dcecef\\setup.py\", line 9, in <module>\n",
      "        raise ValueError(\n",
      "    ValueError: Detected unsupported operating system: win32. Please check the compability information of auto-sklearn: https://automl.github.io/auto-sklearn/master/installation.html#windows-osx-compatibility\n",
      "    ----------------------------------------\n",
      "WARNING: Discarding https://files.pythonhosted.org/packages/0a/b0/b5b80c2e814f073ce4b3402adb9d8378b673d7895af7a455d6ecca0b9cd5/auto-sklearn-0.9.0.tar.gz#sha256=61983d31cf9573fcd9746c5ae09f9e0add28a02463c6f83f89ff9e6ffd1a0129 (from https://pypi.org/simple/auto-sklearn/) (requires-python:>=3.5.*). Command errored out with exit status 1: python setup.py egg_info Check the logs for full command output.\n",
      "    ERROR: Command errored out with exit status 1:\n",
      "     command: 'C:\\Users\\jchop\\anaconda3\\envs\\MLOps-dev\\python.exe' -c 'import io, os, sys, setuptools, tokenize; sys.argv[0] = '\"'\"'C:\\\\Users\\\\jchop\\\\AppData\\\\Local\\\\Temp\\\\pip-install-w935z1sw\\\\auto-sklearn_acc4584cfa18441f861af02b0e60772e\\\\setup.py'\"'\"'; __file__='\"'\"'C:\\\\Users\\\\jchop\\\\AppData\\\\Local\\\\Temp\\\\pip-install-w935z1sw\\\\auto-sklearn_acc4584cfa18441f861af02b0e60772e\\\\setup.py'\"'\"';f = getattr(tokenize, '\"'\"'open'\"'\"', open)(__file__) if os.path.exists(__file__) else io.StringIO('\"'\"'from setuptools import setup; setup()'\"'\"');code = f.read().replace('\"'\"'\\r\\n'\"'\"', '\"'\"'\\n'\"'\"');f.close();exec(compile(code, __file__, '\"'\"'exec'\"'\"'))' egg_info --egg-base 'C:\\Users\\jchop\\AppData\\Local\\Temp\\pip-pip-egg-info-fug8m0tk'\n",
      "         cwd: C:\\Users\\jchop\\AppData\\Local\\Temp\\pip-install-w935z1sw\\auto-sklearn_acc4584cfa18441f861af02b0e60772e\\\n",
      "    Complete output (5 lines):\n",
      "    Traceback (most recent call last):\n",
      "      File \"<string>\", line 1, in <module>\n",
      "      File \"C:\\Users\\jchop\\AppData\\Local\\Temp\\pip-install-w935z1sw\\auto-sklearn_acc4584cfa18441f861af02b0e60772e\\setup.py\", line 9, in <module>\n",
      "        raise ValueError(\n",
      "    ValueError: Detected unsupported operating system: win32. Please check the compability information of auto-sklearn: http://automl.github.io/auto-sklearn/stable/installation.html#windows-osx-compability\n",
      "    ----------------------------------------\n",
      "WARNING: Discarding https://files.pythonhosted.org/packages/3d/dd/590237d488627a7856fc51d67d2bd801601deecfbb500d6daaf66f641462/auto-sklearn-0.8.0.tar.gz#sha256=cf2805a789bc842030f52abd0949feecc9a6bd8befd4e6968b407c5951c4d1df (from https://pypi.org/simple/auto-sklearn/) (requires-python:>=3.5.*). Command errored out with exit status 1: python setup.py egg_info Check the logs for full command output.\n",
      "    ERROR: Command errored out with exit status 1:\n",
      "     command: 'C:\\Users\\jchop\\anaconda3\\envs\\MLOps-dev\\python.exe' -c 'import io, os, sys, setuptools, tokenize; sys.argv[0] = '\"'\"'C:\\\\Users\\\\jchop\\\\AppData\\\\Local\\\\Temp\\\\pip-install-w935z1sw\\\\auto-sklearn_434e7d0572d3473fa2da5a81c72efac0\\\\setup.py'\"'\"'; __file__='\"'\"'C:\\\\Users\\\\jchop\\\\AppData\\\\Local\\\\Temp\\\\pip-install-w935z1sw\\\\auto-sklearn_434e7d0572d3473fa2da5a81c72efac0\\\\setup.py'\"'\"';f = getattr(tokenize, '\"'\"'open'\"'\"', open)(__file__) if os.path.exists(__file__) else io.StringIO('\"'\"'from setuptools import setup; setup()'\"'\"');code = f.read().replace('\"'\"'\\r\\n'\"'\"', '\"'\"'\\n'\"'\"');f.close();exec(compile(code, __file__, '\"'\"'exec'\"'\"'))' egg_info --egg-base 'C:\\Users\\jchop\\AppData\\Local\\Temp\\pip-pip-egg-info-gto_8uk0'\n",
      "         cwd: C:\\Users\\jchop\\AppData\\Local\\Temp\\pip-install-w935z1sw\\auto-sklearn_434e7d0572d3473fa2da5a81c72efac0\\\n",
      "    Complete output (5 lines):\n",
      "    Traceback (most recent call last):\n",
      "      File \"<string>\", line 1, in <module>\n",
      "      File \"C:\\Users\\jchop\\AppData\\Local\\Temp\\pip-install-w935z1sw\\auto-sklearn_434e7d0572d3473fa2da5a81c72efac0\\setup.py\", line 9, in <module>\n",
      "        raise ValueError(\n",
      "    ValueError: Detected unsupported operating system: win32. Please check the compability information of auto-sklearn: http://automl.github.io/auto-sklearn/stable/installation.html#windows-osx-compability\n",
      "    ----------------------------------------\n",
      "WARNING: Discarding https://files.pythonhosted.org/packages/fe/9b/0addcbab3e26b19e399c0907ff0ce63e4a5d5f868a2b958ef318f248cda9/auto-sklearn-0.7.1.tar.gz#sha256=b34a43c4a96d7fd900286dff4c45321d96234deb0ebcb48a28eab13375bb61c5 (from https://pypi.org/simple/auto-sklearn/) (requires-python:>=3.5.*). Command errored out with exit status 1: python setup.py egg_info Check the logs for full command output.\n",
      "    ERROR: Command errored out with exit status 1:\n",
      "     command: 'C:\\Users\\jchop\\anaconda3\\envs\\MLOps-dev\\python.exe' -c 'import io, os, sys, setuptools, tokenize; sys.argv[0] = '\"'\"'C:\\\\Users\\\\jchop\\\\AppData\\\\Local\\\\Temp\\\\pip-install-w935z1sw\\\\auto-sklearn_0dd9f492679048e8ae3c33620c04cf5c\\\\setup.py'\"'\"'; __file__='\"'\"'C:\\\\Users\\\\jchop\\\\AppData\\\\Local\\\\Temp\\\\pip-install-w935z1sw\\\\auto-sklearn_0dd9f492679048e8ae3c33620c04cf5c\\\\setup.py'\"'\"';f = getattr(tokenize, '\"'\"'open'\"'\"', open)(__file__) if os.path.exists(__file__) else io.StringIO('\"'\"'from setuptools import setup; setup()'\"'\"');code = f.read().replace('\"'\"'\\r\\n'\"'\"', '\"'\"'\\n'\"'\"');f.close();exec(compile(code, __file__, '\"'\"'exec'\"'\"'))' egg_info --egg-base 'C:\\Users\\jchop\\AppData\\Local\\Temp\\pip-pip-egg-info-aqrxsk5p'\n",
      "         cwd: C:\\Users\\jchop\\AppData\\Local\\Temp\\pip-install-w935z1sw\\auto-sklearn_0dd9f492679048e8ae3c33620c04cf5c\\\n",
      "    Complete output (5 lines):\n",
      "    Traceback (most recent call last):\n",
      "      File \"<string>\", line 1, in <module>\n",
      "      File \"C:\\Users\\jchop\\AppData\\Local\\Temp\\pip-install-w935z1sw\\auto-sklearn_0dd9f492679048e8ae3c33620c04cf5c\\setup.py\", line 11, in <module>\n",
      "        raise ValueError(\n",
      "    ValueError: Detected unsupported operating system: win32. Please check the compability information of auto-sklearn: http://automl.github.io/auto-sklearn/stable/installation.html#windows-osx-compability\n",
      "    ----------------------------------------\n",
      "WARNING: Discarding https://files.pythonhosted.org/packages/16/8e/74a4bd3f80bfcd25eabe8f31494db1a1cad4520f25cc791b04378fd2d117/auto-sklearn-0.7.0.tar.gz#sha256=ec55c4c2c44f9690e95db318292bf8c7bb9706d133bb759542b573674308701a (from https://pypi.org/simple/auto-sklearn/) (requires-python:>=3.5.*). Command errored out with exit status 1: python setup.py egg_info Check the logs for full command output.\n",
      "    ERROR: Command errored out with exit status 1:\n",
      "     command: 'C:\\Users\\jchop\\anaconda3\\envs\\MLOps-dev\\python.exe' -c 'import io, os, sys, setuptools, tokenize; sys.argv[0] = '\"'\"'C:\\\\Users\\\\jchop\\\\AppData\\\\Local\\\\Temp\\\\pip-install-w935z1sw\\\\auto-sklearn_d870d86a415c4590bb94e00a38ab7798\\\\setup.py'\"'\"'; __file__='\"'\"'C:\\\\Users\\\\jchop\\\\AppData\\\\Local\\\\Temp\\\\pip-install-w935z1sw\\\\auto-sklearn_d870d86a415c4590bb94e00a38ab7798\\\\setup.py'\"'\"';f = getattr(tokenize, '\"'\"'open'\"'\"', open)(__file__) if os.path.exists(__file__) else io.StringIO('\"'\"'from setuptools import setup; setup()'\"'\"');code = f.read().replace('\"'\"'\\r\\n'\"'\"', '\"'\"'\\n'\"'\"');f.close();exec(compile(code, __file__, '\"'\"'exec'\"'\"'))' egg_info --egg-base 'C:\\Users\\jchop\\AppData\\Local\\Temp\\pip-pip-egg-info-1mk5d862'\n",
      "         cwd: C:\\Users\\jchop\\AppData\\Local\\Temp\\pip-install-w935z1sw\\auto-sklearn_d870d86a415c4590bb94e00a38ab7798\\\n",
      "    Complete output (5 lines):\n",
      "    Traceback (most recent call last):\n",
      "      File \"<string>\", line 1, in <module>\n",
      "      File \"C:\\Users\\jchop\\AppData\\Local\\Temp\\pip-install-w935z1sw\\auto-sklearn_d870d86a415c4590bb94e00a38ab7798\\setup.py\", line 11, in <module>\n",
      "        raise ValueError(\n",
      "    ValueError: Detected unsupported operating system: win32. Please check the compability information of auto-sklearn: http://automl.github.io/auto-sklearn/stable/installation.html#windows-osx-compability\n",
      "    ----------------------------------------\n",
      "WARNING: Discarding https://files.pythonhosted.org/packages/ec/33/670d1074e349c3e501458a8a7072e38b57a89eb720b6768972ae7106e608/auto-sklearn-0.6.0.tar.gz#sha256=32f483c423298c51e8d0f840f09a8521a9bc65c2adadc3633fe8c30d0e4a1a90 (from https://pypi.org/simple/auto-sklearn/) (requires-python:>=3.5.*). Command errored out with exit status 1: python setup.py egg_info Check the logs for full command output.\n",
      "    ERROR: Command errored out with exit status 1:\n",
      "     command: 'C:\\Users\\jchop\\anaconda3\\envs\\MLOps-dev\\python.exe' -c 'import io, os, sys, setuptools, tokenize; sys.argv[0] = '\"'\"'C:\\\\Users\\\\jchop\\\\AppData\\\\Local\\\\Temp\\\\pip-install-w935z1sw\\\\auto-sklearn_ebc9680c0e9947d4844677bfec6b2432\\\\setup.py'\"'\"'; __file__='\"'\"'C:\\\\Users\\\\jchop\\\\AppData\\\\Local\\\\Temp\\\\pip-install-w935z1sw\\\\auto-sklearn_ebc9680c0e9947d4844677bfec6b2432\\\\setup.py'\"'\"';f = getattr(tokenize, '\"'\"'open'\"'\"', open)(__file__) if os.path.exists(__file__) else io.StringIO('\"'\"'from setuptools import setup; setup()'\"'\"');code = f.read().replace('\"'\"'\\r\\n'\"'\"', '\"'\"'\\n'\"'\"');f.close();exec(compile(code, __file__, '\"'\"'exec'\"'\"'))' egg_info --egg-base 'C:\\Users\\jchop\\AppData\\Local\\Temp\\pip-pip-egg-info-sp4wob6z'\n",
      "         cwd: C:\\Users\\jchop\\AppData\\Local\\Temp\\pip-install-w935z1sw\\auto-sklearn_ebc9680c0e9947d4844677bfec6b2432\\\n",
      "    Complete output (5 lines):\n",
      "    Traceback (most recent call last):\n",
      "      File \"<string>\", line 1, in <module>\n",
      "      File \"C:\\Users\\jchop\\AppData\\Local\\Temp\\pip-install-w935z1sw\\auto-sklearn_ebc9680c0e9947d4844677bfec6b2432\\setup.py\", line 11, in <module>\n",
      "        raise ValueError(\n",
      "    ValueError: Detected unsupported operating system: win32. Please check the compability information of auto-sklearn: http://automl.github.io/auto-sklearn/stable/installation.html#windows-osx-compability\n",
      "    ----------------------------------------\n",
      "WARNING: Discarding https://files.pythonhosted.org/packages/1d/99/27caac4f6804be48722158e31c630e0737110581774df0615a36b21239aa/auto-sklearn-0.5.2.tar.gz#sha256=d9bd91b964664b6e8983d6ecfb757e01af5f0113c2909009ff5b11d503b49c38 (from https://pypi.org/simple/auto-sklearn/). Command errored out with exit status 1: python setup.py egg_info Check the logs for full command output.\n",
      "    ERROR: Command errored out with exit status 1:\n",
      "     command: 'C:\\Users\\jchop\\anaconda3\\envs\\MLOps-dev\\python.exe' -c 'import io, os, sys, setuptools, tokenize; sys.argv[0] = '\"'\"'C:\\\\Users\\\\jchop\\\\AppData\\\\Local\\\\Temp\\\\pip-install-w935z1sw\\\\auto-sklearn_04c1e16838a54478bae687dd1c73b86a\\\\setup.py'\"'\"'; __file__='\"'\"'C:\\\\Users\\\\jchop\\\\AppData\\\\Local\\\\Temp\\\\pip-install-w935z1sw\\\\auto-sklearn_04c1e16838a54478bae687dd1c73b86a\\\\setup.py'\"'\"';f = getattr(tokenize, '\"'\"'open'\"'\"', open)(__file__) if os.path.exists(__file__) else io.StringIO('\"'\"'from setuptools import setup; setup()'\"'\"');code = f.read().replace('\"'\"'\\r\\n'\"'\"', '\"'\"'\\n'\"'\"');f.close();exec(compile(code, __file__, '\"'\"'exec'\"'\"'))' egg_info --egg-base 'C:\\Users\\jchop\\AppData\\Local\\Temp\\pip-pip-egg-info-vqvsw233'\n",
      "         cwd: C:\\Users\\jchop\\AppData\\Local\\Temp\\pip-install-w935z1sw\\auto-sklearn_04c1e16838a54478bae687dd1c73b86a\\\n",
      "    Complete output (5 lines):\n",
      "    Traceback (most recent call last):\n",
      "      File \"<string>\", line 1, in <module>\n",
      "      File \"C:\\Users\\jchop\\AppData\\Local\\Temp\\pip-install-w935z1sw\\auto-sklearn_04c1e16838a54478bae687dd1c73b86a\\setup.py\", line 11, in <module>\n",
      "        raise ValueError(\n",
      "    ValueError: Detected unsupported operating system: win32. Please check the compability information of auto-sklearn: http://automl.github.io/auto-sklearn/stable/installation.html#windows-osx-compability\n",
      "    ----------------------------------------\n",
      "WARNING: Discarding https://files.pythonhosted.org/packages/e6/c3/27e6de9f540ffaf05465b304a3820b947cc57421a4ebb44996ef323758b2/auto-sklearn-0.5.1.tar.gz#sha256=3ec4e1d63a0e2bce47bc12b0b226b8985dcdfea2bb808f4f4273e048df72f158 (from https://pypi.org/simple/auto-sklearn/). Command errored out with exit status 1: python setup.py egg_info Check the logs for full command output.\n",
      "    ERROR: Command errored out with exit status 1:\n",
      "     command: 'C:\\Users\\jchop\\anaconda3\\envs\\MLOps-dev\\python.exe' -c 'import io, os, sys, setuptools, tokenize; sys.argv[0] = '\"'\"'C:\\\\Users\\\\jchop\\\\AppData\\\\Local\\\\Temp\\\\pip-install-w935z1sw\\\\auto-sklearn_f889097c23914a3f95461c5af1f98cea\\\\setup.py'\"'\"'; __file__='\"'\"'C:\\\\Users\\\\jchop\\\\AppData\\\\Local\\\\Temp\\\\pip-install-w935z1sw\\\\auto-sklearn_f889097c23914a3f95461c5af1f98cea\\\\setup.py'\"'\"';f = getattr(tokenize, '\"'\"'open'\"'\"', open)(__file__) if os.path.exists(__file__) else io.StringIO('\"'\"'from setuptools import setup; setup()'\"'\"');code = f.read().replace('\"'\"'\\r\\n'\"'\"', '\"'\"'\\n'\"'\"');f.close();exec(compile(code, __file__, '\"'\"'exec'\"'\"'))' egg_info --egg-base 'C:\\Users\\jchop\\AppData\\Local\\Temp\\pip-pip-egg-info-6lrtvexq'\n",
      "         cwd: C:\\Users\\jchop\\AppData\\Local\\Temp\\pip-install-w935z1sw\\auto-sklearn_f889097c23914a3f95461c5af1f98cea\\\n",
      "    Complete output (5 lines):\n",
      "    Traceback (most recent call last):\n",
      "      File \"<string>\", line 1, in <module>\n",
      "      File \"C:\\Users\\jchop\\AppData\\Local\\Temp\\pip-install-w935z1sw\\auto-sklearn_f889097c23914a3f95461c5af1f98cea\\setup.py\", line 11, in <module>\n",
      "        raise ValueError(\n",
      "    ValueError: Detected unsupported operating system: win32. Please check the compability information of auto-sklearn: http://automl.github.io/auto-sklearn/stable/installation.html#windows-osx-compability\n",
      "    ----------------------------------------\n",
      "WARNING: Discarding https://files.pythonhosted.org/packages/82/91/9c612eff857b740c1ccc55e7b743c0e6156b18412254e6cef8fad1f10382/auto-sklearn-0.5.0.tar.gz#sha256=ea842fc0d6623b981d3816f9df615d11dabed94d201428ef994a7de6e5d7cdf3 (from https://pypi.org/simple/auto-sklearn/). Command errored out with exit status 1: python setup.py egg_info Check the logs for full command output.\n",
      "    ERROR: Command errored out with exit status 1:\n",
      "     command: 'C:\\Users\\jchop\\anaconda3\\envs\\MLOps-dev\\python.exe' -c 'import io, os, sys, setuptools, tokenize; sys.argv[0] = '\"'\"'C:\\\\Users\\\\jchop\\\\AppData\\\\Local\\\\Temp\\\\pip-install-w935z1sw\\\\auto-sklearn_46b331c9f2fd47bbbd97f125184550c4\\\\setup.py'\"'\"'; __file__='\"'\"'C:\\\\Users\\\\jchop\\\\AppData\\\\Local\\\\Temp\\\\pip-install-w935z1sw\\\\auto-sklearn_46b331c9f2fd47bbbd97f125184550c4\\\\setup.py'\"'\"';f = getattr(tokenize, '\"'\"'open'\"'\"', open)(__file__) if os.path.exists(__file__) else io.StringIO('\"'\"'from setuptools import setup; setup()'\"'\"');code = f.read().replace('\"'\"'\\r\\n'\"'\"', '\"'\"'\\n'\"'\"');f.close();exec(compile(code, __file__, '\"'\"'exec'\"'\"'))' egg_info --egg-base 'C:\\Users\\jchop\\AppData\\Local\\Temp\\pip-pip-egg-info-el59vpjw'\n",
      "         cwd: C:\\Users\\jchop\\AppData\\Local\\Temp\\pip-install-w935z1sw\\auto-sklearn_46b331c9f2fd47bbbd97f125184550c4\\\n",
      "    Complete output (5 lines):\n",
      "    Traceback (most recent call last):\n",
      "      File \"<string>\", line 1, in <module>\n",
      "      File \"C:\\Users\\jchop\\AppData\\Local\\Temp\\pip-install-w935z1sw\\auto-sklearn_46b331c9f2fd47bbbd97f125184550c4\\setup.py\", line 5, in <module>\n",
      "        from Cython.Build import cythonize\n",
      "    ModuleNotFoundError: No module named 'Cython'\n",
      "    ----------------------------------------\n",
      "WARNING: Discarding https://files.pythonhosted.org/packages/46/20/587724f41169bb787952eedaa70e021a684feb548a98a3f229ca3bf6f5e9/auto-sklearn-0.4.2.tar.gz#sha256=303bdf7d1fccfdb899a8856bc830ac1d2472251242611776d9718718aa4200e8 (from https://pypi.org/simple/auto-sklearn/). Command errored out with exit status 1: python setup.py egg_info Check the logs for full command output.\n",
      "    ERROR: Command errored out with exit status 1:\n",
      "     command: 'C:\\Users\\jchop\\anaconda3\\envs\\MLOps-dev\\python.exe' -c 'import io, os, sys, setuptools, tokenize; sys.argv[0] = '\"'\"'C:\\\\Users\\\\jchop\\\\AppData\\\\Local\\\\Temp\\\\pip-install-w935z1sw\\\\auto-sklearn_1154a57054d34715bac26a6ff3194296\\\\setup.py'\"'\"'; __file__='\"'\"'C:\\\\Users\\\\jchop\\\\AppData\\\\Local\\\\Temp\\\\pip-install-w935z1sw\\\\auto-sklearn_1154a57054d34715bac26a6ff3194296\\\\setup.py'\"'\"';f = getattr(tokenize, '\"'\"'open'\"'\"', open)(__file__) if os.path.exists(__file__) else io.StringIO('\"'\"'from setuptools import setup; setup()'\"'\"');code = f.read().replace('\"'\"'\\r\\n'\"'\"', '\"'\"'\\n'\"'\"');f.close();exec(compile(code, __file__, '\"'\"'exec'\"'\"'))' egg_info --egg-base 'C:\\Users\\jchop\\AppData\\Local\\Temp\\pip-pip-egg-info-_zt0dgka'\n",
      "         cwd: C:\\Users\\jchop\\AppData\\Local\\Temp\\pip-install-w935z1sw\\auto-sklearn_1154a57054d34715bac26a6ff3194296\\\n",
      "    Complete output (5 lines):\n",
      "    Traceback (most recent call last):\n",
      "      File \"<string>\", line 1, in <module>\n",
      "      File \"C:\\Users\\jchop\\AppData\\Local\\Temp\\pip-install-w935z1sw\\auto-sklearn_1154a57054d34715bac26a6ff3194296\\setup.py\", line 5, in <module>\n",
      "        from Cython.Build import cythonize\n",
      "    ModuleNotFoundError: No module named 'Cython'\n",
      "    ----------------------------------------\n",
      "WARNING: Discarding https://files.pythonhosted.org/packages/92/85/3773dc4908c7a24fbceb425dd103d1879de8e92a1fa644fa45b3c439029b/auto-sklearn-0.4.1.tar.gz#sha256=9b67e58a8f81571ebf060975c5c636f57a106ffcf0d644a4d03167bcc3f9ade5 (from https://pypi.org/simple/auto-sklearn/). Command errored out with exit status 1: python setup.py egg_info Check the logs for full command output.\n",
      "    ERROR: Command errored out with exit status 1:\n",
      "     command: 'C:\\Users\\jchop\\anaconda3\\envs\\MLOps-dev\\python.exe' -c 'import io, os, sys, setuptools, tokenize; sys.argv[0] = '\"'\"'C:\\\\Users\\\\jchop\\\\AppData\\\\Local\\\\Temp\\\\pip-install-w935z1sw\\\\auto-sklearn_ba3544e1c95b49aab01d678d5f130af8\\\\setup.py'\"'\"'; __file__='\"'\"'C:\\\\Users\\\\jchop\\\\AppData\\\\Local\\\\Temp\\\\pip-install-w935z1sw\\\\auto-sklearn_ba3544e1c95b49aab01d678d5f130af8\\\\setup.py'\"'\"';f = getattr(tokenize, '\"'\"'open'\"'\"', open)(__file__) if os.path.exists(__file__) else io.StringIO('\"'\"'from setuptools import setup; setup()'\"'\"');code = f.read().replace('\"'\"'\\r\\n'\"'\"', '\"'\"'\\n'\"'\"');f.close();exec(compile(code, __file__, '\"'\"'exec'\"'\"'))' egg_info --egg-base 'C:\\Users\\jchop\\AppData\\Local\\Temp\\pip-pip-egg-info-1we9fx0_'\n",
      "         cwd: C:\\Users\\jchop\\AppData\\Local\\Temp\\pip-install-w935z1sw\\auto-sklearn_ba3544e1c95b49aab01d678d5f130af8\\\n",
      "    Complete output (5 lines):\n",
      "    Traceback (most recent call last):\n",
      "      File \"<string>\", line 1, in <module>\n",
      "      File \"C:\\Users\\jchop\\AppData\\Local\\Temp\\pip-install-w935z1sw\\auto-sklearn_ba3544e1c95b49aab01d678d5f130af8\\setup.py\", line 5, in <module>\n",
      "        from Cython.Build import cythonize\n",
      "    ModuleNotFoundError: No module named 'Cython'\n",
      "    ----------------------------------------\n",
      "WARNING: Discarding https://files.pythonhosted.org/packages/0a/a6/cbbff9205cb7dc71d67a6c05ecdd5aa05856bc1638360238d25a4a01d670/auto-sklearn-0.4.0.tar.gz#sha256=895bbdfabe5d7017b86595e81c2286b5a2de8095402652a5f4e9734dc226045f (from https://pypi.org/simple/auto-sklearn/). Command errored out with exit status 1: python setup.py egg_info Check the logs for full command output.\n",
      "    ERROR: Command errored out with exit status 1:\n",
      "     command: 'C:\\Users\\jchop\\anaconda3\\envs\\MLOps-dev\\python.exe' -c 'import io, os, sys, setuptools, tokenize; sys.argv[0] = '\"'\"'C:\\\\Users\\\\jchop\\\\AppData\\\\Local\\\\Temp\\\\pip-install-w935z1sw\\\\auto-sklearn_d82bb26008654a659689131cc3f58476\\\\setup.py'\"'\"'; __file__='\"'\"'C:\\\\Users\\\\jchop\\\\AppData\\\\Local\\\\Temp\\\\pip-install-w935z1sw\\\\auto-sklearn_d82bb26008654a659689131cc3f58476\\\\setup.py'\"'\"';f = getattr(tokenize, '\"'\"'open'\"'\"', open)(__file__) if os.path.exists(__file__) else io.StringIO('\"'\"'from setuptools import setup; setup()'\"'\"');code = f.read().replace('\"'\"'\\r\\n'\"'\"', '\"'\"'\\n'\"'\"');f.close();exec(compile(code, __file__, '\"'\"'exec'\"'\"'))' egg_info --egg-base 'C:\\Users\\jchop\\AppData\\Local\\Temp\\pip-pip-egg-info-tzp0clbf'\n",
      "         cwd: C:\\Users\\jchop\\AppData\\Local\\Temp\\pip-install-w935z1sw\\auto-sklearn_d82bb26008654a659689131cc3f58476\\\n",
      "    Complete output (5 lines):\n",
      "    Traceback (most recent call last):\n",
      "      File \"<string>\", line 1, in <module>\n",
      "      File \"C:\\Users\\jchop\\AppData\\Local\\Temp\\pip-install-w935z1sw\\auto-sklearn_d82bb26008654a659689131cc3f58476\\setup.py\", line 5, in <module>\n",
      "        from Cython.Build import cythonize\n",
      "    ModuleNotFoundError: No module named 'Cython'\n",
      "    ----------------------------------------\n",
      "WARNING: Discarding https://files.pythonhosted.org/packages/e5/f0/c423f07cad7c7f49c40a4278f26d248d411e93956a6150e549813c81be56/auto-sklearn-0.3.0.tar.gz#sha256=646a38ca19c17b8b2b2906c96f443bc1af33d4bb45854f8132073952e1f91e3c (from https://pypi.org/simple/auto-sklearn/). Command errored out with exit status 1: python setup.py egg_info Check the logs for full command output.\n",
      "    ERROR: Command errored out with exit status 1:\n",
      "     command: 'C:\\Users\\jchop\\anaconda3\\envs\\MLOps-dev\\python.exe' -c 'import io, os, sys, setuptools, tokenize; sys.argv[0] = '\"'\"'C:\\\\Users\\\\jchop\\\\AppData\\\\Local\\\\Temp\\\\pip-install-w935z1sw\\\\auto-sklearn_919c66c492c244cfa34d6f535ccd3961\\\\setup.py'\"'\"'; __file__='\"'\"'C:\\\\Users\\\\jchop\\\\AppData\\\\Local\\\\Temp\\\\pip-install-w935z1sw\\\\auto-sklearn_919c66c492c244cfa34d6f535ccd3961\\\\setup.py'\"'\"';f = getattr(tokenize, '\"'\"'open'\"'\"', open)(__file__) if os.path.exists(__file__) else io.StringIO('\"'\"'from setuptools import setup; setup()'\"'\"');code = f.read().replace('\"'\"'\\r\\n'\"'\"', '\"'\"'\\n'\"'\"');f.close();exec(compile(code, __file__, '\"'\"'exec'\"'\"'))' egg_info --egg-base 'C:\\Users\\jchop\\AppData\\Local\\Temp\\pip-pip-egg-info-8vb887_4'\n",
      "         cwd: C:\\Users\\jchop\\AppData\\Local\\Temp\\pip-install-w935z1sw\\auto-sklearn_919c66c492c244cfa34d6f535ccd3961\\\n",
      "    Complete output (5 lines):\n",
      "    Traceback (most recent call last):\n",
      "      File \"<string>\", line 1, in <module>\n",
      "      File \"C:\\Users\\jchop\\AppData\\Local\\Temp\\pip-install-w935z1sw\\auto-sklearn_919c66c492c244cfa34d6f535ccd3961\\setup.py\", line 5, in <module>\n",
      "        from Cython.Build import cythonize\n",
      "    ModuleNotFoundError: No module named 'Cython'\n",
      "    ----------------------------------------\n",
      "WARNING: Discarding https://files.pythonhosted.org/packages/4c/73/91767a8bb50a5d1e9dd38cb1dd91dd6c60fc56a7e958149cd93bd1e49e6b/auto-sklearn-0.2.1.tar.gz#sha256=5e9dcb6adfde458e021bcc3fde1b88711cc7a7eaf0a8424ba92f4bcc1d08bb8e (from https://pypi.org/simple/auto-sklearn/). Command errored out with exit status 1: python setup.py egg_info Check the logs for full command output.\n",
      "    ERROR: Command errored out with exit status 1:\n",
      "     command: 'C:\\Users\\jchop\\anaconda3\\envs\\MLOps-dev\\python.exe' -c 'import io, os, sys, setuptools, tokenize; sys.argv[0] = '\"'\"'C:\\\\Users\\\\jchop\\\\AppData\\\\Local\\\\Temp\\\\pip-install-w935z1sw\\\\auto-sklearn_51c1324c218441c8ab75a1deb44f9b24\\\\setup.py'\"'\"'; __file__='\"'\"'C:\\\\Users\\\\jchop\\\\AppData\\\\Local\\\\Temp\\\\pip-install-w935z1sw\\\\auto-sklearn_51c1324c218441c8ab75a1deb44f9b24\\\\setup.py'\"'\"';f = getattr(tokenize, '\"'\"'open'\"'\"', open)(__file__) if os.path.exists(__file__) else io.StringIO('\"'\"'from setuptools import setup; setup()'\"'\"');code = f.read().replace('\"'\"'\\r\\n'\"'\"', '\"'\"'\\n'\"'\"');f.close();exec(compile(code, __file__, '\"'\"'exec'\"'\"'))' egg_info --egg-base 'C:\\Users\\jchop\\AppData\\Local\\Temp\\pip-pip-egg-info-exddklw4'\n",
      "         cwd: C:\\Users\\jchop\\AppData\\Local\\Temp\\pip-install-w935z1sw\\auto-sklearn_51c1324c218441c8ab75a1deb44f9b24\\\n",
      "    Complete output (5 lines):\n",
      "    Traceback (most recent call last):\n",
      "      File \"<string>\", line 1, in <module>\n",
      "      File \"C:\\Users\\jchop\\AppData\\Local\\Temp\\pip-install-w935z1sw\\auto-sklearn_51c1324c218441c8ab75a1deb44f9b24\\setup.py\", line 5, in <module>\n",
      "        from Cython.Build import cythonize\n",
      "    ModuleNotFoundError: No module named 'Cython'\n",
      "    ----------------------------------------\n",
      "WARNING: Discarding https://files.pythonhosted.org/packages/cc/f8/9d5a5cff81845cfa6782365ffdf217d28795157e4049b75d93b8bb17d15f/auto-sklearn-0.2.0.tar.gz#sha256=97f72e4f8e9100c958b5d5a2555d2f21073d076252c84e68f284b3e921301364 (from https://pypi.org/simple/auto-sklearn/). Command errored out with exit status 1: python setup.py egg_info Check the logs for full command output.\n",
      "    ERROR: Command errored out with exit status 1:\n",
      "     command: 'C:\\Users\\jchop\\anaconda3\\envs\\MLOps-dev\\python.exe' -c 'import io, os, sys, setuptools, tokenize; sys.argv[0] = '\"'\"'C:\\\\Users\\\\jchop\\\\AppData\\\\Local\\\\Temp\\\\pip-install-w935z1sw\\\\auto-sklearn_894e906a55f84d6fa1e8fb5d6b795e99\\\\setup.py'\"'\"'; __file__='\"'\"'C:\\\\Users\\\\jchop\\\\AppData\\\\Local\\\\Temp\\\\pip-install-w935z1sw\\\\auto-sklearn_894e906a55f84d6fa1e8fb5d6b795e99\\\\setup.py'\"'\"';f = getattr(tokenize, '\"'\"'open'\"'\"', open)(__file__) if os.path.exists(__file__) else io.StringIO('\"'\"'from setuptools import setup; setup()'\"'\"');code = f.read().replace('\"'\"'\\r\\n'\"'\"', '\"'\"'\\n'\"'\"');f.close();exec(compile(code, __file__, '\"'\"'exec'\"'\"'))' egg_info --egg-base 'C:\\Users\\jchop\\AppData\\Local\\Temp\\pip-pip-egg-info-zvq1oww9'\n",
      "         cwd: C:\\Users\\jchop\\AppData\\Local\\Temp\\pip-install-w935z1sw\\auto-sklearn_894e906a55f84d6fa1e8fb5d6b795e99\\\n",
      "    Complete output (5 lines):\n",
      "    Traceback (most recent call last):\n",
      "      File \"<string>\", line 1, in <module>\n",
      "      File \"C:\\Users\\jchop\\AppData\\Local\\Temp\\pip-install-w935z1sw\\auto-sklearn_894e906a55f84d6fa1e8fb5d6b795e99\\setup.py\", line 5, in <module>\n",
      "        from Cython.Build import cythonize\n",
      "    ModuleNotFoundError: No module named 'Cython'\n",
      "    ----------------------------------------\n",
      "WARNING: Discarding https://files.pythonhosted.org/packages/7d/7a/afdb752738b012d13632aa3513d3d9acc171117c7090532a6181a8dcfca3/auto-sklearn-0.1.3.tar.gz#sha256=8371a51c7166d97448a4872b6daee4b7a2be0af5c03f100039bfa0472c4a9d04 (from https://pypi.org/simple/auto-sklearn/). Command errored out with exit status 1: python setup.py egg_info Check the logs for full command output.\n",
      "    ERROR: Command errored out with exit status 1:\n",
      "     command: 'C:\\Users\\jchop\\anaconda3\\envs\\MLOps-dev\\python.exe' -c 'import io, os, sys, setuptools, tokenize; sys.argv[0] = '\"'\"'C:\\\\Users\\\\jchop\\\\AppData\\\\Local\\\\Temp\\\\pip-install-w935z1sw\\\\auto-sklearn_dbe1bcacfc194c308e4036687a6eeadb\\\\setup.py'\"'\"'; __file__='\"'\"'C:\\\\Users\\\\jchop\\\\AppData\\\\Local\\\\Temp\\\\pip-install-w935z1sw\\\\auto-sklearn_dbe1bcacfc194c308e4036687a6eeadb\\\\setup.py'\"'\"';f = getattr(tokenize, '\"'\"'open'\"'\"', open)(__file__) if os.path.exists(__file__) else io.StringIO('\"'\"'from setuptools import setup; setup()'\"'\"');code = f.read().replace('\"'\"'\\r\\n'\"'\"', '\"'\"'\\n'\"'\"');f.close();exec(compile(code, __file__, '\"'\"'exec'\"'\"'))' egg_info --egg-base 'C:\\Users\\jchop\\AppData\\Local\\Temp\\pip-pip-egg-info-ckfswkq0'\n",
      "         cwd: C:\\Users\\jchop\\AppData\\Local\\Temp\\pip-install-w935z1sw\\auto-sklearn_dbe1bcacfc194c308e4036687a6eeadb\\\n",
      "    Complete output (11 lines):\n",
      "    Traceback (most recent call last):\n",
      "      File \"<string>\", line 1, in <module>\n",
      "      File \"C:\\Users\\jchop\\AppData\\Local\\Temp\\pip-install-w935z1sw\\auto-sklearn_dbe1bcacfc194c308e4036687a6eeadb\\setup.py\", line 2, in <module>\n",
      "        import autosklearn\n",
      "      File \"C:\\Users\\jchop\\AppData\\Local\\Temp\\pip-install-w935z1sw\\auto-sklearn_dbe1bcacfc194c308e4036687a6eeadb\\autosklearn\\__init__.py\", line 2, in <module>\n",
      "        from autosklearn.util import dependencies\n",
      "      File \"C:\\Users\\jchop\\AppData\\Local\\Temp\\pip-install-w935z1sw\\auto-sklearn_dbe1bcacfc194c308e4036687a6eeadb\\autosklearn\\util\\__init__.py\", line 4, in <module>\n",
      "        from .common import *\n",
      "      File \"C:\\Users\\jchop\\AppData\\Local\\Temp\\pip-install-w935z1sw\\auto-sklearn_dbe1bcacfc194c308e4036687a6eeadb\\autosklearn\\util\\common.py\", line 4, in <module>\n",
      "        from sklearn.externals import six\n",
      "    ImportError: cannot import name 'six' from 'sklearn.externals' (C:\\Users\\jchop\\anaconda3\\envs\\MLOps-dev\\lib\\site-packages\\sklearn\\externals\\__init__.py)\n",
      "    ----------------------------------------\n",
      "WARNING: Discarding https://files.pythonhosted.org/packages/21/0e/20efb80ade96a3361c821444bb6f44c1530ff7da43d882c08c1ff9357632/auto-sklearn-0.1.2.tar.gz#sha256=c983472dd6a80a720dd560468a8c2a9a8a5d166f8fe0e574607742d44bfe5181 (from https://pypi.org/simple/auto-sklearn/). Command errored out with exit status 1: python setup.py egg_info Check the logs for full command output.\n",
      "    ERROR: Command errored out with exit status 1:\n",
      "     command: 'C:\\Users\\jchop\\anaconda3\\envs\\MLOps-dev\\python.exe' -c 'import io, os, sys, setuptools, tokenize; sys.argv[0] = '\"'\"'C:\\\\Users\\\\jchop\\\\AppData\\\\Local\\\\Temp\\\\pip-install-w935z1sw\\\\auto-sklearn_295b5761ae394359b5eada39a2ab083e\\\\setup.py'\"'\"'; __file__='\"'\"'C:\\\\Users\\\\jchop\\\\AppData\\\\Local\\\\Temp\\\\pip-install-w935z1sw\\\\auto-sklearn_295b5761ae394359b5eada39a2ab083e\\\\setup.py'\"'\"';f = getattr(tokenize, '\"'\"'open'\"'\"', open)(__file__) if os.path.exists(__file__) else io.StringIO('\"'\"'from setuptools import setup; setup()'\"'\"');code = f.read().replace('\"'\"'\\r\\n'\"'\"', '\"'\"'\\n'\"'\"');f.close();exec(compile(code, __file__, '\"'\"'exec'\"'\"'))' egg_info --egg-base 'C:\\Users\\jchop\\AppData\\Local\\Temp\\pip-pip-egg-info-f__xuwr9'\n",
      "         cwd: C:\\Users\\jchop\\AppData\\Local\\Temp\\pip-install-w935z1sw\\auto-sklearn_295b5761ae394359b5eada39a2ab083e\\\n",
      "    Complete output (11 lines):\n",
      "    Traceback (most recent call last):\n",
      "      File \"<string>\", line 1, in <module>\n",
      "      File \"C:\\Users\\jchop\\AppData\\Local\\Temp\\pip-install-w935z1sw\\auto-sklearn_295b5761ae394359b5eada39a2ab083e\\setup.py\", line 2, in <module>\n",
      "        import autosklearn\n",
      "      File \"C:\\Users\\jchop\\AppData\\Local\\Temp\\pip-install-w935z1sw\\auto-sklearn_295b5761ae394359b5eada39a2ab083e\\autosklearn\\__init__.py\", line 2, in <module>\n",
      "        from autosklearn.util import dependencies\n",
      "      File \"C:\\Users\\jchop\\AppData\\Local\\Temp\\pip-install-w935z1sw\\auto-sklearn_295b5761ae394359b5eada39a2ab083e\\autosklearn\\util\\__init__.py\", line 4, in <module>\n",
      "        from .common import *\n",
      "      File \"C:\\Users\\jchop\\AppData\\Local\\Temp\\pip-install-w935z1sw\\auto-sklearn_295b5761ae394359b5eada39a2ab083e\\autosklearn\\util\\common.py\", line 4, in <module>\n",
      "        from sklearn.externals import six\n",
      "    ImportError: cannot import name 'six' from 'sklearn.externals' (C:\\Users\\jchop\\anaconda3\\envs\\MLOps-dev\\lib\\site-packages\\sklearn\\externals\\__init__.py)\n",
      "    ----------------------------------------\n",
      "WARNING: Discarding https://files.pythonhosted.org/packages/33/50/cad9c7259da209c992a629c53c3b1d7febb649a8fddd386f0cdb976e3dd8/auto-sklearn-0.1.1.tar.gz#sha256=e20314acd153cca54441c51a186d80812013dcf310f673209a5215c4ce9fd656 (from https://pypi.org/simple/auto-sklearn/). Command errored out with exit status 1: python setup.py egg_info Check the logs for full command output.\n",
      "    ERROR: Command errored out with exit status 1:\n",
      "     command: 'C:\\Users\\jchop\\anaconda3\\envs\\MLOps-dev\\python.exe' -c 'import io, os, sys, setuptools, tokenize; sys.argv[0] = '\"'\"'C:\\\\Users\\\\jchop\\\\AppData\\\\Local\\\\Temp\\\\pip-install-w935z1sw\\\\auto-sklearn_fc486cb090544a34af7f8012fd145a3a\\\\setup.py'\"'\"'; __file__='\"'\"'C:\\\\Users\\\\jchop\\\\AppData\\\\Local\\\\Temp\\\\pip-install-w935z1sw\\\\auto-sklearn_fc486cb090544a34af7f8012fd145a3a\\\\setup.py'\"'\"';f = getattr(tokenize, '\"'\"'open'\"'\"', open)(__file__) if os.path.exists(__file__) else io.StringIO('\"'\"'from setuptools import setup; setup()'\"'\"');code = f.read().replace('\"'\"'\\r\\n'\"'\"', '\"'\"'\\n'\"'\"');f.close();exec(compile(code, __file__, '\"'\"'exec'\"'\"'))' egg_info --egg-base 'C:\\Users\\jchop\\AppData\\Local\\Temp\\pip-pip-egg-info-a3y5r927'\n",
      "         cwd: C:\\Users\\jchop\\AppData\\Local\\Temp\\pip-install-w935z1sw\\auto-sklearn_fc486cb090544a34af7f8012fd145a3a\\\n",
      "    Complete output (5 lines):\n",
      "    Traceback (most recent call last):\n",
      "      File \"<string>\", line 1, in <module>\n",
      "      File \"C:\\Users\\jchop\\AppData\\Local\\Temp\\pip-install-w935z1sw\\auto-sklearn_fc486cb090544a34af7f8012fd145a3a\\setup.py\", line 7, in <module>\n",
      "        from Cython.Build import cythonize\n",
      "    ModuleNotFoundError: No module named 'Cython'\n",
      "    ----------------------------------------\n",
      "WARNING: Discarding https://files.pythonhosted.org/packages/37/be/9e8ed59fe9ef5a29595a7eb5bc4ede63becfdf2b30163cded277769000c0/auto-sklearn-0.1.0.tar.gz#sha256=24242b1660bef5131e6b2c6fb4516b05f93947b6f202088b45dfc20a38b3d358 (from https://pypi.org/simple/auto-sklearn/). Command errored out with exit status 1: python setup.py egg_info Check the logs for full command output.\n",
      "    ERROR: Command errored out with exit status 1:\n",
      "     command: 'C:\\Users\\jchop\\anaconda3\\envs\\MLOps-dev\\python.exe' -c 'import io, os, sys, setuptools, tokenize; sys.argv[0] = '\"'\"'C:\\\\Users\\\\jchop\\\\AppData\\\\Local\\\\Temp\\\\pip-install-w935z1sw\\\\auto-sklearn_4a9a89f7e0884b7e97c0d9803a4808a4\\\\setup.py'\"'\"'; __file__='\"'\"'C:\\\\Users\\\\jchop\\\\AppData\\\\Local\\\\Temp\\\\pip-install-w935z1sw\\\\auto-sklearn_4a9a89f7e0884b7e97c0d9803a4808a4\\\\setup.py'\"'\"';f = getattr(tokenize, '\"'\"'open'\"'\"', open)(__file__) if os.path.exists(__file__) else io.StringIO('\"'\"'from setuptools import setup; setup()'\"'\"');code = f.read().replace('\"'\"'\\r\\n'\"'\"', '\"'\"'\\n'\"'\"');f.close();exec(compile(code, __file__, '\"'\"'exec'\"'\"'))' egg_info --egg-base 'C:\\Users\\jchop\\AppData\\Local\\Temp\\pip-pip-egg-info-s_ng9w5j'\n",
      "         cwd: C:\\Users\\jchop\\AppData\\Local\\Temp\\pip-install-w935z1sw\\auto-sklearn_4a9a89f7e0884b7e97c0d9803a4808a4\\\n",
      "    Complete output (5 lines):\n",
      "    Traceback (most recent call last):\n",
      "      File \"<string>\", line 1, in <module>\n",
      "      File \"C:\\Users\\jchop\\AppData\\Local\\Temp\\pip-install-w935z1sw\\auto-sklearn_4a9a89f7e0884b7e97c0d9803a4808a4\\setup.py\", line 16, in <module>\n",
      "        from Cython.Build import cythonize\n",
      "    ModuleNotFoundError: No module named 'Cython'\n",
      "    ----------------------------------------\n",
      "WARNING: Discarding https://files.pythonhosted.org/packages/83/8c/c02847759172971cdf963971b409747a3a4199e330a9a997be9c73941924/auto-sklearn-0.0.2.tar.gz#sha256=3d753dc41218a649df111c4ba0d82aa54fd6b144dd1782b971479338c35042fd (from https://pypi.org/simple/auto-sklearn/). Command errored out with exit status 1: python setup.py egg_info Check the logs for full command output.\n",
      "    ERROR: Command errored out with exit status 1:\n",
      "     command: 'C:\\Users\\jchop\\anaconda3\\envs\\MLOps-dev\\python.exe' -c 'import io, os, sys, setuptools, tokenize; sys.argv[0] = '\"'\"'C:\\\\Users\\\\jchop\\\\AppData\\\\Local\\\\Temp\\\\pip-install-w935z1sw\\\\auto-sklearn_651d58e6f60d4ef891c9326b856ec852\\\\setup.py'\"'\"'; __file__='\"'\"'C:\\\\Users\\\\jchop\\\\AppData\\\\Local\\\\Temp\\\\pip-install-w935z1sw\\\\auto-sklearn_651d58e6f60d4ef891c9326b856ec852\\\\setup.py'\"'\"';f = getattr(tokenize, '\"'\"'open'\"'\"', open)(__file__) if os.path.exists(__file__) else io.StringIO('\"'\"'from setuptools import setup; setup()'\"'\"');code = f.read().replace('\"'\"'\\r\\n'\"'\"', '\"'\"'\\n'\"'\"');f.close();exec(compile(code, __file__, '\"'\"'exec'\"'\"'))' egg_info --egg-base 'C:\\Users\\jchop\\AppData\\Local\\Temp\\pip-pip-egg-info-xmk75e_w'\n",
      "         cwd: C:\\Users\\jchop\\AppData\\Local\\Temp\\pip-install-w935z1sw\\auto-sklearn_651d58e6f60d4ef891c9326b856ec852\\\n",
      "    Complete output (5 lines):\n",
      "    Traceback (most recent call last):\n",
      "      File \"<string>\", line 1, in <module>\n",
      "      File \"C:\\Users\\jchop\\AppData\\Local\\Temp\\pip-install-w935z1sw\\auto-sklearn_651d58e6f60d4ef891c9326b856ec852\\setup.py\", line 16, in <module>\n",
      "        from Cython.Build import cythonize\n",
      "    ModuleNotFoundError: No module named 'Cython'\n",
      "    ----------------------------------------\n",
      "WARNING: Discarding https://files.pythonhosted.org/packages/cc/3f/f59ccc10b1c2f5160127063e8b34e8a5873f4ac4207853e39b7cf547d20e/auto-sklearn-0.0.1.tar.gz#sha256=48cbec0c890fa0a48741e6a49368a344f2139a137900b6f8fb5cfaaab6b40004 (from https://pypi.org/simple/auto-sklearn/). Command errored out with exit status 1: python setup.py egg_info Check the logs for full command output.\n",
      "ERROR: Could not find a version that satisfies the requirement auto-sklearn (from versions: 0.0.1, 0.0.2, 0.1.0, 0.1.1, 0.1.2, 0.1.3, 0.2.0, 0.2.1, 0.3.0, 0.4.0, 0.4.1, 0.4.2, 0.5.0, 0.5.1, 0.5.2, 0.6.0, 0.7.0, 0.7.1, 0.8.0, 0.9.0, 0.10.0, 0.11.0, 0.11.1, 0.12.0, 0.12.1rc1, 0.12.1, 0.12.2, 0.12.3, 0.12.4, 0.12.5, 0.12.6, 0.12.7, 0.13.0, 0.14.0, 0.14.1, 0.14.2, 0.14.3, 0.14.4, 0.14.5, 0.14.6)\n",
      "ERROR: No matching distribution found for auto-sklearn\n"
     ]
    },
    {
     "name": "stdout",
     "output_type": "stream",
     "text": [
      "Collecting auto-sklearn\n",
      "  Using cached auto-sklearn-0.14.6.tar.gz (6.4 MB)\n",
      "  Using cached auto-sklearn-0.14.5.tar.gz (6.4 MB)\n",
      "  Using cached auto-sklearn-0.14.4.tar.gz (6.4 MB)\n",
      "  Using cached auto-sklearn-0.14.3.tar.gz (6.3 MB)\n",
      "  Using cached auto-sklearn-0.14.2.tar.gz (6.3 MB)\n",
      "  Using cached auto-sklearn-0.14.1.tar.gz (6.3 MB)\n",
      "  Using cached auto-sklearn-0.14.0.tar.gz (6.3 MB)\n",
      "  Using cached auto-sklearn-0.13.0.tar.gz (6.3 MB)\n",
      "  Using cached auto-sklearn-0.12.7.tar.gz (6.3 MB)\n",
      "  Using cached auto-sklearn-0.12.6.tar.gz (6.1 MB)\n",
      "  Using cached auto-sklearn-0.12.5.tar.gz (6.1 MB)\n",
      "  Using cached auto-sklearn-0.12.4.tar.gz (6.1 MB)\n",
      "  Using cached auto-sklearn-0.12.3.tar.gz (6.1 MB)\n",
      "  Using cached auto-sklearn-0.12.2.tar.gz (6.1 MB)\n",
      "  Using cached auto-sklearn-0.12.1.tar.gz (6.1 MB)\n",
      "  Using cached auto-sklearn-0.12.0.tar.gz (4.1 MB)\n",
      "  Using cached auto-sklearn-0.11.1.tar.gz (3.9 MB)\n",
      "  Using cached auto-sklearn-0.11.0.tar.gz (3.9 MB)\n",
      "  Using cached auto-sklearn-0.10.0.tar.gz (4.1 MB)\n",
      "  Using cached auto-sklearn-0.9.0.tar.gz (4.7 MB)\n",
      "  Using cached auto-sklearn-0.8.0.tar.gz (4.6 MB)\n",
      "  Using cached auto-sklearn-0.7.1.tar.gz (4.6 MB)\n",
      "  Using cached auto-sklearn-0.7.0.tar.gz (4.6 MB)\n",
      "  Using cached auto-sklearn-0.6.0.tar.gz (3.9 MB)\n",
      "  Using cached auto-sklearn-0.5.2.tar.gz (3.4 MB)\n",
      "  Using cached auto-sklearn-0.5.1.tar.gz (3.4 MB)\n",
      "  Using cached auto-sklearn-0.5.0.tar.gz (3.4 MB)\n",
      "  Using cached auto-sklearn-0.4.2.tar.gz (3.4 MB)\n",
      "  Using cached auto-sklearn-0.4.1.tar.gz (3.4 MB)\n",
      "  Using cached auto-sklearn-0.4.0.tar.gz (3.4 MB)\n",
      "  Using cached auto-sklearn-0.3.0.tar.gz (3.4 MB)\n",
      "  Using cached auto-sklearn-0.2.1.tar.gz (3.7 MB)\n",
      "  Using cached auto-sklearn-0.2.0.tar.gz (3.6 MB)\n",
      "  Using cached auto-sklearn-0.1.3.tar.gz (1.3 MB)\n",
      "  Using cached auto-sklearn-0.1.2.tar.gz (5.9 MB)\n",
      "  Using cached auto-sklearn-0.1.1.tar.gz (5.9 MB)\n",
      "  Using cached auto-sklearn-0.1.0.tar.gz (5.9 MB)\n",
      "  Using cached auto-sklearn-0.0.2.tar.gz (5.9 MB)\n",
      "  Using cached auto-sklearn-0.0.1.tar.gz (5.9 MB)\n"
     ]
    }
   ],
   "source": [
    "import autosklearn.classification\n",
    "import autosklearn.metrics\n",
    "from sklearn.model_selection import train_test_split\n",
    "from sklearn.preprocessing import StandardScaler, OneHotEncoder\n",
    "from sklearn.pipeline import Pipeline\n",
    "from sklearn.impute import SimpleImputer, KNNImputer\n",
    "from sklearn.preprocessing import OneHotEncoder\n"
   ]
  },
  {
   "cell_type": "code",
   "execution_count": null,
   "metadata": {
    "id": "FEHd3EJeNCvp"
   },
   "outputs": [],
   "source": [
    "# setting parameters for autosklearn\n",
    "# generate a function to create an automl\n",
    "# object\n",
    "def make_automl(name_id):\n",
    "  automl = autosklearn.classification.AutoSklearnClassifier(\n",
    "        time_left_for_this_task=300, # limiting possible model combinations and selections to 300s == 5 mins\n",
    "        per_run_time_limit=30,\n",
    "        memory_limit=None,\n",
    "        seed=1,\n",
    "        resampling_strategy='holdout',\n",
    "        resampling_strategy_arguments={\n",
    "            'train_size': 0.8,\n",
    "            'shuffle': True\n",
    "        },\n",
    "        metric=autosklearn.metrics.f1_weighted,\n",
    "        scoring_functions=[\n",
    "                           autosklearn.metrics.f1_weighted, \n",
    "                           autosklearn.metrics.balanced_accuracy,\n",
    "                          autosklearn.metrics.precision_weighted, \n",
    "                           autosklearn.metrics.recall_weighted],\n",
    "        tmp_folder=name_id\n",
    "    )\n",
    "  return(automl)\n",
    "\n",
    "# get statistics\n",
    "def get_metric_result(cv_results):\n",
    "    results = pd.DataFrame.from_dict(cv_results)\n",
    "    results = results[results['status'] == \"Success\"]\n",
    "    cols = ['rank_test_scores', 'param_classifier:__choice__', 'mean_test_score']\n",
    "    cols.extend([key for key in cv_results.keys() if key.startswith('metric_')])\n",
    "    return results[cols]"
   ]
  },
  {
   "cell_type": "code",
   "execution_count": null,
   "metadata": {
    "colab": {
     "base_uri": "https://localhost:8080/"
    },
    "id": "FVRI4Xg0N_Rc",
    "outputId": "02281b9b-1ecc-4a43-d268-a1a33c247713"
   },
   "outputs": [],
   "source": [
    "wdf_dict = {}\n",
    "# drop cols for X\n",
    "X = tmp.drop(['Medal', 'Sport', 'NOC', 'Height', 'Weight', 'index', \"Sex\", \"Season\"], axis=1).copy()\n",
    "print(f'X shape is {X.shape}\\tcols are { \";\".join(X.columns)}')\n",
    "# create labels\n",
    "y = tmp['Medal']\n",
    "print(f'y shape is {y.shape}')\n",
    "X_train, X_test, y_train, y_test = train_test_split(X, y, train_size=0.8, random_state=42)\n",
    "print(f'X_train shape is {X_train.shape}')\n",
    "print(f'y_train shape is {y_train.shape}')\n",
    "print(f'X_test shape is {X_test.shape}')\n",
    "print(f'y_test shape is {y_test.shape}')\n",
    "# create automl object\n",
    "automl_event = make_automl(f'final_sport_model_new')\n",
    "# train model\n",
    "automl_event.fit(X_train, y_train)\n",
    "# stats\n",
    "print(automl_event.sprint_statistics())\n",
    "# get stats\n",
    "metrics = get_metric_result(\n",
    "        automl_event.cv_results_\n",
    "        )\n",
    "# predict to test set\n",
    "predictions_sk = automl_event.predict(X_test)\n",
    "# save prediction to wdf_dict\n",
    "wdf_dict['predictions_sk'] = predictions_sk\n",
    "# save y_test to wdf_dict\n",
    "wdf_dict['y_test'] = y_test\n",
    "# save train metrics\n",
    "wdf_dict['metrics'] = metrics\n",
    "# save model\n",
    "wdf_dict['model'] = automl_event"
   ]
  },
  {
   "cell_type": "code",
   "execution_count": null,
   "metadata": {
    "colab": {
     "base_uri": "https://localhost:8080/"
    },
    "id": "9FyFJBn-RHls",
    "outputId": "b4dc00ed-b03c-478b-f896-3ca4398c7631"
   },
   "outputs": [],
   "source": [
    "wdf_dict['model'].show_models()"
   ]
  },
  {
   "cell_type": "code",
   "execution_count": null,
   "metadata": {
    "colab": {
     "base_uri": "https://localhost:8080/",
     "height": 176
    },
    "id": "9u6AWemjP32d",
    "outputId": "2531490f-285c-4c6a-bb42-1c271aecd0cd"
   },
   "outputs": [],
   "source": [
    "wdf_dict['metrics'].sort_values(\"metric_f1_weighted\", ascending=False)"
   ]
  },
  {
   "cell_type": "code",
   "execution_count": null,
   "metadata": {
    "colab": {
     "base_uri": "https://localhost:8080/",
     "height": 317
    },
    "id": "OqZQj_KoO3BL",
    "outputId": "fa2081f5-8cf0-49a3-871a-9455b9e59d25"
   },
   "outputs": [],
   "source": [
    "from sklearn.metrics import classification_report, confusion_matrix, accuracy_score, precision_score\n",
    "import seaborn as sns\n",
    "\n",
    "classification_report(wdf_dict['y_test'], wdf_dict['predictions_sk'], output_dict=True)\n",
    "cm = confusion_matrix(wdf_dict['y_test'], wdf_dict['predictions_sk'])\n",
    "#tn, fp, fn, tp = confusion_matrix(wdf_dict['y_test'], wdf_dict['predictions_sk']).ravel()\n",
    "#print(tn, fp, fn, tp )\n",
    "print(accuracy_score(wdf_dict['y_test'], wdf_dict['predictions_sk']))\n",
    "print(precision_score(wdf_dict['y_test'], wdf_dict['predictions_sk']))\n",
    "\n",
    "sns.heatmap(cm, annot=True, fmt='d')"
   ]
  },
  {
   "cell_type": "markdown",
   "metadata": {
    "id": "4EOe2G5njUqX"
   },
   "source": [
    "## Random forest feature importance:"
   ]
  },
  {
   "cell_type": "markdown",
   "metadata": {
    "id": "ZGW_9qWMiJ09"
   },
   "source": [
    "### 1. graph from the presentation based on age, year, country, sport, sex (sex_m, sex_f), season, and bmi: "
   ]
  },
  {
   "cell_type": "markdown",
   "metadata": {
    "id": "-Ew3ayimmG3M"
   },
   "source": [
    "Note: sex and season are categorical variables, therefore they were one hot encoded into new columns (Sex_F,\tSex_M, and\tSeason_Summer). For this reason, we need to drop the original categorical sex and season columns."
   ]
  },
  {
   "cell_type": "code",
   "execution_count": null,
   "metadata": {
    "colab": {
     "base_uri": "https://localhost:8080/"
    },
    "id": "0Z3vFceEiJ09",
    "outputId": "3c5ca4b9-0c0c-4201-b636-25ff3e9ed2ab"
   },
   "outputs": [],
   "source": [
    "X = tmp.drop([\"Medal\", \"Sport\", \"NOC\", \"Height\", \"Weight\", \"index\", \"Sex\", \"Season\"], axis=1)\n",
    "print(f'X shape is {X.shape}\\tcols are { \";\".join(X.columns)}')\n",
    "# create labels\n",
    "y = tmp['Medal']\n",
    "print(f'y shape is {y.shape}')\n",
    "X_train, X_test, y_train, y_test = train_test_split(X, y, train_size=0.8, random_state=42)\n",
    "print(f'X_train shape is {X_train.shape}')\n",
    "print(f'y_train shape is {y_train.shape}')\n",
    "print(f'X_test shape is {X_test.shape}')\n",
    "print(f'y_test shape is {y_test.shape}')"
   ]
  },
  {
   "cell_type": "code",
   "execution_count": null,
   "metadata": {
    "colab": {
     "base_uri": "https://localhost:8080/",
     "height": 299
    },
    "id": "Qo7RANTLiJ0-",
    "outputId": "adc073d8-2534-4987-f98e-773bb3c16b4b"
   },
   "outputs": [],
   "source": [
    "X.head()"
   ]
  },
  {
   "cell_type": "code",
   "execution_count": null,
   "metadata": {
    "colab": {
     "base_uri": "https://localhost:8080/"
    },
    "id": "U9EUHTICiJ0-",
    "outputId": "afc2dee2-3dda-4156-f629-6c5b36141bae"
   },
   "outputs": [],
   "source": [
    "from sklearn.ensemble import RandomForestClassifier\n",
    "clf_final = RandomForestClassifier(max_depth=200, random_state=42)\n",
    "clf_final.fit(X_train, y_train)"
   ]
  },
  {
   "cell_type": "code",
   "execution_count": null,
   "metadata": {
    "id": "PokK7NpUiJ0_"
   },
   "outputs": [],
   "source": [
    "predictions_all_countr = clf_final.predict(X_test)"
   ]
  },
  {
   "cell_type": "code",
   "execution_count": null,
   "metadata": {
    "colab": {
     "base_uri": "https://localhost:8080/",
     "height": 317
    },
    "id": "vQGt98F2iJ0_",
    "outputId": "c1ec612b-cd14-4866-a8ec-bf9f50d24ff3"
   },
   "outputs": [],
   "source": [
    "cm_final = confusion_matrix(y_test, predictions_all_countr)\n",
    "#tn, fp, fn, tp = confusion_matrix(wdf_dict['y_test'], wdf_dict['predictions_sk']).ravel()\n",
    "#print(tn, fp, fn, tp )\n",
    "print(accuracy_score(y_test, predictions_all_countr))\n",
    "print(precision_score(y_test, predictions_all_countr))\n",
    "\n",
    "sns.heatmap(cm_final, annot=True, fmt='d')"
   ]
  },
  {
   "cell_type": "code",
   "execution_count": null,
   "metadata": {
    "colab": {
     "base_uri": "https://localhost:8080/"
    },
    "id": "uNC-6kmKiJ0_",
    "outputId": "988c94c4-17b7-4317-8b99-40507a2ae4cb"
   },
   "outputs": [],
   "source": [
    "from sklearn.metrics import f1_score\n",
    "f1_score(y_test, predictions_all_countr, average=\"macro\")"
   ]
  },
  {
   "cell_type": "code",
   "execution_count": null,
   "metadata": {
    "colab": {
     "base_uri": "https://localhost:8080/",
     "height": 282
    },
    "id": "l5tHyngziJ0_",
    "outputId": "e03cdaf9-41a4-4c07-dee0-42c70b590088"
   },
   "outputs": [],
   "source": [
    "labels = [\"True_Neg\",\"False_Pos\",\"False_Neg\",\"True_Pos\"]\n",
    "labels = np.asarray(labels).reshape(2,2)\n",
    "sns.heatmap(cm_final, annot=labels, fmt='', cmap='Blues')"
   ]
  },
  {
   "cell_type": "markdown",
   "metadata": {
    "id": "TlLkFPninxFs"
   },
   "source": [
    "BMI is the most important feature:"
   ]
  },
  {
   "cell_type": "code",
   "execution_count": null,
   "metadata": {
    "colab": {
     "base_uri": "https://localhost:8080/",
     "height": 282
    },
    "id": "ttzXGVXwiJ1A",
    "outputId": "b64d72b3-39fc-4bbf-e32d-1488479ea6a6"
   },
   "outputs": [],
   "source": [
    "feat_importances = pd.Series(clf_final.feature_importances_, index=X.columns)\n",
    "feat_importances.nlargest(5).plot(kind='barh')"
   ]
  },
  {
   "cell_type": "markdown",
   "metadata": {
    "id": "6JsbdYbNh8I4"
   },
   "source": [
    "### 2. graph from the presentation based on age, bmi, and sports: "
   ]
  },
  {
   "cell_type": "markdown",
   "metadata": {
    "id": "-Am2MvYfnbY0"
   },
   "source": [
    "Removing features results in lower performace and lower success in discovering medal winners:"
   ]
  },
  {
   "cell_type": "code",
   "execution_count": null,
   "metadata": {
    "colab": {
     "base_uri": "https://localhost:8080/"
    },
    "id": "Gv7Ah7GTvyyK",
    "outputId": "e8c585ec-a8f5-4da8-e355-4bc1121e142d"
   },
   "outputs": [],
   "source": [
    "X = tmp[[\"Age\",\"BMI\",\"Sport_Athletics\",\t\"Sport_Gymnastics\",\t\"Sport_Swimming\"]]\n",
    "print(f'X shape is {X.shape}\\tcols are { \";\".join(X.columns)}')\n",
    "# create labels\n",
    "y = tmp['Medal']\n",
    "print(f'y shape is {y.shape}')\n",
    "X_train, X_test, y_train, y_test = train_test_split(X, y, train_size=0.8, random_state=42)\n",
    "print(f'X_train shape is {X_train.shape}')\n",
    "print(f'y_train shape is {y_train.shape}')\n",
    "print(f'X_test shape is {X_test.shape}')\n",
    "print(f'y_test shape is {y_test.shape}')"
   ]
  },
  {
   "cell_type": "code",
   "execution_count": null,
   "metadata": {
    "colab": {
     "base_uri": "https://localhost:8080/",
     "height": 206
    },
    "id": "AnPXS-m1xUcT",
    "outputId": "97e4868d-7e5d-4d8e-fcdd-3df1ee79358e"
   },
   "outputs": [],
   "source": [
    "X.head()"
   ]
  },
  {
   "cell_type": "code",
   "execution_count": null,
   "metadata": {
    "colab": {
     "base_uri": "https://localhost:8080/"
    },
    "id": "AS1XIgKOnhWE",
    "outputId": "785e57e0-3032-4371-e1de-14aa033aa93d"
   },
   "outputs": [],
   "source": [
    "from sklearn.ensemble import RandomForestClassifier\n",
    "clf_final = RandomForestClassifier(max_depth=200, random_state=42)\n",
    "clf_final.fit(X_train, y_train)"
   ]
  },
  {
   "cell_type": "code",
   "execution_count": null,
   "metadata": {
    "id": "iX3Hk7Dno0wv"
   },
   "outputs": [],
   "source": [
    "predictions_all_countr = clf_final.predict(X_test)"
   ]
  },
  {
   "cell_type": "code",
   "execution_count": null,
   "metadata": {
    "colab": {
     "base_uri": "https://localhost:8080/",
     "height": 317
    },
    "id": "PMWPf7Lfo-Fx",
    "outputId": "752e0c55-6663-462e-8681-08b770e19c1e"
   },
   "outputs": [],
   "source": [
    "cm_final = confusion_matrix(y_test, predictions_all_countr)\n",
    "#tn, fp, fn, tp = confusion_matrix(wdf_dict['y_test'], wdf_dict['predictions_sk']).ravel()\n",
    "#print(tn, fp, fn, tp )\n",
    "print(accuracy_score(y_test, predictions_all_countr))\n",
    "print(precision_score(y_test, predictions_all_countr))\n",
    "\n",
    "sns.heatmap(cm_final, annot=True, fmt='d')"
   ]
  },
  {
   "cell_type": "code",
   "execution_count": null,
   "metadata": {
    "colab": {
     "base_uri": "https://localhost:8080/"
    },
    "id": "nfw_o7vwHc_H",
    "outputId": "f3ed9ccb-5490-4ac9-b04b-2d93a5f8a3a3"
   },
   "outputs": [],
   "source": [
    "from sklearn.metrics import f1_score\n",
    "f1_score(y_test, predictions_all_countr, average=\"macro\")"
   ]
  },
  {
   "cell_type": "code",
   "execution_count": null,
   "metadata": {
    "colab": {
     "base_uri": "https://localhost:8080/",
     "height": 282
    },
    "id": "-oSHQrvPGSyG",
    "outputId": "2bcd017a-c3a9-403c-ef2b-636dbb85dae1"
   },
   "outputs": [],
   "source": [
    "labels = [\"True_Neg\",\"False_Pos\",\"False_Neg\",\"True_Pos\"]\n",
    "labels = np.asarray(labels).reshape(2,2)\n",
    "sns.heatmap(cm_final, annot=labels, fmt='', cmap='Blues')"
   ]
  },
  {
   "cell_type": "markdown",
   "metadata": {
    "id": "PMPOYGrfnjZz"
   },
   "source": [
    "We can see that sport category has very low feature importance:"
   ]
  },
  {
   "cell_type": "code",
   "execution_count": null,
   "metadata": {
    "colab": {
     "base_uri": "https://localhost:8080/",
     "height": 282
    },
    "id": "GeDQZg28qH_V",
    "outputId": "1dd57feb-5178-482b-f5cf-f269f7231dc2"
   },
   "outputs": [],
   "source": [
    "feat_importances = pd.Series(clf_final.feature_importances_, index=X.columns)\n",
    "feat_importances.nlargest(5).plot(kind='barh')"
   ]
  }
 ],
 "metadata": {
  "colab": {
   "collapsed_sections": [],
   "name": "Final_Sports_ZD_Olympics_group_challenge.ipynb",
   "provenance": []
  },
  "kernelspec": {
   "display_name": "MLOps-dev",
   "language": "python",
   "name": "mlops-dev"
  },
  "language_info": {
   "codemirror_mode": {
    "name": "ipython",
    "version": 3
   },
   "file_extension": ".py",
   "mimetype": "text/x-python",
   "name": "python",
   "nbconvert_exporter": "python",
   "pygments_lexer": "ipython3",
   "version": "3.8.5"
  }
 },
 "nbformat": 4,
 "nbformat_minor": 4
}
