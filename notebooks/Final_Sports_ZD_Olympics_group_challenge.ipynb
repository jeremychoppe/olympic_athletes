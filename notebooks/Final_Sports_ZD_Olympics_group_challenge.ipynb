{
 "cells": [
  {
   "cell_type": "code",
   "execution_count": 1,
   "metadata": {
    "id": "T7vg4xnxBSCH"
   },
   "outputs": [],
   "source": [
    "import pandas as pd\n",
    "import numpy as np"
   ]
  },
  {
   "cell_type": "code",
   "execution_count": 2,
   "metadata": {
    "id": "3x5a_6BcAyNG"
   },
   "outputs": [],
   "source": [
    "df = pd.read_csv(\"../data/raw/athlete_events.csv\")"
   ]
  },
  {
   "cell_type": "code",
   "execution_count": 3,
   "metadata": {
    "colab": {
     "base_uri": "https://localhost:8080/",
     "height": 965
    },
    "id": "Qc-z4tvHBWKm",
    "outputId": "0f89763d-d51e-4ab2-e04f-d0d7a6ee4629"
   },
   "outputs": [
    {
     "data": {
      "text/html": [
       "<div>\n",
       "<style scoped>\n",
       "    .dataframe tbody tr th:only-of-type {\n",
       "        vertical-align: middle;\n",
       "    }\n",
       "\n",
       "    .dataframe tbody tr th {\n",
       "        vertical-align: top;\n",
       "    }\n",
       "\n",
       "    .dataframe thead th {\n",
       "        text-align: right;\n",
       "    }\n",
       "</style>\n",
       "<table border=\"1\" class=\"dataframe\">\n",
       "  <thead>\n",
       "    <tr style=\"text-align: right;\">\n",
       "      <th></th>\n",
       "      <th>ID</th>\n",
       "      <th>Name</th>\n",
       "      <th>Sex</th>\n",
       "      <th>Age</th>\n",
       "      <th>Height</th>\n",
       "      <th>Weight</th>\n",
       "      <th>Team</th>\n",
       "      <th>NOC</th>\n",
       "      <th>Games</th>\n",
       "      <th>Year</th>\n",
       "      <th>Season</th>\n",
       "      <th>City</th>\n",
       "      <th>Sport</th>\n",
       "      <th>Event</th>\n",
       "      <th>Medal</th>\n",
       "    </tr>\n",
       "  </thead>\n",
       "  <tbody>\n",
       "    <tr>\n",
       "      <th>0</th>\n",
       "      <td>1</td>\n",
       "      <td>A Dijiang</td>\n",
       "      <td>M</td>\n",
       "      <td>24.0</td>\n",
       "      <td>180.0</td>\n",
       "      <td>80.0</td>\n",
       "      <td>China</td>\n",
       "      <td>CHN</td>\n",
       "      <td>1992 Summer</td>\n",
       "      <td>1992</td>\n",
       "      <td>Summer</td>\n",
       "      <td>Barcelona</td>\n",
       "      <td>Basketball</td>\n",
       "      <td>Basketball Men's Basketball</td>\n",
       "      <td>NaN</td>\n",
       "    </tr>\n",
       "    <tr>\n",
       "      <th>1</th>\n",
       "      <td>2</td>\n",
       "      <td>A Lamusi</td>\n",
       "      <td>M</td>\n",
       "      <td>23.0</td>\n",
       "      <td>170.0</td>\n",
       "      <td>60.0</td>\n",
       "      <td>China</td>\n",
       "      <td>CHN</td>\n",
       "      <td>2012 Summer</td>\n",
       "      <td>2012</td>\n",
       "      <td>Summer</td>\n",
       "      <td>London</td>\n",
       "      <td>Judo</td>\n",
       "      <td>Judo Men's Extra-Lightweight</td>\n",
       "      <td>NaN</td>\n",
       "    </tr>\n",
       "    <tr>\n",
       "      <th>2</th>\n",
       "      <td>3</td>\n",
       "      <td>Gunnar Nielsen Aaby</td>\n",
       "      <td>M</td>\n",
       "      <td>24.0</td>\n",
       "      <td>NaN</td>\n",
       "      <td>NaN</td>\n",
       "      <td>Denmark</td>\n",
       "      <td>DEN</td>\n",
       "      <td>1920 Summer</td>\n",
       "      <td>1920</td>\n",
       "      <td>Summer</td>\n",
       "      <td>Antwerpen</td>\n",
       "      <td>Football</td>\n",
       "      <td>Football Men's Football</td>\n",
       "      <td>NaN</td>\n",
       "    </tr>\n",
       "    <tr>\n",
       "      <th>3</th>\n",
       "      <td>4</td>\n",
       "      <td>Edgar Lindenau Aabye</td>\n",
       "      <td>M</td>\n",
       "      <td>34.0</td>\n",
       "      <td>NaN</td>\n",
       "      <td>NaN</td>\n",
       "      <td>Denmark/Sweden</td>\n",
       "      <td>DEN</td>\n",
       "      <td>1900 Summer</td>\n",
       "      <td>1900</td>\n",
       "      <td>Summer</td>\n",
       "      <td>Paris</td>\n",
       "      <td>Tug-Of-War</td>\n",
       "      <td>Tug-Of-War Men's Tug-Of-War</td>\n",
       "      <td>Gold</td>\n",
       "    </tr>\n",
       "    <tr>\n",
       "      <th>4</th>\n",
       "      <td>5</td>\n",
       "      <td>Christine Jacoba Aaftink</td>\n",
       "      <td>F</td>\n",
       "      <td>21.0</td>\n",
       "      <td>185.0</td>\n",
       "      <td>82.0</td>\n",
       "      <td>Netherlands</td>\n",
       "      <td>NED</td>\n",
       "      <td>1988 Winter</td>\n",
       "      <td>1988</td>\n",
       "      <td>Winter</td>\n",
       "      <td>Calgary</td>\n",
       "      <td>Speed Skating</td>\n",
       "      <td>Speed Skating Women's 500 metres</td>\n",
       "      <td>NaN</td>\n",
       "    </tr>\n",
       "    <tr>\n",
       "      <th>5</th>\n",
       "      <td>5</td>\n",
       "      <td>Christine Jacoba Aaftink</td>\n",
       "      <td>F</td>\n",
       "      <td>21.0</td>\n",
       "      <td>185.0</td>\n",
       "      <td>82.0</td>\n",
       "      <td>Netherlands</td>\n",
       "      <td>NED</td>\n",
       "      <td>1988 Winter</td>\n",
       "      <td>1988</td>\n",
       "      <td>Winter</td>\n",
       "      <td>Calgary</td>\n",
       "      <td>Speed Skating</td>\n",
       "      <td>Speed Skating Women's 1,000 metres</td>\n",
       "      <td>NaN</td>\n",
       "    </tr>\n",
       "    <tr>\n",
       "      <th>6</th>\n",
       "      <td>5</td>\n",
       "      <td>Christine Jacoba Aaftink</td>\n",
       "      <td>F</td>\n",
       "      <td>25.0</td>\n",
       "      <td>185.0</td>\n",
       "      <td>82.0</td>\n",
       "      <td>Netherlands</td>\n",
       "      <td>NED</td>\n",
       "      <td>1992 Winter</td>\n",
       "      <td>1992</td>\n",
       "      <td>Winter</td>\n",
       "      <td>Albertville</td>\n",
       "      <td>Speed Skating</td>\n",
       "      <td>Speed Skating Women's 500 metres</td>\n",
       "      <td>NaN</td>\n",
       "    </tr>\n",
       "    <tr>\n",
       "      <th>7</th>\n",
       "      <td>5</td>\n",
       "      <td>Christine Jacoba Aaftink</td>\n",
       "      <td>F</td>\n",
       "      <td>25.0</td>\n",
       "      <td>185.0</td>\n",
       "      <td>82.0</td>\n",
       "      <td>Netherlands</td>\n",
       "      <td>NED</td>\n",
       "      <td>1992 Winter</td>\n",
       "      <td>1992</td>\n",
       "      <td>Winter</td>\n",
       "      <td>Albertville</td>\n",
       "      <td>Speed Skating</td>\n",
       "      <td>Speed Skating Women's 1,000 metres</td>\n",
       "      <td>NaN</td>\n",
       "    </tr>\n",
       "    <tr>\n",
       "      <th>8</th>\n",
       "      <td>5</td>\n",
       "      <td>Christine Jacoba Aaftink</td>\n",
       "      <td>F</td>\n",
       "      <td>27.0</td>\n",
       "      <td>185.0</td>\n",
       "      <td>82.0</td>\n",
       "      <td>Netherlands</td>\n",
       "      <td>NED</td>\n",
       "      <td>1994 Winter</td>\n",
       "      <td>1994</td>\n",
       "      <td>Winter</td>\n",
       "      <td>Lillehammer</td>\n",
       "      <td>Speed Skating</td>\n",
       "      <td>Speed Skating Women's 500 metres</td>\n",
       "      <td>NaN</td>\n",
       "    </tr>\n",
       "    <tr>\n",
       "      <th>9</th>\n",
       "      <td>5</td>\n",
       "      <td>Christine Jacoba Aaftink</td>\n",
       "      <td>F</td>\n",
       "      <td>27.0</td>\n",
       "      <td>185.0</td>\n",
       "      <td>82.0</td>\n",
       "      <td>Netherlands</td>\n",
       "      <td>NED</td>\n",
       "      <td>1994 Winter</td>\n",
       "      <td>1994</td>\n",
       "      <td>Winter</td>\n",
       "      <td>Lillehammer</td>\n",
       "      <td>Speed Skating</td>\n",
       "      <td>Speed Skating Women's 1,000 metres</td>\n",
       "      <td>NaN</td>\n",
       "    </tr>\n",
       "  </tbody>\n",
       "</table>\n",
       "</div>"
      ],
      "text/plain": [
       "   ID                      Name Sex   Age  Height  Weight            Team  \\\n",
       "0   1                 A Dijiang   M  24.0   180.0    80.0           China   \n",
       "1   2                  A Lamusi   M  23.0   170.0    60.0           China   \n",
       "2   3       Gunnar Nielsen Aaby   M  24.0     NaN     NaN         Denmark   \n",
       "3   4      Edgar Lindenau Aabye   M  34.0     NaN     NaN  Denmark/Sweden   \n",
       "4   5  Christine Jacoba Aaftink   F  21.0   185.0    82.0     Netherlands   \n",
       "5   5  Christine Jacoba Aaftink   F  21.0   185.0    82.0     Netherlands   \n",
       "6   5  Christine Jacoba Aaftink   F  25.0   185.0    82.0     Netherlands   \n",
       "7   5  Christine Jacoba Aaftink   F  25.0   185.0    82.0     Netherlands   \n",
       "8   5  Christine Jacoba Aaftink   F  27.0   185.0    82.0     Netherlands   \n",
       "9   5  Christine Jacoba Aaftink   F  27.0   185.0    82.0     Netherlands   \n",
       "\n",
       "   NOC        Games  Year  Season         City          Sport  \\\n",
       "0  CHN  1992 Summer  1992  Summer    Barcelona     Basketball   \n",
       "1  CHN  2012 Summer  2012  Summer       London           Judo   \n",
       "2  DEN  1920 Summer  1920  Summer    Antwerpen       Football   \n",
       "3  DEN  1900 Summer  1900  Summer        Paris     Tug-Of-War   \n",
       "4  NED  1988 Winter  1988  Winter      Calgary  Speed Skating   \n",
       "5  NED  1988 Winter  1988  Winter      Calgary  Speed Skating   \n",
       "6  NED  1992 Winter  1992  Winter  Albertville  Speed Skating   \n",
       "7  NED  1992 Winter  1992  Winter  Albertville  Speed Skating   \n",
       "8  NED  1994 Winter  1994  Winter  Lillehammer  Speed Skating   \n",
       "9  NED  1994 Winter  1994  Winter  Lillehammer  Speed Skating   \n",
       "\n",
       "                                Event Medal  \n",
       "0         Basketball Men's Basketball   NaN  \n",
       "1        Judo Men's Extra-Lightweight   NaN  \n",
       "2             Football Men's Football   NaN  \n",
       "3         Tug-Of-War Men's Tug-Of-War  Gold  \n",
       "4    Speed Skating Women's 500 metres   NaN  \n",
       "5  Speed Skating Women's 1,000 metres   NaN  \n",
       "6    Speed Skating Women's 500 metres   NaN  \n",
       "7  Speed Skating Women's 1,000 metres   NaN  \n",
       "8    Speed Skating Women's 500 metres   NaN  \n",
       "9  Speed Skating Women's 1,000 metres   NaN  "
      ]
     },
     "execution_count": 3,
     "metadata": {},
     "output_type": "execute_result"
    }
   ],
   "source": [
    "df.head(10)"
   ]
  },
  {
   "cell_type": "code",
   "execution_count": 4,
   "metadata": {
    "id": "ridkkE_WNpWL"
   },
   "outputs": [],
   "source": [
    "df = df.drop([\"ID\", \"Name\", \"Team\", \"Games\", \"City\", \"Event\"], axis=1)"
   ]
  },
  {
   "cell_type": "code",
   "execution_count": 5,
   "metadata": {
    "id": "hvpE4buVBd0-"
   },
   "outputs": [],
   "source": [
    "df = df[df[\"Year\"] > 1959]"
   ]
  },
  {
   "cell_type": "code",
   "execution_count": 6,
   "metadata": {
    "colab": {
     "base_uri": "https://localhost:8080/"
    },
    "id": "neVIWQlDHeMP",
    "outputId": "855b1ad1-11bb-4be0-d037-e1ca9dcfc28e"
   },
   "outputs": [
    {
     "name": "stdout",
     "output_type": "stream",
     "text": [
      "shape is (209072, 9)\n"
     ]
    }
   ],
   "source": [
    "df['Medal'] = df['Medal'].replace(np.nan, 0)\n",
    "df['Medal'].unique()\n",
    "print(f'shape is {df.shape}')"
   ]
  },
  {
   "cell_type": "code",
   "execution_count": 7,
   "metadata": {
    "colab": {
     "base_uri": "https://localhost:8080/"
    },
    "id": "sayRU7FdCreK",
    "outputId": "4bde7fe2-7113-431d-8189-0d2c50e3a79e"
   },
   "outputs": [
    {
     "name": "stdout",
     "output_type": "stream",
     "text": [
      "shape is (196084, 9)\n"
     ]
    }
   ],
   "source": [
    "df = df.dropna()\n",
    "print(f'shape is {df.shape}')"
   ]
  },
  {
   "cell_type": "markdown",
   "metadata": {
    "id": "PlfZlMIk4k6B"
   },
   "source": [
    "### Selecting sport categories"
   ]
  },
  {
   "cell_type": "markdown",
   "metadata": {
    "id": "H8Ix2Xdd4omZ"
   },
   "source": [
    "### Converting medal names into medal (1) or no medal (0)"
   ]
  },
  {
   "cell_type": "code",
   "execution_count": 8,
   "metadata": {
    "colab": {
     "base_uri": "https://localhost:8080/"
    },
    "id": "JJw16Ejxc3RN",
    "outputId": "87ff018a-d827-4f61-e07f-a9441ac48f3d"
   },
   "outputs": [
    {
     "data": {
      "text/plain": [
       "0    168346\n",
       "1     27738\n",
       "Name: Medal, dtype: int64"
      ]
     },
     "execution_count": 8,
     "metadata": {},
     "output_type": "execute_result"
    }
   ],
   "source": [
    "df = df.replace([\"Gold\", \"Silver\", \"Bronze\"], 1)\n",
    "\n",
    "df.Medal.value_counts()"
   ]
  },
  {
   "cell_type": "code",
   "execution_count": 9,
   "metadata": {
    "colab": {
     "base_uri": "https://localhost:8080/"
    },
    "id": "VgkXPcupXqIS",
    "outputId": "0edeff4b-8715-4155-ab7e-c7524037e951"
   },
   "outputs": [
    {
     "data": {
      "text/plain": [
       "Sport\n",
       "Athletics                    27351\n",
       "Swimming                     18494\n",
       "Gymnastics                   17196\n",
       "Cycling                       7591\n",
       "Rowing                        7516\n",
       "Cross Country Skiing          7332\n",
       "Shooting                      7030\n",
       "Alpine Skiing                 6159\n",
       "Fencing                       6087\n",
       "Canoeing                      5432\n",
       "Wrestling                     4962\n",
       "Sailing                       4704\n",
       "Biathlon                      4615\n",
       "Ice Hockey                    4389\n",
       "Equestrianism                 4339\n",
       "Speed Skating                 4306\n",
       "Boxing                        4241\n",
       "Football                      4205\n",
       "Hockey                        4160\n",
       "Basketball                    3494\n",
       "Judo                          3366\n",
       "Handball                      3317\n",
       "Volleyball                    3277\n",
       "Weightlifting                 2852\n",
       "Water Polo                    2638\n",
       "Bobsleigh                     2158\n",
       "Tennis                        1991\n",
       "Diving                        1951\n",
       "Ski Jumping                   1925\n",
       "Archery                       1883\n",
       "Table Tennis                  1789\n",
       "Short Track Speed Skating     1488\n",
       "Figure Skating                1480\n",
       "Luge                          1377\n",
       "Badminton                     1362\n",
       "Modern Pentathlon             1207\n",
       "Nordic Combined               1035\n",
       "Snowboarding                   924\n",
       "Freestyle Skiing               913\n",
       "Synchronized Swimming          849\n",
       "Baseball                       846\n",
       "Rhythmic Gymnastics            615\n",
       "Taekwondo                      596\n",
       "Beach Volleyball               538\n",
       "Triathlon                      526\n",
       "Softball                       441\n",
       "Curling                        410\n",
       "Rugby Sevens                   297\n",
       "Skeleton                       173\n",
       "Trampolining                   149\n",
       "Golf                           108\n",
       "dtype: int64"
      ]
     },
     "execution_count": 9,
     "metadata": {},
     "output_type": "execute_result"
    }
   ],
   "source": [
    "# check most represented sports\n",
    "df.value_counts('Sport')"
   ]
  },
  {
   "cell_type": "markdown",
   "metadata": {
    "id": "bjUgoil3Yfie"
   },
   "source": [
    "## Winter Olympics datasets:"
   ]
  },
  {
   "cell_type": "code",
   "execution_count": 10,
   "metadata": {
    "id": "K-534yBaBJUn"
   },
   "outputs": [],
   "source": [
    "# set Event of interst\n",
    "\n",
    "sport_list = [\"Athletics\", \"Swimming\", \"Gymnastics\"]\n",
    "# rename_mapper = {\n",
    "#     \"Figure Skating Men's Singles\" : \"figure_men\", \n",
    "#     \"Figure Skating Women's Singles\"  : \"figure_wom\", \n",
    "#     \"Speed Skating Men's 1,500 metres\" : \"speed_man\", \n",
    "#     \"Speed Skating Women's 1,500 metres\" : \"speed_wom\"\n",
    "# }"
   ]
  },
  {
   "cell_type": "code",
   "execution_count": 11,
   "metadata": {
    "colab": {
     "base_uri": "https://localhost:8080/",
     "height": 456
    },
    "id": "F2TaOSYU7pk6",
    "outputId": "51109e47-0d0f-4e12-97ba-44a2e310052a"
   },
   "outputs": [
    {
     "data": {
      "text/html": [
       "<div>\n",
       "<style scoped>\n",
       "    .dataframe tbody tr th:only-of-type {\n",
       "        vertical-align: middle;\n",
       "    }\n",
       "\n",
       "    .dataframe tbody tr th {\n",
       "        vertical-align: top;\n",
       "    }\n",
       "\n",
       "    .dataframe thead th {\n",
       "        text-align: right;\n",
       "    }\n",
       "</style>\n",
       "<table border=\"1\" class=\"dataframe\">\n",
       "  <thead>\n",
       "    <tr style=\"text-align: right;\">\n",
       "      <th></th>\n",
       "      <th>index</th>\n",
       "      <th>Sex</th>\n",
       "      <th>Age</th>\n",
       "      <th>Height</th>\n",
       "      <th>Weight</th>\n",
       "      <th>NOC</th>\n",
       "      <th>Year</th>\n",
       "      <th>Season</th>\n",
       "      <th>Sport</th>\n",
       "      <th>Medal</th>\n",
       "      <th>...</th>\n",
       "      <th>NOC_YUG</th>\n",
       "      <th>NOC_ZAM</th>\n",
       "      <th>NOC_ZIM</th>\n",
       "      <th>Sport_Athletics</th>\n",
       "      <th>Sport_Gymnastics</th>\n",
       "      <th>Sport_Swimming</th>\n",
       "      <th>Sex_F</th>\n",
       "      <th>Sex_M</th>\n",
       "      <th>Season_Summer</th>\n",
       "      <th>BMI</th>\n",
       "    </tr>\n",
       "  </thead>\n",
       "  <tbody>\n",
       "    <tr>\n",
       "      <th>48138</th>\n",
       "      <td>205559</td>\n",
       "      <td>F</td>\n",
       "      <td>17.0</td>\n",
       "      <td>159.0</td>\n",
       "      <td>52.0</td>\n",
       "      <td>ISR</td>\n",
       "      <td>1984</td>\n",
       "      <td>Summer</td>\n",
       "      <td>Swimming</td>\n",
       "      <td>0</td>\n",
       "      <td>...</td>\n",
       "      <td>0</td>\n",
       "      <td>0</td>\n",
       "      <td>0</td>\n",
       "      <td>0</td>\n",
       "      <td>0</td>\n",
       "      <td>1</td>\n",
       "      <td>1</td>\n",
       "      <td>0</td>\n",
       "      <td>1</td>\n",
       "      <td>20.568807</td>\n",
       "    </tr>\n",
       "    <tr>\n",
       "      <th>48307</th>\n",
       "      <td>206259</td>\n",
       "      <td>M</td>\n",
       "      <td>27.0</td>\n",
       "      <td>182.0</td>\n",
       "      <td>78.0</td>\n",
       "      <td>GER</td>\n",
       "      <td>2004</td>\n",
       "      <td>Summer</td>\n",
       "      <td>Swimming</td>\n",
       "      <td>0</td>\n",
       "      <td>...</td>\n",
       "      <td>0</td>\n",
       "      <td>0</td>\n",
       "      <td>0</td>\n",
       "      <td>0</td>\n",
       "      <td>0</td>\n",
       "      <td>1</td>\n",
       "      <td>0</td>\n",
       "      <td>1</td>\n",
       "      <td>1</td>\n",
       "      <td>23.547881</td>\n",
       "    </tr>\n",
       "    <tr>\n",
       "      <th>3649</th>\n",
       "      <td>14886</td>\n",
       "      <td>M</td>\n",
       "      <td>23.0</td>\n",
       "      <td>165.0</td>\n",
       "      <td>67.0</td>\n",
       "      <td>GUY</td>\n",
       "      <td>1984</td>\n",
       "      <td>Summer</td>\n",
       "      <td>Athletics</td>\n",
       "      <td>0</td>\n",
       "      <td>...</td>\n",
       "      <td>0</td>\n",
       "      <td>0</td>\n",
       "      <td>0</td>\n",
       "      <td>1</td>\n",
       "      <td>0</td>\n",
       "      <td>0</td>\n",
       "      <td>0</td>\n",
       "      <td>1</td>\n",
       "      <td>1</td>\n",
       "      <td>24.609734</td>\n",
       "    </tr>\n",
       "    <tr>\n",
       "      <th>39670</th>\n",
       "      <td>168812</td>\n",
       "      <td>F</td>\n",
       "      <td>22.0</td>\n",
       "      <td>170.0</td>\n",
       "      <td>58.0</td>\n",
       "      <td>URS</td>\n",
       "      <td>1980</td>\n",
       "      <td>Summer</td>\n",
       "      <td>Athletics</td>\n",
       "      <td>0</td>\n",
       "      <td>...</td>\n",
       "      <td>0</td>\n",
       "      <td>0</td>\n",
       "      <td>0</td>\n",
       "      <td>1</td>\n",
       "      <td>0</td>\n",
       "      <td>0</td>\n",
       "      <td>1</td>\n",
       "      <td>0</td>\n",
       "      <td>1</td>\n",
       "      <td>20.069204</td>\n",
       "    </tr>\n",
       "    <tr>\n",
       "      <th>10747</th>\n",
       "      <td>43799</td>\n",
       "      <td>M</td>\n",
       "      <td>24.0</td>\n",
       "      <td>167.0</td>\n",
       "      <td>67.0</td>\n",
       "      <td>ESP</td>\n",
       "      <td>2004</td>\n",
       "      <td>Summer</td>\n",
       "      <td>Gymnastics</td>\n",
       "      <td>0</td>\n",
       "      <td>...</td>\n",
       "      <td>0</td>\n",
       "      <td>0</td>\n",
       "      <td>0</td>\n",
       "      <td>0</td>\n",
       "      <td>1</td>\n",
       "      <td>0</td>\n",
       "      <td>0</td>\n",
       "      <td>1</td>\n",
       "      <td>1</td>\n",
       "      <td>24.023809</td>\n",
       "    </tr>\n",
       "    <tr>\n",
       "      <th>35900</th>\n",
       "      <td>154342</td>\n",
       "      <td>F</td>\n",
       "      <td>18.0</td>\n",
       "      <td>165.0</td>\n",
       "      <td>57.0</td>\n",
       "      <td>CAN</td>\n",
       "      <td>1972</td>\n",
       "      <td>Summer</td>\n",
       "      <td>Gymnastics</td>\n",
       "      <td>0</td>\n",
       "      <td>...</td>\n",
       "      <td>0</td>\n",
       "      <td>0</td>\n",
       "      <td>0</td>\n",
       "      <td>0</td>\n",
       "      <td>1</td>\n",
       "      <td>0</td>\n",
       "      <td>1</td>\n",
       "      <td>0</td>\n",
       "      <td>1</td>\n",
       "      <td>20.936639</td>\n",
       "    </tr>\n",
       "    <tr>\n",
       "      <th>61981</th>\n",
       "      <td>266326</td>\n",
       "      <td>M</td>\n",
       "      <td>24.0</td>\n",
       "      <td>165.0</td>\n",
       "      <td>56.0</td>\n",
       "      <td>USA</td>\n",
       "      <td>1976</td>\n",
       "      <td>Summer</td>\n",
       "      <td>Gymnastics</td>\n",
       "      <td>0</td>\n",
       "      <td>...</td>\n",
       "      <td>0</td>\n",
       "      <td>0</td>\n",
       "      <td>0</td>\n",
       "      <td>0</td>\n",
       "      <td>1</td>\n",
       "      <td>0</td>\n",
       "      <td>0</td>\n",
       "      <td>1</td>\n",
       "      <td>1</td>\n",
       "      <td>20.569330</td>\n",
       "    </tr>\n",
       "    <tr>\n",
       "      <th>48493</th>\n",
       "      <td>206939</td>\n",
       "      <td>F</td>\n",
       "      <td>29.0</td>\n",
       "      <td>165.0</td>\n",
       "      <td>54.0</td>\n",
       "      <td>POL</td>\n",
       "      <td>1996</td>\n",
       "      <td>Summer</td>\n",
       "      <td>Athletics</td>\n",
       "      <td>0</td>\n",
       "      <td>...</td>\n",
       "      <td>0</td>\n",
       "      <td>0</td>\n",
       "      <td>0</td>\n",
       "      <td>1</td>\n",
       "      <td>0</td>\n",
       "      <td>0</td>\n",
       "      <td>1</td>\n",
       "      <td>0</td>\n",
       "      <td>1</td>\n",
       "      <td>19.834711</td>\n",
       "    </tr>\n",
       "    <tr>\n",
       "      <th>44905</th>\n",
       "      <td>191688</td>\n",
       "      <td>F</td>\n",
       "      <td>17.0</td>\n",
       "      <td>161.0</td>\n",
       "      <td>48.0</td>\n",
       "      <td>TCH</td>\n",
       "      <td>1976</td>\n",
       "      <td>Summer</td>\n",
       "      <td>Gymnastics</td>\n",
       "      <td>0</td>\n",
       "      <td>...</td>\n",
       "      <td>0</td>\n",
       "      <td>0</td>\n",
       "      <td>0</td>\n",
       "      <td>0</td>\n",
       "      <td>1</td>\n",
       "      <td>0</td>\n",
       "      <td>1</td>\n",
       "      <td>0</td>\n",
       "      <td>1</td>\n",
       "      <td>18.517804</td>\n",
       "    </tr>\n",
       "    <tr>\n",
       "      <th>42075</th>\n",
       "      <td>179107</td>\n",
       "      <td>F</td>\n",
       "      <td>28.0</td>\n",
       "      <td>178.0</td>\n",
       "      <td>70.0</td>\n",
       "      <td>DEN</td>\n",
       "      <td>2016</td>\n",
       "      <td>Summer</td>\n",
       "      <td>Swimming</td>\n",
       "      <td>0</td>\n",
       "      <td>...</td>\n",
       "      <td>0</td>\n",
       "      <td>0</td>\n",
       "      <td>0</td>\n",
       "      <td>0</td>\n",
       "      <td>0</td>\n",
       "      <td>1</td>\n",
       "      <td>1</td>\n",
       "      <td>0</td>\n",
       "      <td>1</td>\n",
       "      <td>22.093170</td>\n",
       "    </tr>\n",
       "  </tbody>\n",
       "</table>\n",
       "<p>10 rows × 237 columns</p>\n",
       "</div>"
      ],
      "text/plain": [
       "        index Sex   Age  Height  Weight  NOC  Year  Season       Sport  Medal  \\\n",
       "48138  205559   F  17.0   159.0    52.0  ISR  1984  Summer    Swimming      0   \n",
       "48307  206259   M  27.0   182.0    78.0  GER  2004  Summer    Swimming      0   \n",
       "3649    14886   M  23.0   165.0    67.0  GUY  1984  Summer   Athletics      0   \n",
       "39670  168812   F  22.0   170.0    58.0  URS  1980  Summer   Athletics      0   \n",
       "10747   43799   M  24.0   167.0    67.0  ESP  2004  Summer  Gymnastics      0   \n",
       "35900  154342   F  18.0   165.0    57.0  CAN  1972  Summer  Gymnastics      0   \n",
       "61981  266326   M  24.0   165.0    56.0  USA  1976  Summer  Gymnastics      0   \n",
       "48493  206939   F  29.0   165.0    54.0  POL  1996  Summer   Athletics      0   \n",
       "44905  191688   F  17.0   161.0    48.0  TCH  1976  Summer  Gymnastics      0   \n",
       "42075  179107   F  28.0   178.0    70.0  DEN  2016  Summer    Swimming      0   \n",
       "\n",
       "       ...  NOC_YUG  NOC_ZAM  NOC_ZIM  Sport_Athletics  Sport_Gymnastics  \\\n",
       "48138  ...        0        0        0                0                 0   \n",
       "48307  ...        0        0        0                0                 0   \n",
       "3649   ...        0        0        0                1                 0   \n",
       "39670  ...        0        0        0                1                 0   \n",
       "10747  ...        0        0        0                0                 1   \n",
       "35900  ...        0        0        0                0                 1   \n",
       "61981  ...        0        0        0                0                 1   \n",
       "48493  ...        0        0        0                1                 0   \n",
       "44905  ...        0        0        0                0                 1   \n",
       "42075  ...        0        0        0                0                 0   \n",
       "\n",
       "       Sport_Swimming  Sex_F  Sex_M  Season_Summer        BMI  \n",
       "48138               1      1      0              1  20.568807  \n",
       "48307               1      0      1              1  23.547881  \n",
       "3649                0      0      1              1  24.609734  \n",
       "39670               0      1      0              1  20.069204  \n",
       "10747               0      0      1              1  24.023809  \n",
       "35900               0      1      0              1  20.936639  \n",
       "61981               0      0      1              1  20.569330  \n",
       "48493               0      1      0              1  19.834711  \n",
       "44905               0      1      0              1  18.517804  \n",
       "42075               1      1      0              1  22.093170  \n",
       "\n",
       "[10 rows x 237 columns]"
      ]
     },
     "execution_count": 11,
     "metadata": {},
     "output_type": "execute_result"
    }
   ],
   "source": [
    "setattr# filter main dataset and retrieve only categories of interest\n",
    "wd_ag = df[df.Sport.isin(sport_list)].copy().reset_index()\n",
    "# # rename wd_ag events\n",
    "# wd_ag.replace(rename_mapper, inplace=True)\n",
    "# create one hot encoding for NOC adn Event cols\n",
    "noc_one = pd.get_dummies(wd_ag[[\"NOC\", \"Sport\", \"Sex\", \"Season\"]])\n",
    "#noc_one = pd.get_dummies(wd_ag[[\"Event\"]])\n",
    "# concat wd_ag and tmp \n",
    "tmp = pd.concat([wd_ag, noc_one], axis=1)\n",
    "# calc BMI\n",
    "tmp[\"BMI\"] = tmp[\"Weight\"] / ((tmp[\"Height\"] / 100)** 2)\n",
    "# print examples\n",
    "tmp.sample(n=10)"
   ]
  },
  {
   "cell_type": "code",
   "execution_count": 12,
   "metadata": {
    "id": "MhqWu4fQXWxd"
   },
   "outputs": [],
   "source": [
    "# men_skating = tmp[tmp.Event ==\"Figure Skating Men's Singles\"]\n",
    "# print(f'men_skating shape is\\t{men_skating.shape}')\n",
    "# women_skating = tmp[tmp.Event ==\"Figure Skating Women's Singles\"]\n",
    "# print(f'women_skating shape is\\t{women_skating.shape}')\n",
    "# men_speed_skating = tmp[tmp.Event ==\"Speed Skating Men's 1,500 metres\"]\n",
    "# print(f'men_speed_skating shape is\\t{men_speed_skating.shape}')\n",
    "# women_speed_skating = tmp[tmp.Event ==\"Speed Skating Women's 1,500 metres\"]\n",
    "# print(f'women_speed_skating shape is\\t{women_speed_skating.shape}')"
   ]
  },
  {
   "cell_type": "markdown",
   "metadata": {
    "id": "nJvc1IyeLhVe"
   },
   "source": [
    "### AutoML"
   ]
  },
  {
   "cell_type": "code",
   "execution_count": 13,
   "metadata": {
    "id": "qZhY5m0aLg5w"
   },
   "outputs": [],
   "source": [
    "from sklearn.model_selection import train_test_split\n",
    "from sklearn.preprocessing import StandardScaler, OneHotEncoder\n",
    "from sklearn.pipeline import Pipeline\n",
    "from sklearn.impute import SimpleImputer, KNNImputer\n",
    "from sklearn.preprocessing import OneHotEncoder\n"
   ]
  },
  {
   "cell_type": "markdown",
   "metadata": {
    "id": "4EOe2G5njUqX"
   },
   "source": [
    "## Random forest feature importance:"
   ]
  },
  {
   "cell_type": "markdown",
   "metadata": {
    "id": "ZGW_9qWMiJ09"
   },
   "source": [
    "### 1. graph from the presentation based on age, year, country, sport, sex (sex_m, sex_f), season, and bmi: "
   ]
  },
  {
   "cell_type": "markdown",
   "metadata": {
    "id": "-Ew3ayimmG3M"
   },
   "source": [
    "Note: sex and season are categorical variables, therefore they were one hot encoded into new columns (Sex_F,\tSex_M, and\tSeason_Summer). For this reason, we need to drop the original categorical sex and season columns."
   ]
  },
  {
   "cell_type": "code",
   "execution_count": 14,
   "metadata": {
    "colab": {
     "base_uri": "https://localhost:8080/"
    },
    "id": "0Z3vFceEiJ09",
    "outputId": "3c5ca4b9-0c0c-4201-b636-25ff3e9ed2ab"
   },
   "outputs": [
    {
     "name": "stdout",
     "output_type": "stream",
     "text": [
      "X shape is (63041, 229)\tcols are Age;Year;NOC_AFG;NOC_AHO;NOC_ALB;NOC_ALG;NOC_AND;NOC_ANG;NOC_ANT;NOC_ARG;NOC_ARM;NOC_ARU;NOC_ASA;NOC_AUS;NOC_AUT;NOC_AZE;NOC_BAH;NOC_BAN;NOC_BAR;NOC_BDI;NOC_BEL;NOC_BEN;NOC_BER;NOC_BIH;NOC_BIZ;NOC_BLR;NOC_BOL;NOC_BOT;NOC_BRA;NOC_BRN;NOC_BRU;NOC_BUL;NOC_BUR;NOC_CAF;NOC_CAM;NOC_CAN;NOC_CAY;NOC_CGO;NOC_CHA;NOC_CHI;NOC_CHN;NOC_CIV;NOC_CMR;NOC_COD;NOC_COK;NOC_COL;NOC_COM;NOC_CPV;NOC_CRC;NOC_CRO;NOC_CUB;NOC_CYP;NOC_CZE;NOC_DEN;NOC_DJI;NOC_DMA;NOC_DOM;NOC_ECU;NOC_EGY;NOC_ERI;NOC_ESA;NOC_ESP;NOC_EST;NOC_ETH;NOC_EUN;NOC_FIJ;NOC_FIN;NOC_FRA;NOC_FRG;NOC_FSM;NOC_GAB;NOC_GAM;NOC_GBR;NOC_GBS;NOC_GDR;NOC_GEO;NOC_GEQ;NOC_GER;NOC_GHA;NOC_GRE;NOC_GRN;NOC_GUA;NOC_GUI;NOC_GUM;NOC_GUY;NOC_HAI;NOC_HKG;NOC_HON;NOC_HUN;NOC_INA;NOC_IND;NOC_IOA;NOC_IRI;NOC_IRL;NOC_IRQ;NOC_ISL;NOC_ISR;NOC_ISV;NOC_ITA;NOC_IVB;NOC_JAM;NOC_JOR;NOC_JPN;NOC_KAZ;NOC_KEN;NOC_KGZ;NOC_KIR;NOC_KOR;NOC_KOS;NOC_KSA;NOC_KUW;NOC_LAO;NOC_LAT;NOC_LBA;NOC_LBR;NOC_LCA;NOC_LES;NOC_LIB;NOC_LIE;NOC_LTU;NOC_LUX;NOC_MAD;NOC_MAL;NOC_MAR;NOC_MAS;NOC_MAW;NOC_MDA;NOC_MDV;NOC_MEX;NOC_MGL;NOC_MHL;NOC_MKD;NOC_MLI;NOC_MLT;NOC_MNE;NOC_MON;NOC_MOZ;NOC_MRI;NOC_MTN;NOC_MYA;NOC_NAM;NOC_NCA;NOC_NED;NOC_NEP;NOC_NGR;NOC_NIG;NOC_NOR;NOC_NZL;NOC_OMA;NOC_PAK;NOC_PAN;NOC_PAR;NOC_PER;NOC_PHI;NOC_PLE;NOC_PLW;NOC_PNG;NOC_POL;NOC_POR;NOC_PRK;NOC_PUR;NOC_QAT;NOC_RHO;NOC_ROT;NOC_ROU;NOC_RSA;NOC_RUS;NOC_RWA;NOC_SAM;NOC_SCG;NOC_SEN;NOC_SEY;NOC_SGP;NOC_SKN;NOC_SLE;NOC_SLO;NOC_SMR;NOC_SOL;NOC_SOM;NOC_SRB;NOC_SRI;NOC_SSD;NOC_STP;NOC_SUD;NOC_SUI;NOC_SUR;NOC_SVK;NOC_SWE;NOC_SWZ;NOC_SYR;NOC_TAN;NOC_TCH;NOC_TGA;NOC_THA;NOC_TJK;NOC_TKM;NOC_TLS;NOC_TOG;NOC_TPE;NOC_TTO;NOC_TUN;NOC_TUR;NOC_TUV;NOC_UAE;NOC_UGA;NOC_UKR;NOC_URS;NOC_URU;NOC_USA;NOC_UZB;NOC_VAN;NOC_VEN;NOC_VIE;NOC_VIN;NOC_VNM;NOC_WIF;NOC_YAR;NOC_YEM;NOC_YMD;NOC_YUG;NOC_ZAM;NOC_ZIM;Sport_Athletics;Sport_Gymnastics;Sport_Swimming;Sex_F;Sex_M;Season_Summer;BMI\n",
      "y shape is (63041,)\n",
      "X_train shape is (50432, 229)\n",
      "y_train shape is (50432,)\n",
      "X_test shape is (12609, 229)\n",
      "y_test shape is (12609,)\n"
     ]
    }
   ],
   "source": [
    "X = tmp.drop([\"Medal\", \"Sport\", \"NOC\", \"Height\", \"Weight\", \"index\", \"Sex\", \"Season\"], axis=1)\n",
    "print(f'X shape is {X.shape}\\tcols are { \";\".join(X.columns)}')\n",
    "# create labels\n",
    "y = tmp['Medal']\n",
    "print(f'y shape is {y.shape}')\n",
    "X_train, X_test, y_train, y_test = train_test_split(X, y, train_size=0.8, random_state=42)\n",
    "print(f'X_train shape is {X_train.shape}')\n",
    "print(f'y_train shape is {y_train.shape}')\n",
    "print(f'X_test shape is {X_test.shape}')\n",
    "print(f'y_test shape is {y_test.shape}')"
   ]
  },
  {
   "cell_type": "code",
   "execution_count": 15,
   "metadata": {
    "colab": {
     "base_uri": "https://localhost:8080/",
     "height": 299
    },
    "id": "Qo7RANTLiJ0-",
    "outputId": "adc073d8-2534-4987-f98e-773bb3c16b4b"
   },
   "outputs": [
    {
     "data": {
      "text/html": [
       "<div>\n",
       "<style scoped>\n",
       "    .dataframe tbody tr th:only-of-type {\n",
       "        vertical-align: middle;\n",
       "    }\n",
       "\n",
       "    .dataframe tbody tr th {\n",
       "        vertical-align: top;\n",
       "    }\n",
       "\n",
       "    .dataframe thead th {\n",
       "        text-align: right;\n",
       "    }\n",
       "</style>\n",
       "<table border=\"1\" class=\"dataframe\">\n",
       "  <thead>\n",
       "    <tr style=\"text-align: right;\">\n",
       "      <th></th>\n",
       "      <th>Age</th>\n",
       "      <th>Year</th>\n",
       "      <th>NOC_AFG</th>\n",
       "      <th>NOC_AHO</th>\n",
       "      <th>NOC_ALB</th>\n",
       "      <th>NOC_ALG</th>\n",
       "      <th>NOC_AND</th>\n",
       "      <th>NOC_ANG</th>\n",
       "      <th>NOC_ANT</th>\n",
       "      <th>NOC_ARG</th>\n",
       "      <th>...</th>\n",
       "      <th>NOC_YUG</th>\n",
       "      <th>NOC_ZAM</th>\n",
       "      <th>NOC_ZIM</th>\n",
       "      <th>Sport_Athletics</th>\n",
       "      <th>Sport_Gymnastics</th>\n",
       "      <th>Sport_Swimming</th>\n",
       "      <th>Sex_F</th>\n",
       "      <th>Sex_M</th>\n",
       "      <th>Season_Summer</th>\n",
       "      <th>BMI</th>\n",
       "    </tr>\n",
       "  </thead>\n",
       "  <tbody>\n",
       "    <tr>\n",
       "      <th>0</th>\n",
       "      <td>31.0</td>\n",
       "      <td>2000</td>\n",
       "      <td>0</td>\n",
       "      <td>0</td>\n",
       "      <td>0</td>\n",
       "      <td>0</td>\n",
       "      <td>0</td>\n",
       "      <td>0</td>\n",
       "      <td>0</td>\n",
       "      <td>0</td>\n",
       "      <td>...</td>\n",
       "      <td>0</td>\n",
       "      <td>0</td>\n",
       "      <td>0</td>\n",
       "      <td>1</td>\n",
       "      <td>0</td>\n",
       "      <td>0</td>\n",
       "      <td>0</td>\n",
       "      <td>1</td>\n",
       "      <td>1</td>\n",
       "      <td>36.393158</td>\n",
       "    </tr>\n",
       "    <tr>\n",
       "      <th>1</th>\n",
       "      <td>30.0</td>\n",
       "      <td>2012</td>\n",
       "      <td>0</td>\n",
       "      <td>0</td>\n",
       "      <td>0</td>\n",
       "      <td>0</td>\n",
       "      <td>0</td>\n",
       "      <td>0</td>\n",
       "      <td>0</td>\n",
       "      <td>0</td>\n",
       "      <td>...</td>\n",
       "      <td>0</td>\n",
       "      <td>0</td>\n",
       "      <td>0</td>\n",
       "      <td>1</td>\n",
       "      <td>0</td>\n",
       "      <td>0</td>\n",
       "      <td>0</td>\n",
       "      <td>1</td>\n",
       "      <td>1</td>\n",
       "      <td>21.733535</td>\n",
       "    </tr>\n",
       "    <tr>\n",
       "      <th>2</th>\n",
       "      <td>21.0</td>\n",
       "      <td>1996</td>\n",
       "      <td>0</td>\n",
       "      <td>0</td>\n",
       "      <td>0</td>\n",
       "      <td>0</td>\n",
       "      <td>0</td>\n",
       "      <td>0</td>\n",
       "      <td>0</td>\n",
       "      <td>0</td>\n",
       "      <td>...</td>\n",
       "      <td>0</td>\n",
       "      <td>0</td>\n",
       "      <td>0</td>\n",
       "      <td>0</td>\n",
       "      <td>0</td>\n",
       "      <td>1</td>\n",
       "      <td>0</td>\n",
       "      <td>1</td>\n",
       "      <td>1</td>\n",
       "      <td>20.724838</td>\n",
       "    </tr>\n",
       "    <tr>\n",
       "      <th>3</th>\n",
       "      <td>21.0</td>\n",
       "      <td>1996</td>\n",
       "      <td>0</td>\n",
       "      <td>0</td>\n",
       "      <td>0</td>\n",
       "      <td>0</td>\n",
       "      <td>0</td>\n",
       "      <td>0</td>\n",
       "      <td>0</td>\n",
       "      <td>0</td>\n",
       "      <td>...</td>\n",
       "      <td>0</td>\n",
       "      <td>0</td>\n",
       "      <td>0</td>\n",
       "      <td>0</td>\n",
       "      <td>0</td>\n",
       "      <td>1</td>\n",
       "      <td>0</td>\n",
       "      <td>1</td>\n",
       "      <td>1</td>\n",
       "      <td>20.724838</td>\n",
       "    </tr>\n",
       "    <tr>\n",
       "      <th>4</th>\n",
       "      <td>21.0</td>\n",
       "      <td>1996</td>\n",
       "      <td>0</td>\n",
       "      <td>0</td>\n",
       "      <td>0</td>\n",
       "      <td>0</td>\n",
       "      <td>0</td>\n",
       "      <td>0</td>\n",
       "      <td>0</td>\n",
       "      <td>0</td>\n",
       "      <td>...</td>\n",
       "      <td>0</td>\n",
       "      <td>0</td>\n",
       "      <td>0</td>\n",
       "      <td>0</td>\n",
       "      <td>0</td>\n",
       "      <td>1</td>\n",
       "      <td>0</td>\n",
       "      <td>1</td>\n",
       "      <td>1</td>\n",
       "      <td>20.724838</td>\n",
       "    </tr>\n",
       "  </tbody>\n",
       "</table>\n",
       "<p>5 rows × 229 columns</p>\n",
       "</div>"
      ],
      "text/plain": [
       "    Age  Year  NOC_AFG  NOC_AHO  NOC_ALB  NOC_ALG  NOC_AND  NOC_ANG  NOC_ANT  \\\n",
       "0  31.0  2000        0        0        0        0        0        0        0   \n",
       "1  30.0  2012        0        0        0        0        0        0        0   \n",
       "2  21.0  1996        0        0        0        0        0        0        0   \n",
       "3  21.0  1996        0        0        0        0        0        0        0   \n",
       "4  21.0  1996        0        0        0        0        0        0        0   \n",
       "\n",
       "   NOC_ARG  ...  NOC_YUG  NOC_ZAM  NOC_ZIM  Sport_Athletics  Sport_Gymnastics  \\\n",
       "0        0  ...        0        0        0                1                 0   \n",
       "1        0  ...        0        0        0                1                 0   \n",
       "2        0  ...        0        0        0                0                 0   \n",
       "3        0  ...        0        0        0                0                 0   \n",
       "4        0  ...        0        0        0                0                 0   \n",
       "\n",
       "   Sport_Swimming  Sex_F  Sex_M  Season_Summer        BMI  \n",
       "0               0      0      1              1  36.393158  \n",
       "1               0      0      1              1  21.733535  \n",
       "2               1      0      1              1  20.724838  \n",
       "3               1      0      1              1  20.724838  \n",
       "4               1      0      1              1  20.724838  \n",
       "\n",
       "[5 rows x 229 columns]"
      ]
     },
     "execution_count": 15,
     "metadata": {},
     "output_type": "execute_result"
    }
   ],
   "source": [
    "X.head()"
   ]
  },
  {
   "cell_type": "code",
   "execution_count": 16,
   "metadata": {
    "colab": {
     "base_uri": "https://localhost:8080/"
    },
    "id": "U9EUHTICiJ0-",
    "outputId": "afc2dee2-3dda-4156-f629-6c5b36141bae"
   },
   "outputs": [
    {
     "data": {
      "text/plain": [
       "RandomForestClassifier(max_depth=200, random_state=42)"
      ]
     },
     "execution_count": 16,
     "metadata": {},
     "output_type": "execute_result"
    }
   ],
   "source": [
    "from sklearn.ensemble import RandomForestClassifier\n",
    "clf_final = RandomForestClassifier(max_depth=200, random_state=42)\n",
    "clf_final.fit(X_train, y_train)"
   ]
  },
  {
   "cell_type": "code",
   "execution_count": 17,
   "metadata": {
    "id": "PokK7NpUiJ0_"
   },
   "outputs": [],
   "source": [
    "predictions_all_countr = clf_final.predict(X_test)"
   ]
  },
  {
   "cell_type": "code",
   "execution_count": 21,
   "metadata": {
    "colab": {
     "base_uri": "https://localhost:8080/",
     "height": 317
    },
    "id": "vQGt98F2iJ0_",
    "outputId": "c1ec612b-cd14-4866-a8ec-bf9f50d24ff3"
   },
   "outputs": [
    {
     "name": "stdout",
     "output_type": "stream",
     "text": [
      "0.9066539773177889\n",
      "0.48846153846153845\n"
     ]
    },
    {
     "data": {
      "text/plain": [
       "<AxesSubplot:>"
      ]
     },
     "execution_count": 21,
     "metadata": {},
     "output_type": "execute_result"
    },
    {
     "data": {
      "image/png": "[encoded data removed]",
      "text/plain": [
       "<Figure size 432x288 with 2 Axes>"
      ]
     },
     "metadata": {
      "needs_background": "light"
     },
     "output_type": "display_data"
    }
   ],
   "source": [
    "from sklearn.metrics import confusion_matrix\n",
    "from sklearn.metrics import accuracy_score\n",
    "from sklearn.metrics import precision_score\n",
    "cm_final = confusion_matrix(y_test, predictions_all_countr)\n",
    "#tn, fp, fn, tp = confusion_matrix(wdf_dict['y_test'], wdf_dict['predictions_sk']).ravel()\n",
    "#print(tn, fp, fn, tp )\n",
    "print(accuracy_score(y_test, predictions_all_countr))\n",
    "print(precision_score(y_test, predictions_all_countr))\n",
    "import seaborn as sns\n",
    "sns.heatmap(cm_final, annot=True, fmt='d')"
   ]
  },
  {
   "cell_type": "code",
   "execution_count": 22,
   "metadata": {
    "colab": {
     "base_uri": "https://localhost:8080/"
    },
    "id": "uNC-6kmKiJ0_",
    "outputId": "988c94c4-17b7-4317-8b99-40507a2ae4cb"
   },
   "outputs": [
    {
     "data": {
      "text/plain": [
       "0.671212742102931"
      ]
     },
     "execution_count": 22,
     "metadata": {},
     "output_type": "execute_result"
    }
   ],
   "source": [
    "from sklearn.metrics import f1_score\n",
    "f1_score(y_test, predictions_all_countr, average=\"macro\")"
   ]
  },
  {
   "cell_type": "markdown",
   "metadata": {
    "id": "TlLkFPninxFs"
   },
   "source": [
    "BMI is the most important feature:"
   ]
  },
  {
   "cell_type": "code",
   "execution_count": 24,
   "metadata": {
    "colab": {
     "base_uri": "https://localhost:8080/",
     "height": 282
    },
    "id": "ttzXGVXwiJ1A",
    "outputId": "b64d72b3-39fc-4bbf-e32d-1488479ea6a6"
   },
   "outputs": [
    {
     "data": {
      "text/plain": [
       "<AxesSubplot:>"
      ]
     },
     "execution_count": 24,
     "metadata": {},
     "output_type": "execute_result"
    },
    {
     "data": {
      "image/png": "[encoded data removed]",
      "text/plain": [
       "<Figure size 432x288 with 1 Axes>"
      ]
     },
     "metadata": {
      "needs_background": "light"
     },
     "output_type": "display_data"
    }
   ],
   "source": [
    "feat_importances = pd.Series(clf_final.feature_importances_, index=X.columns)\n",
    "feat_importances.nlargest(5).plot(kind='barh')"
   ]
  },
  {
   "cell_type": "markdown",
   "metadata": {
    "id": "6JsbdYbNh8I4"
   },
   "source": [
    "### 2. graph from the presentation based on age, bmi, and sports: "
   ]
  },
  {
   "cell_type": "markdown",
   "metadata": {
    "id": "-Am2MvYfnbY0"
   },
   "source": [
    "Removing features results in lower performace and lower success in discovering medal winners:"
   ]
  },
  {
   "cell_type": "code",
   "execution_count": 25,
   "metadata": {
    "colab": {
     "base_uri": "https://localhost:8080/"
    },
    "id": "Gv7Ah7GTvyyK",
    "outputId": "e8c585ec-a8f5-4da8-e355-4bc1121e142d"
   },
   "outputs": [
    {
     "name": "stdout",
     "output_type": "stream",
     "text": [
      "X shape is (63041, 5)\tcols are Age;BMI;Sport_Athletics;Sport_Gymnastics;Sport_Swimming\n",
      "y shape is (63041,)\n",
      "X_train shape is (50432, 5)\n",
      "y_train shape is (50432,)\n",
      "X_test shape is (12609, 5)\n",
      "y_test shape is (12609,)\n"
     ]
    }
   ],
   "source": [
    "X = tmp[[\"Age\",\"BMI\",\"Sport_Athletics\",\t\"Sport_Gymnastics\",\t\"Sport_Swimming\"]]\n",
    "print(f'X shape is {X.shape}\\tcols are { \";\".join(X.columns)}')\n",
    "# create labels\n",
    "y = tmp['Medal']\n",
    "print(f'y shape is {y.shape}')\n",
    "X_train, X_test, y_train, y_test = train_test_split(X, y, train_size=0.8, random_state=42)\n",
    "print(f'X_train shape is {X_train.shape}')\n",
    "print(f'y_train shape is {y_train.shape}')\n",
    "print(f'X_test shape is {X_test.shape}')\n",
    "print(f'y_test shape is {y_test.shape}')"
   ]
  },
  {
   "cell_type": "code",
   "execution_count": 26,
   "metadata": {
    "colab": {
     "base_uri": "https://localhost:8080/",
     "height": 206
    },
    "id": "AnPXS-m1xUcT",
    "outputId": "97e4868d-7e5d-4d8e-fcdd-3df1ee79358e"
   },
   "outputs": [
    {
     "data": {
      "text/html": [
       "<div>\n",
       "<style scoped>\n",
       "    .dataframe tbody tr th:only-of-type {\n",
       "        vertical-align: middle;\n",
       "    }\n",
       "\n",
       "    .dataframe tbody tr th {\n",
       "        vertical-align: top;\n",
       "    }\n",
       "\n",
       "    .dataframe thead th {\n",
       "        text-align: right;\n",
       "    }\n",
       "</style>\n",
       "<table border=\"1\" class=\"dataframe\">\n",
       "  <thead>\n",
       "    <tr style=\"text-align: right;\">\n",
       "      <th></th>\n",
       "      <th>Age</th>\n",
       "      <th>BMI</th>\n",
       "      <th>Sport_Athletics</th>\n",
       "      <th>Sport_Gymnastics</th>\n",
       "      <th>Sport_Swimming</th>\n",
       "    </tr>\n",
       "  </thead>\n",
       "  <tbody>\n",
       "    <tr>\n",
       "      <th>0</th>\n",
       "      <td>31.0</td>\n",
       "      <td>36.393158</td>\n",
       "      <td>1</td>\n",
       "      <td>0</td>\n",
       "      <td>0</td>\n",
       "    </tr>\n",
       "    <tr>\n",
       "      <th>1</th>\n",
       "      <td>30.0</td>\n",
       "      <td>21.733535</td>\n",
       "      <td>1</td>\n",
       "      <td>0</td>\n",
       "      <td>0</td>\n",
       "    </tr>\n",
       "    <tr>\n",
       "      <th>2</th>\n",
       "      <td>21.0</td>\n",
       "      <td>20.724838</td>\n",
       "      <td>0</td>\n",
       "      <td>0</td>\n",
       "      <td>1</td>\n",
       "    </tr>\n",
       "    <tr>\n",
       "      <th>3</th>\n",
       "      <td>21.0</td>\n",
       "      <td>20.724838</td>\n",
       "      <td>0</td>\n",
       "      <td>0</td>\n",
       "      <td>1</td>\n",
       "    </tr>\n",
       "    <tr>\n",
       "      <th>4</th>\n",
       "      <td>21.0</td>\n",
       "      <td>20.724838</td>\n",
       "      <td>0</td>\n",
       "      <td>0</td>\n",
       "      <td>1</td>\n",
       "    </tr>\n",
       "  </tbody>\n",
       "</table>\n",
       "</div>"
      ],
      "text/plain": [
       "    Age        BMI  Sport_Athletics  Sport_Gymnastics  Sport_Swimming\n",
       "0  31.0  36.393158                1                 0               0\n",
       "1  30.0  21.733535                1                 0               0\n",
       "2  21.0  20.724838                0                 0               1\n",
       "3  21.0  20.724838                0                 0               1\n",
       "4  21.0  20.724838                0                 0               1"
      ]
     },
     "execution_count": 26,
     "metadata": {},
     "output_type": "execute_result"
    }
   ],
   "source": [
    "X.head()"
   ]
  },
  {
   "cell_type": "code",
   "execution_count": 27,
   "metadata": {
    "colab": {
     "base_uri": "https://localhost:8080/"
    },
    "id": "AS1XIgKOnhWE",
    "outputId": "785e57e0-3032-4371-e1de-14aa033aa93d"
   },
   "outputs": [
    {
     "data": {
      "text/plain": [
       "RandomForestClassifier(max_depth=200, random_state=42)"
      ]
     },
     "execution_count": 27,
     "metadata": {},
     "output_type": "execute_result"
    }
   ],
   "source": [
    "from sklearn.ensemble import RandomForestClassifier\n",
    "clf_final = RandomForestClassifier(max_depth=200, random_state=42)\n",
    "clf_final.fit(X_train, y_train)"
   ]
  },
  {
   "cell_type": "code",
   "execution_count": 28,
   "metadata": {
    "id": "iX3Hk7Dno0wv"
   },
   "outputs": [],
   "source": [
    "predictions_all_countr = clf_final.predict(X_test)"
   ]
  },
  {
   "cell_type": "code",
   "execution_count": 29,
   "metadata": {
    "colab": {
     "base_uri": "https://localhost:8080/",
     "height": 317
    },
    "id": "PMWPf7Lfo-Fx",
    "outputId": "752e0c55-6663-462e-8681-08b770e19c1e"
   },
   "outputs": [
    {
     "name": "stdout",
     "output_type": "stream",
     "text": [
      "0.8892061226108335\n",
      "0.3068181818181818\n"
     ]
    },
    {
     "data": {
      "text/plain": [
       "<AxesSubplot:>"
      ]
     },
     "execution_count": 29,
     "metadata": {},
     "output_type": "execute_result"
    },
    {
     "data": {
      "image/png": "[encoded data removed]",
      "text/plain": [
       "<Figure size 432x288 with 2 Axes>"
      ]
     },
     "metadata": {
      "needs_background": "light"
     },
     "output_type": "display_data"
    }
   ],
   "source": [
    "cm_final = confusion_matrix(y_test, predictions_all_countr)\n",
    "#tn, fp, fn, tp = confusion_matrix(wdf_dict['y_test'], wdf_dict['predictions_sk']).ravel()\n",
    "#print(tn, fp, fn, tp )\n",
    "print(accuracy_score(y_test, predictions_all_countr))\n",
    "print(precision_score(y_test, predictions_all_countr))\n",
    "\n",
    "sns.heatmap(cm_final, annot=True, fmt='d')"
   ]
  },
  {
   "cell_type": "code",
   "execution_count": 30,
   "metadata": {
    "colab": {
     "base_uri": "https://localhost:8080/"
    },
    "id": "nfw_o7vwHc_H",
    "outputId": "f3ed9ccb-5490-4ac9-b04b-2d93a5f8a3a3"
   },
   "outputs": [
    {
     "data": {
      "text/plain": [
       "0.576683198624413"
      ]
     },
     "execution_count": 30,
     "metadata": {},
     "output_type": "execute_result"
    }
   ],
   "source": [
    "from sklearn.metrics import f1_score\n",
    "f1_score(y_test, predictions_all_countr, average=\"macro\")"
   ]
  },
  {
   "cell_type": "markdown",
   "metadata": {
    "id": "PMPOYGrfnjZz"
   },
   "source": [
    "We can see that sport category has very low feature importance:"
   ]
  },
  {
   "cell_type": "code",
   "execution_count": 32,
   "metadata": {
    "colab": {
     "base_uri": "https://localhost:8080/",
     "height": 282
    },
    "id": "GeDQZg28qH_V",
    "outputId": "1dd57feb-5178-482b-f5cf-f269f7231dc2"
   },
   "outputs": [
    {
     "data": {
      "text/plain": [
       "<AxesSubplot:>"
      ]
     },
     "execution_count": 32,
     "metadata": {},
     "output_type": "execute_result"
    },
    {
     "data": {
      "image/png": "[encoded data removed]",
      "text/plain": [
       "<Figure size 432x288 with 1 Axes>"
      ]
     },
     "metadata": {
      "needs_background": "light"
     },
     "output_type": "display_data"
    }
   ],
   "source": [
    "feat_importances = pd.Series(clf_final.feature_importances_, index=X.columns)\n",
    "feat_importances.nlargest(5).plot(kind='barh')"
   ]
  }
 ],
 "metadata": {
  "colab": {
   "collapsed_sections": [],
   "name": "Final_Sports_ZD_Olympics_group_challenge.ipynb",
   "provenance": []
  },
  "kernelspec": {
   "display_name": "MLOps-dev",
   "language": "python",
   "name": "mlops-dev"
  },
  "language_info": {
   "codemirror_mode": {
    "name": "ipython",
    "version": 3
   },
   "file_extension": ".py",
   "mimetype": "text/x-python",
   "name": "python",
   "nbconvert_exporter": "python",
   "pygments_lexer": "ipython3",
   "version": "3.8.5"
  }
 },
 "nbformat": 4,
 "nbformat_minor": 4
}
